{
 "cells": [
  {
   "cell_type": "markdown",
   "id": "123456",
   "metadata": {},
   "source": [
    "<div style=\"text-align:left;font-size:2em\"><span style=\"font-weight:bolder;font-size:1.25em\">SP2273 | Learning Portfolio</span><br><br><span style=\"font-weight:bold;color:darkred\">Fundamentals (Need)</span></div>"
   ]
  },
  {
   "cell_type": "markdown",
   "id": "ca1cf75c",
   "metadata": {},
   "source": [
    "# What to expect in this chapter"
   ]
  },
  {
   "cell_type": "markdown",
   "id": "12026888",
   "metadata": {},
   "source": [
    "# 1 Functions"
   ]
  },
  {
   "cell_type": "code",
   "execution_count": 1,
   "id": "5e92999f",
   "metadata": {},
   "outputs": [
    {
     "name": "stdout",
     "output_type": "stream",
     "text": [
      "Hello world!\n"
     ]
    }
   ],
   "source": [
    "print('Hello world!')"
   ]
  },
  {
   "cell_type": "markdown",
   "id": "d1380d16",
   "metadata": {},
   "source": [
    "different colours for different parts of code\n",
    "green- defined function"
   ]
  },
  {
   "cell_type": "markdown",
   "id": "862ef03b",
   "metadata": {},
   "source": [
    "# 2 Remember"
   ]
  },
  {
   "cell_type": "markdown",
   "id": "09218001",
   "metadata": {},
   "source": [
    "# 3 Python is interpreted"
   ]
  },
  {
   "cell_type": "code",
   "execution_count": 2,
   "id": "85532e73",
   "metadata": {},
   "outputs": [
    {
     "name": "stdout",
     "output_type": "stream",
     "text": [
      "Hello World\n",
      "Hello World again\n"
     ]
    }
   ],
   "source": [
    "print('Hello World')\n",
    "print('Hello World again')"
   ]
  },
  {
   "cell_type": "markdown",
   "id": "fbd8d181",
   "metadata": {},
   "source": [
    "# 4 Python is sensitive."
   ]
  },
  {
   "cell_type": "code",
   "execution_count": 9,
   "id": "de138fe9",
   "metadata": {},
   "outputs": [
    {
     "name": "stdout",
     "output_type": "stream",
     "text": [
      "Hello world\n"
     ]
    },
    {
     "ename": "NameError",
     "evalue": "name 'Print' is not defined",
     "output_type": "error",
     "traceback": [
      "\u001b[1;31m---------------------------------------------------------------------------\u001b[0m",
      "\u001b[1;31mNameError\u001b[0m                                 Traceback (most recent call last)",
      "Cell \u001b[1;32mIn[9], line 2\u001b[0m\n\u001b[0;32m      1\u001b[0m \u001b[38;5;28mprint\u001b[39m(\u001b[38;5;124m'\u001b[39m\u001b[38;5;124mHello world\u001b[39m\u001b[38;5;124m'\u001b[39m)\n\u001b[1;32m----> 2\u001b[0m Print(\u001b[38;5;124m'\u001b[39m\u001b[38;5;124mHello World\u001b[39m\u001b[38;5;124m'\u001b[39m)\n",
      "\u001b[1;31mNameError\u001b[0m: name 'Print' is not defined"
     ]
    }
   ],
   "source": [
    "print('Hello world')\n",
    "Print('Hello World') #capital letter wont work"
   ]
  },
  {
   "cell_type": "markdown",
   "id": "127048be",
   "metadata": {},
   "source": [
    "# 5 Remember"
   ]
  },
  {
   "cell_type": "markdown",
   "id": "9c5121c2",
   "metadata": {},
   "source": [
    "# 6 Comments"
   ]
  },
  {
   "cell_type": "code",
   "execution_count": 13,
   "id": "e8b7a22e",
   "metadata": {},
   "outputs": [
    {
     "name": "stdout",
     "output_type": "stream",
     "text": [
      "test\n",
      "one\n"
     ]
    }
   ],
   "source": [
    "# This is a comment\n",
    "print('test')\n",
    "print('one') # This is a comment, will not be displayed\n",
    "                      # Another line"
   ]
  },
  {
   "cell_type": "code",
   "execution_count": 2,
   "id": "05dedb3c",
   "metadata": {},
   "outputs": [
    {
     "data": {
      "text/plain": [
       "'\\nmultiline\\ncommits\\n'"
      ]
     },
     "execution_count": 2,
     "metadata": {},
     "output_type": "execute_result"
    }
   ],
   "source": [
    "\"\"\"\n",
    "multiline\n",
    "commits\n",
    "\"\"\""
   ]
  },
  {
   "cell_type": "markdown",
   "id": "756a93cf-ba85-428f-beda-8e5e4d18de24",
   "metadata": {},
   "source": [
    "comments commonly used when creating functions as help() function auto looks for multiline comments to display to user"
   ]
  },
  {
   "cell_type": "markdown",
   "id": "74923175",
   "metadata": {},
   "source": [
    "# 7 Remember"
   ]
  },
  {
   "cell_type": "markdown",
   "id": "ce95fd3d",
   "metadata": {},
   "source": [
    "# 8 = is not the same as =="
   ]
  },
  {
   "cell_type": "code",
   "execution_count": 15,
   "id": "b15bc7c5",
   "metadata": {},
   "outputs": [],
   "source": [
    "name= 'Batman'"
   ]
  },
  {
   "cell_type": "code",
   "execution_count": 16,
   "id": "78b2f237",
   "metadata": {},
   "outputs": [
    {
     "data": {
      "text/plain": [
       "'Batman'"
      ]
     },
     "execution_count": 16,
     "metadata": {},
     "output_type": "execute_result"
    }
   ],
   "source": [
    "name"
   ]
  },
  {
   "cell_type": "code",
   "execution_count": 18,
   "id": "d571c9b2",
   "metadata": {},
   "outputs": [
    {
     "data": {
      "text/plain": [
       "True"
      ]
     },
     "execution_count": 18,
     "metadata": {},
     "output_type": "execute_result"
    }
   ],
   "source": [
    "name== 'Batman' #Asking a question as opposed to above which produces the answer"
   ]
  },
  {
   "cell_type": "markdown",
   "id": "8489fbcc",
   "metadata": {},
   "source": [
    "# 9 Remember"
   ]
  },
  {
   "cell_type": "markdown",
   "id": "44029316",
   "metadata": {},
   "source": [
    "# 10 Use if to make decisions"
   ]
  },
  {
   "cell_type": "code",
   "execution_count": 77,
   "id": "23620c93",
   "metadata": {},
   "outputs": [],
   "source": [
    "name= 'Barbie'"
   ]
  },
  {
   "cell_type": "code",
   "execution_count": 78,
   "id": "7ef156ee",
   "metadata": {},
   "outputs": [
    {
     "name": "stdout",
     "output_type": "stream",
     "text": [
      "Hello world!\n"
     ]
    }
   ],
   "source": [
    "if name== 'Batman':        #When true\n",
    "    print('Hello Batman!') #When true\n",
    "else:\n",
    "    print('Hello world!')     #When false\n",
    "    \n",
    "    #Code block"
   ]
  },
  {
   "cell_type": "code",
   "execution_count": 66,
   "id": "446227d3",
   "metadata": {},
   "outputs": [
    {
     "name": "stdout",
     "output_type": "stream",
     "text": [
      "Hello Batman!\n"
     ]
    }
   ],
   "source": [
    "name= 'Batman' #name is redefined, barbie is no longer valid\n",
    "if name== 'Batman':        #When true\n",
    "    print('Hello Batman!') #When true\n",
    "else:\n",
    "    print('Hello world!')     #When false\n",
    "    \n",
    "    #Code block"
   ]
  },
  {
   "cell_type": "markdown",
   "id": "93de95f0",
   "metadata": {},
   "source": [
    "# 11 Remember"
   ]
  },
  {
   "cell_type": "markdown",
   "id": "02c61abb",
   "metadata": {},
   "source": [
    "# 12 Indentations (spaces) are sooo IMPORTANT!"
   ]
  },
  {
   "cell_type": "code",
   "execution_count": 28,
   "id": "44800239",
   "metadata": {},
   "outputs": [
    {
     "ename": "IndentationError",
     "evalue": "unexpected indent (186375093.py, line 2)",
     "output_type": "error",
     "traceback": [
      "\u001b[1;36m  Cell \u001b[1;32mIn[28], line 2\u001b[1;36m\u001b[0m\n\u001b[1;33m    print(x)\u001b[0m\n\u001b[1;37m    ^\u001b[0m\n\u001b[1;31mIndentationError\u001b[0m\u001b[1;31m:\u001b[0m unexpected indent\n"
     ]
    }
   ],
   "source": [
    "x=10\n",
    "    print(x) #Indent for print will not work as it counts as a separate code block"
   ]
  },
  {
   "cell_type": "code",
   "execution_count": 29,
   "id": "48d81c9d",
   "metadata": {},
   "outputs": [
    {
     "name": "stdout",
     "output_type": "stream",
     "text": [
      "10\n"
     ]
    }
   ],
   "source": [
    "x=10\n",
    "print(x)"
   ]
  },
  {
   "cell_type": "markdown",
   "id": "3bc1f6bd",
   "metadata": {},
   "source": [
    "# 13 Remember"
   ]
  },
  {
   "cell_type": "markdown",
   "id": "c343f07e",
   "metadata": {},
   "source": [
    "# 14 ‘age’ is English, age is a variable."
   ]
  },
  {
   "cell_type": "code",
   "execution_count": 34,
   "id": "f9473526",
   "metadata": {},
   "outputs": [],
   "source": [
    "age=100 #be as descriptive as possible "
   ]
  },
  {
   "cell_type": "code",
   "execution_count": 35,
   "id": "86444d37",
   "metadata": {},
   "outputs": [
    {
     "name": "stdout",
     "output_type": "stream",
     "text": [
      "100\n",
      "age\n"
     ]
    }
   ],
   "source": [
    "print(age) #prints corresponding number\n",
    "print(\"age\") #prints word only not number"
   ]
  },
  {
   "cell_type": "code",
   "execution_count": 43,
   "id": "c75f61c7",
   "metadata": {},
   "outputs": [
    {
     "ename": "SyntaxError",
     "evalue": "invalid syntax (2335760659.py, line 1)",
     "output_type": "error",
     "traceback": [
      "\u001b[1;36m  Cell \u001b[1;32mIn[43], line 1\u001b[1;36m\u001b[0m\n\u001b[1;33m    if=10\u001b[0m\n\u001b[1;37m      ^\u001b[0m\n\u001b[1;31mSyntaxError\u001b[0m\u001b[1;31m:\u001b[0m invalid syntax\n"
     ]
    }
   ],
   "source": [
    "if=10 #python keywords IF FOR WHILE IS cannot be printed\n",
    "for=10"
   ]
  },
  {
   "cell_type": "markdown",
   "id": "7bcb2f30",
   "metadata": {},
   "source": [
    "# 15 Brackets"
   ]
  },
  {
   "cell_type": "code",
   "execution_count": 75,
   "id": "b754eb8e",
   "metadata": {},
   "outputs": [
    {
     "name": "stdout",
     "output_type": "stream",
     "text": [
      "Hello\n"
     ]
    }
   ],
   "source": [
    "print('Hello') #functions"
   ]
  },
  {
   "cell_type": "code",
   "execution_count": 49,
   "id": "87ada72c",
   "metadata": {},
   "outputs": [
    {
     "data": {
      "text/plain": [
       "15"
      ]
     },
     "execution_count": 49,
     "metadata": {},
     "output_type": "execute_result"
    }
   ],
   "source": [
    "(1+2)*5 #math"
   ]
  },
  {
   "cell_type": "code",
   "execution_count": 72,
   "id": "f15966fd",
   "metadata": {},
   "outputs": [],
   "source": [
    "#[] to list data"
   ]
  },
  {
   "cell_type": "code",
   "execution_count": 73,
   "id": "0a22e5ea",
   "metadata": {},
   "outputs": [],
   "source": [
    "py_list= [1,2,3,4,5] #1D list"
   ]
  },
  {
   "cell_type": "code",
   "execution_count": 50,
   "id": "6534602a",
   "metadata": {},
   "outputs": [],
   "source": [
    "py_list_2 = [               #2D list\n",
    "                [1, \"A\"],      \n",
    "                [2, \"B\"],\n",
    "                [3, \"C\"],\n",
    "                [4, \"D\"],\n",
    "                [5, \"E\"]\n",
    "            ]"
   ]
  },
  {
   "cell_type": "code",
   "execution_count": 74,
   "id": "695711ae",
   "metadata": {},
   "outputs": [],
   "source": [
    "#{} to store data"
   ]
  },
  {
   "cell_type": "code",
   "execution_count": 51,
   "id": "c7499193",
   "metadata": {},
   "outputs": [],
   "source": [
    "personal_info = {\n",
    "    'Names': 'Batman',\n",
    "    'Real Name': 'Bruce Wayne',\n",
    "    'Age': 55,\n",
    "    'Affiliation': 'Justice League',\n",
    "    'Universe': 'DC'\n",
    "}"
   ]
  },
  {
   "cell_type": "code",
   "execution_count": 52,
   "id": "f5456d1e",
   "metadata": {},
   "outputs": [
    {
     "data": {
      "text/plain": [
       "{'Names': 'Batman',\n",
       " 'Real Name': 'Bruce Wayne',\n",
       " 'Age': 55,\n",
       " 'Affiliation': 'Justice League',\n",
       " 'Universe': 'DC'}"
      ]
     },
     "execution_count": 52,
     "metadata": {},
     "output_type": "execute_result"
    }
   ],
   "source": [
    "personal_info"
   ]
  },
  {
   "cell_type": "markdown",
   "id": "06845e66",
   "metadata": {},
   "source": [
    "# 16 Giving Python superpowers with Packages"
   ]
  },
  {
   "cell_type": "markdown",
   "id": "698a3354",
   "metadata": {},
   "source": [
    "## 16.1 Some Context"
   ]
  },
  {
   "cell_type": "code",
   "execution_count": 53,
   "id": "f3a50a06",
   "metadata": {},
   "outputs": [],
   "source": [
    "#python doesnt understand maths"
   ]
  },
  {
   "cell_type": "code",
   "execution_count": 54,
   "id": "22d2878a",
   "metadata": {},
   "outputs": [
    {
     "data": {
      "text/plain": [
       "40.5"
      ]
     },
     "execution_count": 54,
     "metadata": {},
     "output_type": "execute_result"
    }
   ],
   "source": [
    "1*((2-3)+4)**5/6"
   ]
  },
  {
   "cell_type": "code",
   "execution_count": 55,
   "id": "bdbda412",
   "metadata": {},
   "outputs": [
    {
     "ename": "NameError",
     "evalue": "name 'sqrt' is not defined",
     "output_type": "error",
     "traceback": [
      "\u001b[1;31m---------------------------------------------------------------------------\u001b[0m",
      "\u001b[1;31mNameError\u001b[0m                                 Traceback (most recent call last)",
      "Cell \u001b[1;32mIn[55], line 1\u001b[0m\n\u001b[1;32m----> 1\u001b[0m sqrt(\u001b[38;5;241m4\u001b[39m)\n",
      "\u001b[1;31mNameError\u001b[0m: name 'sqrt' is not defined"
     ]
    }
   ],
   "source": [
    "sqrt(4) #math functions dont work"
   ]
  },
  {
   "cell_type": "code",
   "execution_count": 5,
   "id": "8a313fd6-3a60-4d92-9835-23895e367279",
   "metadata": {},
   "outputs": [
    {
     "data": {
      "text/plain": [
       "2.0"
      ]
     },
     "execution_count": 5,
     "metadata": {},
     "output_type": "execute_result"
    }
   ],
   "source": [
    "4**0.5\n",
    "#calculate sqrt without importing math package, use exponentiation operator **\n",
    "#**0.5 means square root"
   ]
  },
  {
   "cell_type": "markdown",
   "id": "82c1cf2c-722e-48d8-be9b-7cd71aaa6fb1",
   "metadata": {},
   "source": [
    "sqrt() doesnt work not because python doesnt understand math but because no one has defined the function sqrt() -> NameError nothing is assigned to the name \"sqrt\""
   ]
  },
  {
   "cell_type": "markdown",
   "id": "d71a0766",
   "metadata": {},
   "source": [
    "## 16.2 Importing the math package"
   ]
  },
  {
   "cell_type": "code",
   "execution_count": 56,
   "id": "266d8a05",
   "metadata": {},
   "outputs": [],
   "source": [
    "import math #add functions from math package"
   ]
  },
  {
   "cell_type": "code",
   "execution_count": 57,
   "id": "7ef685a8",
   "metadata": {},
   "outputs": [
    {
     "data": {
      "text/plain": [
       "2.0"
      ]
     },
     "execution_count": 57,
     "metadata": {},
     "output_type": "execute_result"
    }
   ],
   "source": [
    "math.sqrt(4)"
   ]
  },
  {
   "cell_type": "markdown",
   "id": "123187fc",
   "metadata": {},
   "source": [
    "## 16.3 Importing the numpy package"
   ]
  },
  {
   "cell_type": "code",
   "execution_count": 60,
   "id": "1dce8e5e",
   "metadata": {},
   "outputs": [],
   "source": [
    "import numpy as np #add functions from numpy package"
   ]
  },
  {
   "cell_type": "code",
   "execution_count": 63,
   "id": "7f78ba5f",
   "metadata": {},
   "outputs": [
    {
     "data": {
      "text/plain": [
       "array([2., 3., 4.])"
      ]
     },
     "execution_count": 63,
     "metadata": {},
     "output_type": "execute_result"
    }
   ],
   "source": [
    "np.sqrt([4,9,16])"
   ]
  },
  {
   "cell_type": "markdown",
   "id": "713094c5",
   "metadata": {},
   "source": [
    "**if kernel restarts, need to re-import the packages (math, numpy) again to teach it**"
   ]
  },
  {
   "cell_type": "markdown",
   "id": "577a2dca",
   "metadata": {},
   "source": [
    "## 16.4 Why so many packages?"
   ]
  },
  {
   "cell_type": "markdown",
   "id": "3e1357d5",
   "metadata": {},
   "source": [
    "# 17 Remember"
   ]
  },
  {
   "cell_type": "markdown",
   "id": "845483e0",
   "metadata": {},
   "source": [
    "# 18 The dot (.)"
   ]
  },
  {
   "cell_type": "code",
   "execution_count": 67,
   "id": "4fcd3cdd",
   "metadata": {},
   "outputs": [
    {
     "data": {
      "text/plain": [
       "'APPLE'"
      ]
     },
     "execution_count": 67,
     "metadata": {},
     "output_type": "execute_result"
    }
   ],
   "source": [
    "'apple'.upper() #capital letters"
   ]
  },
  {
   "cell_type": "code",
   "execution_count": 68,
   "id": "3fc0e5a6",
   "metadata": {},
   "outputs": [
    {
     "data": {
      "text/plain": [
       "'Apple'"
      ]
     },
     "execution_count": 68,
     "metadata": {},
     "output_type": "execute_result"
    }
   ],
   "source": [
    "'apple'.title() #capital for the first alphabet"
   ]
  },
  {
   "cell_type": "code",
   "execution_count": 30,
   "id": "a8b7c319",
   "metadata": {},
   "outputs": [
    {
     "data": {
      "text/plain": [
       "['Hello', 'good', 'morning']"
      ]
     },
     "execution_count": 30,
     "metadata": {},
     "output_type": "execute_result"
    }
   ],
   "source": [
    "\"Hello good morning\".split() #sentence into its individual words"
   ]
  },
  {
   "cell_type": "markdown",
   "id": "e925b9ea-996d-4419-bb0e-bfa55ded8cb0",
   "metadata": {},
   "source": [
    ".split(argument)\n",
    "if no argument in the brackets (), default to spaces"
   ]
  },
  {
   "cell_type": "code",
   "execution_count": 29,
   "id": "d29ee524-66b0-492a-968e-caa72698c843",
   "metadata": {},
   "outputs": [
    {
     "data": {
      "text/plain": [
       "['', 'bunchofch', 'r', 'ctershere']"
      ]
     },
     "execution_count": 29,
     "metadata": {},
     "output_type": "execute_result"
    }
   ],
   "source": [
    "\"abunchofcharactershere\".split('a') #use a character to split the string, here at 'a'"
   ]
  },
  {
   "cell_type": "code",
   "execution_count": 28,
   "id": "13071b86-9e2b-4ec6-99d8-066dbb16bbf5",
   "metadata": {},
   "outputs": [
    {
     "data": {
      "text/plain": [
       "['1234', '1234', '1234', '']"
      ]
     },
     "execution_count": 28,
     "metadata": {},
     "output_type": "execute_result"
    }
   ],
   "source": [
    "\"123451234512345\".split('5') #use one number of split the string, here at '5'"
   ]
  },
  {
   "cell_type": "code",
   "execution_count": null,
   "id": "2037e14f",
   "metadata": {},
   "outputs": [],
   "source": [
    "x=1y+10"
   ]
  },
  {
   "cell_type": "code",
   "execution_count": 70,
   "id": "150738a1",
   "metadata": {},
   "outputs": [
    {
     "data": {
      "text/plain": [
       "10"
      ]
     },
     "execution_count": 70,
     "metadata": {},
     "output_type": "execute_result"
    }
   ],
   "source": [
    "x.real #real number of equation"
   ]
  },
  {
   "cell_type": "code",
   "execution_count": 71,
   "id": "67095ebe",
   "metadata": {},
   "outputs": [
    {
     "data": {
      "text/plain": [
       "0"
      ]
     },
     "execution_count": 71,
     "metadata": {},
     "output_type": "execute_result"
    }
   ],
   "source": [
    "x.imag #imaginary number of equation"
   ]
  },
  {
   "cell_type": "markdown",
   "id": "f05973a3",
   "metadata": {},
   "source": [
    "**dot(.)= ownership"
   ]
  }
 ],
 "metadata": {
  "kernelspec": {
   "display_name": "Python 3 (ipykernel)",
   "language": "python",
   "name": "python3"
  },
  "language_info": {
   "codemirror_mode": {
    "name": "ipython",
    "version": 3
   },
   "file_extension": ".py",
   "mimetype": "text/x-python",
   "name": "python",
   "nbconvert_exporter": "python",
   "pygments_lexer": "ipython3",
   "version": "3.11.5"
  },
  "toc": {
   "base_numbering": 1,
   "nav_menu": {},
   "number_sections": true,
   "sideBar": true,
   "skip_h1_title": false,
   "title_cell": "Table of Contents",
   "title_sidebar": "Contents",
   "toc_cell": false,
   "toc_position": {},
   "toc_section_display": true,
   "toc_window_display": false
  },
  "vscode": {
   "interpreter": {
    "hash": "31f2aee4e71d21fbe5cf8b01ff0e069b9275f58929596ceb00d14d90e3e16cd6"
   }
  }
 },
 "nbformat": 4,
 "nbformat_minor": 5
}
