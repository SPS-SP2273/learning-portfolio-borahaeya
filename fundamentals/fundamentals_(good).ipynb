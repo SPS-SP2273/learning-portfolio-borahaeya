{
 "cells": [
  {
   "cell_type": "markdown",
   "id": "123456",
   "metadata": {},
   "source": [
    "<div style=\"text-align:left;font-size:2em\"><span style=\"font-weight:bolder;font-size:1.25em\">SP2273 | Learning Portfolio</span><br><br><span style=\"font-weight:bold;color:darkred\">Fundamentals (Good)</span></div>"
   ]
  },
  {
   "cell_type": "markdown",
   "id": "99661210",
   "metadata": {},
   "source": [
    "# What to expect in this chapter"
   ]
  },
  {
   "cell_type": "markdown",
   "id": "a792750d",
   "metadata": {},
   "source": [
    "# 1 There is more to if"
   ]
  },
  {
   "cell_type": "code",
   "execution_count": 1,
   "id": "128c1f94",
   "metadata": {},
   "outputs": [
    {
     "name": "stdout",
     "output_type": "stream",
     "text": [
      "Hello Girl\n"
     ]
    }
   ],
   "source": [
    "name= 'Girl'\n",
    "\n",
    "if name== 'Girl':\n",
    "    print('Hello Girl')\n",
    "elif name== 'Boy': #else if, AKA another option \n",
    "    print('Hello Boy')\n",
    "else:\n",
    "    print('Hello You')"
   ]
  },
  {
   "cell_type": "markdown",
   "id": "d4ca738c",
   "metadata": {},
   "source": [
    "# 2 Asking questions"
   ]
  },
  {
   "cell_type": "code",
   "execution_count": 2,
   "id": "d4084a41",
   "metadata": {},
   "outputs": [],
   "source": [
    "fruits= ['apple', 'banana', 'strawberry']\n",
    "vegetables= ['broccoli', 'lettuce', 'kale']"
   ]
  },
  {
   "cell_type": "code",
   "execution_count": 3,
   "id": "6873a6c3",
   "metadata": {},
   "outputs": [
    {
     "data": {
      "text/plain": [
       "True"
      ]
     },
     "execution_count": 3,
     "metadata": {},
     "output_type": "execute_result"
    }
   ],
   "source": [
    "'apple' in fruits"
   ]
  },
  {
   "cell_type": "code",
   "execution_count": 4,
   "id": "ea9577e1",
   "metadata": {},
   "outputs": [
    {
     "data": {
      "text/plain": [
       "False"
      ]
     },
     "execution_count": 4,
     "metadata": {},
     "output_type": "execute_result"
    }
   ],
   "source": [
    "'papaya' in fruits"
   ]
  },
  {
   "cell_type": "code",
   "execution_count": 5,
   "id": "825f38fc",
   "metadata": {},
   "outputs": [
    {
     "data": {
      "text/plain": [
       "True"
      ]
     },
     "execution_count": 5,
     "metadata": {},
     "output_type": "execute_result"
    }
   ],
   "source": [
    "'plum' not in fruits"
   ]
  },
  {
   "cell_type": "code",
   "execution_count": 6,
   "id": "8a517441",
   "metadata": {},
   "outputs": [
    {
     "data": {
      "text/plain": [
       "True"
      ]
     },
     "execution_count": 6,
     "metadata": {},
     "output_type": "execute_result"
    }
   ],
   "source": [
    "('apple' in fruits) and ('lettuce') in vegetables"
   ]
  },
  {
   "cell_type": "code",
   "execution_count": 7,
   "id": "63877c66",
   "metadata": {},
   "outputs": [
    {
     "data": {
      "text/plain": [
       "True"
      ]
     },
     "execution_count": 7,
     "metadata": {},
     "output_type": "execute_result"
    }
   ],
   "source": [
    "('apple' in fruits) or ('lettuce') in vegetables"
   ]
  },
  {
   "cell_type": "code",
   "execution_count": 8,
   "id": "09dced7d",
   "metadata": {},
   "outputs": [
    {
     "data": {
      "text/plain": [
       "True"
      ]
     },
     "execution_count": 8,
     "metadata": {},
     "output_type": "execute_result"
    }
   ],
   "source": [
    "'bro' in 'broccoli'"
   ]
  },
  {
   "cell_type": "code",
   "execution_count": 9,
   "id": "601eb1ea",
   "metadata": {},
   "outputs": [
    {
     "data": {
      "text/plain": [
       "False"
      ]
     },
     "execution_count": 9,
     "metadata": {},
     "output_type": "execute_result"
    }
   ],
   "source": [
    "'apples' > 'oranges' #letters represented as numbers"
   ]
  },
  {
   "cell_type": "markdown",
   "id": "c704a413",
   "metadata": {},
   "source": [
    "**not in and or** *useful keywords*"
   ]
  },
  {
   "cell_type": "markdown",
   "id": "7d5e64b6",
   "metadata": {},
   "source": [
    "# 3 Remember"
   ]
  },
  {
   "cell_type": "markdown",
   "id": "accc4cf7",
   "metadata": {},
   "source": [
    "## 3.1 Asking Math questions"
   ]
  },
  {
   "cell_type": "code",
   "execution_count": 13,
   "id": "23831886",
   "metadata": {},
   "outputs": [
    {
     "data": {
      "text/plain": [
       "False"
      ]
     },
     "execution_count": 13,
     "metadata": {},
     "output_type": "execute_result"
    }
   ],
   "source": [
    "x= 5\n",
    "5 < x < 15 #need to first define x before asking a question"
   ]
  },
  {
   "cell_type": "code",
   "execution_count": 10,
   "id": "64e98aee-04da-400a-946b-ca756ce36e91",
   "metadata": {},
   "outputs": [
    {
     "data": {
      "text/plain": [
       "True"
      ]
     },
     "execution_count": 10,
     "metadata": {},
     "output_type": "execute_result"
    }
   ],
   "source": [
    "x= 5\n",
    "5 <= x <= 15"
   ]
  },
  {
   "cell_type": "markdown",
   "id": "970489cc",
   "metadata": {},
   "source": [
    "# 4 Python stores information in different formats or types"
   ]
  },
  {
   "cell_type": "code",
   "execution_count": 13,
   "id": "b6716f9a",
   "metadata": {},
   "outputs": [
    {
     "name": "stdout",
     "output_type": "stream",
     "text": [
      "1 <class 'int'>\n"
     ]
    }
   ],
   "source": [
    "x= int(1.234) #integer\n",
    "print(x, type(x)) #will drop decimal places in print"
   ]
  },
  {
   "cell_type": "code",
   "execution_count": 14,
   "id": "073c5aeb",
   "metadata": {},
   "outputs": [
    {
     "name": "stdout",
     "output_type": "stream",
     "text": [
      "1.234 <class 'str'>\n"
     ]
    }
   ],
   "source": [
    "x= str(1.234) #english word\n",
    "print(x, type(x))"
   ]
  },
  {
   "cell_type": "code",
   "execution_count": 15,
   "id": "c0cae664",
   "metadata": {},
   "outputs": [
    {
     "name": "stdout",
     "output_type": "stream",
     "text": [
      "1.234 <class 'float'>\n"
     ]
    }
   ],
   "source": [
    "x= float(1.234) #decimal number\n",
    "print(x, type(x))"
   ]
  },
  {
   "cell_type": "code",
   "execution_count": 16,
   "id": "afa7050a",
   "metadata": {},
   "outputs": [
    {
     "name": "stdout",
     "output_type": "stream",
     "text": [
      "(1.234+0j) <class 'complex'>\n"
     ]
    }
   ],
   "source": [
    "x= complex(1.234) #complex number which includes imaginary part\n",
    "print(x, type(x))"
   ]
  },
  {
   "cell_type": "markdown",
   "id": "71f0057f",
   "metadata": {},
   "source": [
    "# 5 Never compare floats directly"
   ]
  },
  {
   "cell_type": "markdown",
   "id": "e662a005",
   "metadata": {},
   "source": [
    "## 5.1 The Problem"
   ]
  },
  {
   "cell_type": "code",
   "execution_count": 17,
   "id": "588c84d1",
   "metadata": {},
   "outputs": [
    {
     "data": {
      "text/plain": [
       "False"
      ]
     },
     "execution_count": 17,
     "metadata": {},
     "output_type": "execute_result"
    }
   ],
   "source": [
    "a=0.1\n",
    "a3=0.3\n",
    "a*3==a3 #decimal points cannot be stored -> errors"
   ]
  },
  {
   "cell_type": "code",
   "execution_count": 18,
   "id": "a7859d11",
   "metadata": {},
   "outputs": [
    {
     "data": {
      "text/plain": [
       "'0.29999999999999999'"
      ]
     },
     "execution_count": 18,
     "metadata": {},
     "output_type": "execute_result"
    }
   ],
   "source": [
    "f'{0.3:.17f}'"
   ]
  },
  {
   "cell_type": "markdown",
   "id": "81ab9f3d",
   "metadata": {},
   "source": [
    "## 5.2 A solution"
   ]
  },
  {
   "cell_type": "code",
   "execution_count": 20,
   "id": "8296c571",
   "metadata": {},
   "outputs": [
    {
     "data": {
      "text/plain": [
       "True"
      ]
     },
     "execution_count": 20,
     "metadata": {},
     "output_type": "execute_result"
    }
   ],
   "source": [
    "(a*3 -a3) < 1E-10 #instead of finding equality to zero, compare with a small number"
   ]
  },
  {
   "cell_type": "code",
   "execution_count": 21,
   "id": "5db0aada",
   "metadata": {},
   "outputs": [
    {
     "data": {
      "text/plain": [
       "True"
      ]
     },
     "execution_count": 21,
     "metadata": {},
     "output_type": "execute_result"
    }
   ],
   "source": [
    "abs(a*3 -a3) < 1E-10 #abs= absolute value"
   ]
  },
  {
   "cell_type": "code",
   "execution_count": 26,
   "id": "9769ec24",
   "metadata": {},
   "outputs": [],
   "source": [
    "import numpy as np"
   ]
  },
  {
   "cell_type": "code",
   "execution_count": 28,
   "id": "210dff08",
   "metadata": {},
   "outputs": [
    {
     "data": {
      "text/plain": [
       "True"
      ]
     },
     "execution_count": 28,
     "metadata": {},
     "output_type": "execute_result"
    }
   ],
   "source": [
    "np.isclose(a*3, a3) #numpy can detect how close 2 values are"
   ]
  },
  {
   "cell_type": "markdown",
   "id": "fe0db8da",
   "metadata": {},
   "source": [
    "# 6 Combining English and variables"
   ]
  },
  {
   "cell_type": "code",
   "execution_count": 10,
   "id": "b815e0cd",
   "metadata": {},
   "outputs": [
    {
     "name": "stdout",
     "output_type": "stream",
     "text": [
      "Hello Batman!\n"
     ]
    }
   ],
   "source": [
    "name = \"Batman\"\n",
    "print(f\"Hello {name}!\")"
   ]
  },
  {
   "cell_type": "code",
   "execution_count": 12,
   "id": "a9ba742b",
   "metadata": {},
   "outputs": [
    {
     "name": "stdout",
     "output_type": "stream",
     "text": [
      "Hello BATMAN!\n"
     ]
    }
   ],
   "source": [
    "name = \"Batman\"\n",
    "print(f\"Hello {name.upper()}!\") #name in capitals"
   ]
  },
  {
   "cell_type": "markdown",
   "id": "5b76eb47",
   "metadata": {},
   "source": [
    "name = \"word\"\n",
    "\n",
    "f\" or f' will print same results\n",
    "MUST BE CONSISTENT: open and close with the same type of quotes, \"\" and ''"
   ]
  },
  {
   "cell_type": "code",
   "execution_count": 48,
   "id": "dd3645a3",
   "metadata": {},
   "outputs": [
    {
     "name": "stdout",
     "output_type": "stream",
     "text": [
      "The value of 10 squared is 100!\n"
     ]
    }
   ],
   "source": [
    "x = 10\n",
    "print(f'The value of {x} squared is {x**2}!')"
   ]
  },
  {
   "cell_type": "markdown",
   "id": "bb1b0b7e",
   "metadata": {},
   "source": [
    "f {} is f-string/interpolation\n",
    "\n",
    "x**2 means x^2"
   ]
  },
  {
   "cell_type": "code",
   "execution_count": 61,
   "id": "f3caa69e",
   "metadata": {},
   "outputs": [
    {
     "name": "stdout",
     "output_type": "stream",
     "text": [
      "a b c.\n",
      "                        a b c.\n",
      "            a b c.            \n",
      "a b c.                        \n"
     ]
    }
   ],
   "source": [
    "#f strings format text\n",
    "text = 'a b c.'\n",
    "print(f'{text}')\n",
    "print(f'{text:>30}') #block of 30 characters :> aligned right\n",
    "print(f'{text:^30}') #block of 30 characters :^ aligned centre\n",
    "print(f'{text:<30}') #block of 30 characters :< aligned left"
   ]
  },
  {
   "cell_type": "code",
   "execution_count": 62,
   "id": "e6881fa8",
   "metadata": {
    "scrolled": true
   },
   "outputs": [
    {
     "name": "stdout",
     "output_type": "stream",
     "text": [
      "pi^3 to 6dp is 31.006277\n",
      "pi^3 to 6dp is 3.100628e+01\n"
     ]
    }
   ],
   "source": [
    "#f strings format numbers\n",
    "import numpy as np\n",
    "print(f'pi^3 to 6dp is {np.pi**3:.6f}') #.6f means 6dp\n",
    "print(f'pi^3 to 6dp is {np.pi**3:.6e}') #.6e means scientific notation"
   ]
  },
  {
   "cell_type": "markdown",
   "id": "0d52d69a",
   "metadata": {},
   "source": [
    "## 6.1 Structure of f-strings"
   ]
  },
  {
   "cell_type": "markdown",
   "id": "41bd2d2f",
   "metadata": {},
   "source": [
    "print(f'{**X:>0Y.ZW**}')\n",
    "\n",
    "X : format variable -> number/text\n",
    "\n",
    "(>) : alignment left (<) right (>) centre (^)\n",
    "\n",
    "0 : act as a space\n",
    "\n",
    "Y : total number of characters\n",
    "\n",
    "Z : no of dp\n",
    "\n",
    "W : type of variable float (f) integer (d) string (s) python to figure out (g)"
   ]
  },
  {
   "cell_type": "markdown",
   "id": "7b36dfb6",
   "metadata": {},
   "source": [
    "# 7 Escape sequences"
   ]
  },
  {
   "cell_type": "code",
   "execution_count": 23,
   "id": "b97ee5b9",
   "metadata": {},
   "outputs": [
    {
     "name": "stdout",
     "output_type": "stream",
     "text": [
      "Line 1\n",
      "\tLine 2\n",
      "\t\tLine 3\n",
      "\t\t\tLine 4\n"
     ]
    }
   ],
   "source": [
    "print('Line 1\\n\\tLine 2\\n\\t\\tLine 3\\n\\t\\t\\tLine 4')\n",
    "#\\n breakline \n",
    "#\\t horizontal tab with indent\n",
    "#\\n breakline + \\t tab moves text to the next line with indent"
   ]
  },
  {
   "cell_type": "code",
   "execution_count": 42,
   "id": "c3794d99",
   "metadata": {},
   "outputs": [
    {
     "name": "stdout",
     "output_type": "stream",
     "text": [
      "Line ' axis\n",
      "Line \\ axis\n",
      "Line\n",
      "axis\n",
      "Line\taxis\n"
     ]
    }
   ],
   "source": [
    "print('Line \\' axis')\n",
    "print('Line \\\\ axis')\n",
    "print('Line\\naxis')\n",
    "print('Line\\taxis')"
   ]
  },
  {
   "cell_type": "code",
   "execution_count": 3,
   "id": "8d537092",
   "metadata": {},
   "outputs": [
    {
     "name": "stdout",
     "output_type": "stream",
     "text": [
      "I'm a student\n",
      "I'm a student\n"
     ]
    }
   ],
   "source": [
    "print(\"I'm a student\") #need \" to print apostrophe '\n",
    "print('I\\'m a student') #can use ' + escape sequence \\'  to print apostrophe '"
   ]
  },
  {
   "cell_type": "markdown",
   "id": "fbb85bae",
   "metadata": {},
   "source": [
    "# 8 Computers read = from Right to Left!"
   ]
  },
  {
   "cell_type": "code",
   "execution_count": 20,
   "id": "87722215",
   "metadata": {},
   "outputs": [
    {
     "name": "stdout",
     "output_type": "stream",
     "text": [
      "42\n"
     ]
    }
   ],
   "source": [
    "x = 40\n",
    "y = x + 2\n",
    "print(y)"
   ]
  },
  {
   "cell_type": "code",
   "execution_count": 21,
   "id": "e362d5be",
   "metadata": {},
   "outputs": [
    {
     "name": "stdout",
     "output_type": "stream",
     "text": [
      "42\n"
     ]
    }
   ],
   "source": [
    "y = 40\n",
    "y = y + 2 #only works in programming\n",
    "print(y)"
   ]
  },
  {
   "cell_type": "code",
   "execution_count": 22,
   "id": "d44ec8b6",
   "metadata": {},
   "outputs": [
    {
     "name": "stdout",
     "output_type": "stream",
     "text": [
      "20\n"
     ]
    }
   ],
   "source": [
    "x = y = 10 #this syntax works for 2 unknowns\n",
    "z = x + y\n",
    "print(z)"
   ]
  },
  {
   "cell_type": "markdown",
   "id": "521fd205",
   "metadata": {},
   "source": [
    "# 9 Shorter and Cleaner Code"
   ]
  },
  {
   "cell_type": "code",
   "execution_count": 18,
   "id": "b584a7fc",
   "metadata": {},
   "outputs": [
    {
     "data": {
      "text/plain": [
       "42"
      ]
     },
     "execution_count": 18,
     "metadata": {},
     "output_type": "execute_result"
    }
   ],
   "source": [
    "y = 40\n",
    "y = y + 2\n",
    "y"
   ]
  },
  {
   "cell_type": "code",
   "execution_count": 19,
   "id": "ddf8042b",
   "metadata": {
    "scrolled": true
   },
   "outputs": [
    {
     "data": {
      "text/plain": [
       "42"
      ]
     },
     "execution_count": 19,
     "metadata": {},
     "output_type": "execute_result"
    }
   ],
   "source": [
    "y = 40\n",
    "y += 2 #y+2 -> y+=2 SAME MEANING\n",
    "y"
   ]
  },
  {
   "cell_type": "code",
   "execution_count": 30,
   "id": "db3ba55e",
   "metadata": {},
   "outputs": [
    {
     "name": "stdout",
     "output_type": "stream",
     "text": [
      "38\n"
     ]
    },
    {
     "data": {
      "text/plain": [
       "80"
      ]
     },
     "execution_count": 30,
     "metadata": {},
     "output_type": "execute_result"
    }
   ],
   "source": [
    "y = 40\n",
    "y -= 2\n",
    "print(y) #with or without print it will also produce the resulting number\n",
    "\n",
    "y = 40\n",
    "y *= 2\n",
    "y"
   ]
  },
  {
   "cell_type": "code",
   "execution_count": 33,
   "id": "b9c58603",
   "metadata": {},
   "outputs": [
    {
     "data": {
      "text/plain": [
       "20.0"
      ]
     },
     "execution_count": 33,
     "metadata": {},
     "output_type": "execute_result"
    }
   ],
   "source": [
    "y = 40\n",
    "y /= 2\n",
    "y"
   ]
  }
 ],
 "metadata": {
  "kernelspec": {
   "display_name": "Python 3 (ipykernel)",
   "language": "python",
   "name": "python3"
  },
  "language_info": {
   "codemirror_mode": {
    "name": "ipython",
    "version": 3
   },
   "file_extension": ".py",
   "mimetype": "text/x-python",
   "name": "python",
   "nbconvert_exporter": "python",
   "pygments_lexer": "ipython3",
   "version": "3.11.5"
  },
  "toc": {
   "base_numbering": 1,
   "nav_menu": {},
   "number_sections": true,
   "sideBar": true,
   "skip_h1_title": false,
   "title_cell": "Table of Contents",
   "title_sidebar": "Contents",
   "toc_cell": false,
   "toc_position": {},
   "toc_section_display": true,
   "toc_window_display": false
  },
  "vscode": {
   "interpreter": {
    "hash": "31f2aee4e71d21fbe5cf8b01ff0e069b9275f58929596ceb00d14d90e3e16cd6"
   }
  }
 },
 "nbformat": 4,
 "nbformat_minor": 5
}
