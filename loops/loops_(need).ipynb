{
 "cells": [
  {
   "attachments": {},
   "cell_type": "markdown",
   "id": "123456",
   "metadata": {},
   "source": [
    "<div style=\"text-align:left;font-size:2em\"><span style=\"font-weight:bolder;font-size:1.25em\">SP2273 | Learning Portfolio</span><br><br><span style=\"font-weight:bold;color:darkred\">Loops (Need)</span></div>"
   ]
  },
  {
   "attachments": {},
   "cell_type": "markdown",
   "id": "3ea5a853",
   "metadata": {},
   "source": [
    "# What to expect in this chapter"
   ]
  },
  {
   "attachments": {},
   "cell_type": "markdown",
   "id": "8d2333a0",
   "metadata": {},
   "source": [
    "# 1 The for iterator"
   ]
  },
  {
   "cell_type": "markdown",
   "id": "fd0105e3-946b-4b1a-92f2-44452a5437a6",
   "metadata": {},
   "source": [
    "## Poor example"
   ]
  },
  {
   "cell_type": "code",
   "execution_count": 1,
   "id": "37b8a91a-663a-47aa-a8cf-114cf01a504c",
   "metadata": {},
   "outputs": [],
   "source": [
    "real_names= [\"Natasha\", \"Tony\", \"Stephen\"]"
   ]
  },
  {
   "cell_type": "code",
   "execution_count": 17,
   "id": "507d5c73-f04f-47bd-bc56-e91f00a9ab42",
   "metadata": {},
   "outputs": [
    {
     "name": "stdout",
     "output_type": "stream",
     "text": [
      "Natasha is a Marvel superhero\n"
     ]
    }
   ],
   "source": [
    "name= real_names[0] #print index 0 element (1st position)\n",
    "print(f\"{name} is a Marvel superhero\")"
   ]
  },
  {
   "attachments": {},
   "cell_type": "markdown",
   "id": "fee40bf5",
   "metadata": {},
   "source": [
    "## 1.1 for with a list"
   ]
  },
  {
   "cell_type": "code",
   "execution_count": 18,
   "id": "59be323c-a8bf-433e-a57e-9a015a1ab880",
   "metadata": {},
   "outputs": [
    {
     "name": "stdout",
     "output_type": "stream",
     "text": [
      "Natasha is a Marvel superhero\n",
      "Tony is a Marvel superhero\n",
      "Stephen is a Marvel superhero\n"
     ]
    }
   ],
   "source": [
    "for name in real_names:\n",
    "    print(f\"{name} is a Marvel superhero\")\n",
    "#assigns NAME the value of each element of the list\n",
    "#then runs code black using value of NAME\n",
    "#code block uses : "
   ]
  },
  {
   "attachments": {},
   "cell_type": "markdown",
   "id": "d3a8359b",
   "metadata": {},
   "source": [
    "## 1.2 for with enumerate"
   ]
  },
  {
   "cell_type": "code",
   "execution_count": 4,
   "id": "f1ee67b8-7f43-4395-9810-3936e5c3546d",
   "metadata": {},
   "outputs": [],
   "source": [
    "super_names= [\"Black Widow\", \"Iron Man\", \"Doctor Strange\"]\n",
    "real_names= [\"Natasha\", \"Tony\", \"Stephen\"]\n",
    "#FOR loop only accepts 1 list, use ENUMERATE to access data in both lists"
   ]
  },
  {
   "cell_type": "code",
   "execution_count": 19,
   "id": "526012fe-ed58-41e4-a7eb-9c3ec10379f6",
   "metadata": {},
   "outputs": [
    {
     "name": "stdout",
     "output_type": "stream",
     "text": [
      "0: Natasha is a Marvel superhero\n",
      "1: Tony is a Marvel superhero\n",
      "2: Stephen is a Marvel superhero\n"
     ]
    }
   ],
   "source": [
    "for count, name in enumerate(real_names):\n",
    "    print(f'{count}: {name} is a Marvel superhero')\n",
    "#enumerate() keeps count: gives elements + number"
   ]
  },
  {
   "cell_type": "code",
   "execution_count": 7,
   "id": "23072ce8-1cb4-46b6-a9bc-df4fe3755f2e",
   "metadata": {},
   "outputs": [
    {
     "name": "stdout",
     "output_type": "stream",
     "text": [
      "100: Natasha is a Marvel superhero\n",
      "101: Tony is a Marvel superhero\n",
      "102: Stephen is a Marvel superhero\n"
     ]
    }
   ],
   "source": [
    "for count, name in enumerate(real_names,100):\n",
    "    print(f'{count}: {name} is a Marvel superhero')\n",
    "#by default enumerate starts counting from 0, can change to start from e.g. 100"
   ]
  },
  {
   "cell_type": "code",
   "execution_count": 20,
   "id": "2e99ad0c-45b5-40cf-9d47-02c1eb750e13",
   "metadata": {},
   "outputs": [
    {
     "name": "stdout",
     "output_type": "stream",
     "text": [
      "Natasha is Black Widow\n",
      "Tony is Iron Man\n",
      "Stephen is Doctor Strange\n"
     ]
    }
   ],
   "source": [
    "for index, name in enumerate(real_names):\n",
    "    superhero_name= super_names[index]\n",
    "    print(f'{name} is {superhero_name}')\n",
    "#writes real name with superhero name"
   ]
  },
  {
   "attachments": {},
   "cell_type": "markdown",
   "id": "305f6574",
   "metadata": {},
   "source": [
    "## 1.3 for with range"
   ]
  },
  {
   "cell_type": "code",
   "execution_count": 10,
   "id": "55755c45-050d-4f3d-93b8-1e2cc9e42cd6",
   "metadata": {},
   "outputs": [
    {
     "name": "stdout",
     "output_type": "stream",
     "text": [
      "0\n",
      "1\n",
      "2\n",
      "3\n",
      "4\n"
     ]
    }
   ],
   "source": [
    "#range() to get 'for' loop to run a given number of loops\n",
    "for i in range(5): #run i with 5 loops from 0\n",
    "    print(i)"
   ]
  },
  {
   "cell_type": "code",
   "execution_count": 9,
   "id": "8bdcf76b-c2b8-4ada-b8c4-4f11fde7d10e",
   "metadata": {},
   "outputs": [
    {
     "name": "stdout",
     "output_type": "stream",
     "text": [
      "5\n",
      "6\n",
      "7\n",
      "8\n",
      "9\n"
     ]
    }
   ],
   "source": [
    "for i in range(5,10): #5 elements from 5\n",
    "    print(i)"
   ]
  },
  {
   "cell_type": "code",
   "execution_count": 11,
   "id": "b0ef92f6-f5d4-4496-93d3-c98b1c58957d",
   "metadata": {},
   "outputs": [
    {
     "name": "stdout",
     "output_type": "stream",
     "text": [
      "1\n",
      "4\n",
      "7\n"
     ]
    }
   ],
   "source": [
    "for i in range(1,10,3): #from 1-10 in 3 steps\n",
    "    print(i)"
   ]
  },
  {
   "cell_type": "code",
   "execution_count": 2,
   "id": "a240b5d0-1e8c-438b-b3b8-dc0b51144c39",
   "metadata": {},
   "outputs": [
    {
     "name": "stdout",
     "output_type": "stream",
     "text": [
      "5\n",
      "2\n"
     ]
    }
   ],
   "source": [
    "for i in range(5,1,-3):\n",
    "    print(i)"
   ]
  },
  {
   "cell_type": "code",
   "execution_count": 21,
   "id": "6b0fd62c-b310-4e3a-ad5d-8c94ba1be4eb",
   "metadata": {},
   "outputs": [
    {
     "name": "stdout",
     "output_type": "stream",
     "text": [
      "Natasha is Marvel's Black Widow\n",
      "Tony is Marvel's Iron Man\n",
      "Stephen is Marvel's Doctor Strange\n"
     ]
    }
   ],
   "source": [
    "#range() and enumerate() only works with looping structures\n",
    "for i in range(len(real_names)):\n",
    "    real_name= real_names[i]\n",
    "    super_name= super_names[i]\n",
    "    print(f\"{real_name} is Marvel's {super_name}\")\n",
    "#len(real_names) to get no of times the loop should run"
   ]
  },
  {
   "cell_type": "code",
   "execution_count": 22,
   "id": "35e2ab23-df09-44d3-b674-ac63eea491e8",
   "metadata": {},
   "outputs": [
    {
     "name": "stdout",
     "output_type": "stream",
     "text": [
      "Natasha is Marvel's Black Widow\n",
      "Tony is Marvel's Iron Man\n",
      "Stephen is Marvel's Doctor Strange\n"
     ]
    }
   ],
   "source": [
    "for i in range(len(real_names)):\n",
    "    real_names[i]\n",
    "    super_names[i]\n",
    "    print(f\"{real_names[i]} is Marvel's {super_names[i]}\")\n",
    "\n",
    "#need not use real_name= real_names[i] etc"
   ]
  },
  {
   "attachments": {},
   "cell_type": "markdown",
   "id": "afbcbbe3",
   "metadata": {},
   "source": [
    "# 2 while"
   ]
  },
  {
   "cell_type": "code",
   "execution_count": 16,
   "id": "a2ece8ff-6b3e-485b-885c-93134cc99a23",
   "metadata": {},
   "outputs": [
    {
     "name": "stdout",
     "output_type": "stream",
     "text": [
      "0\n",
      "1\n",
      "2\n",
      "3\n",
      "4\n"
     ]
    }
   ],
   "source": [
    "number= 0\n",
    "while number<5:\n",
    "    print(number)\n",
    "    number+=1\n",
    "\n",
    "#while loop checks condition at the start and begins another loop if TRUE\n",
    "#loop starts from 0, continues loop while number <5 with 1 step at a time (+=1)"
   ]
  }
 ],
 "metadata": {
  "kernelspec": {
   "display_name": "Python 3 (ipykernel)",
   "language": "python",
   "name": "python3"
  },
  "language_info": {
   "codemirror_mode": {
    "name": "ipython",
    "version": 3
   },
   "file_extension": ".py",
   "mimetype": "text/x-python",
   "name": "python",
   "nbconvert_exporter": "python",
   "pygments_lexer": "ipython3",
   "version": "3.11.5"
  },
  "toc": {
   "base_numbering": 1,
   "nav_menu": {},
   "number_sections": true,
   "sideBar": true,
   "skip_h1_title": false,
   "title_cell": "Table of Contents",
   "title_sidebar": "Contents",
   "toc_cell": false,
   "toc_position": {},
   "toc_section_display": true,
   "toc_window_display": false
  },
  "vscode": {
   "interpreter": {
    "hash": "31f2aee4e71d21fbe5cf8b01ff0e069b9275f58929596ceb00d14d90e3e16cd6"
   }
  }
 },
 "nbformat": 4,
 "nbformat_minor": 5
}
