{
 "cells": [
  {
   "attachments": {},
   "cell_type": "markdown",
   "id": "123456",
   "metadata": {},
   "source": [
    "<div style=\"text-align:left;font-size:2em\"><span style=\"font-weight:bolder;font-size:1.25em\">SP2273 | Learning Portfolio</span><br><br><span style=\"font-weight:bold;color:darkred\">Loops (Good)</span></div>"
   ]
  },
  {
   "attachments": {},
   "cell_type": "markdown",
   "id": "99bda370",
   "metadata": {},
   "source": [
    "# What to expect in this chapter"
   ]
  },
  {
   "attachments": {},
   "cell_type": "markdown",
   "id": "3f8dd045",
   "metadata": {},
   "source": [
    "# 1 Interrupting the flow"
   ]
  },
  {
   "cell_type": "markdown",
   "id": "4b33ef08-393d-43b1-b6c5-7d627de98dcb",
   "metadata": {},
   "source": [
    "changing flow within a loop using **break** **continue**"
   ]
  },
  {
   "cell_type": "markdown",
   "id": "e2151904-001c-420b-9cda-e08addfd09af",
   "metadata": {},
   "source": [
    "**break** terminate loop + **if** break if conditions fulfilled + works with **while** loop"
   ]
  },
  {
   "cell_type": "markdown",
   "id": "c67920f3-0e6d-474b-8186-6d92095a8f1e",
   "metadata": {},
   "source": [
    "**PYTHON ALWAYS STARTS COUNTING FROM 0**"
   ]
  },
  {
   "cell_type": "code",
   "execution_count": 19,
   "id": "8b8e600f-8576-43e0-8ba1-39853bf31651",
   "metadata": {},
   "outputs": [
    {
     "name": "stdout",
     "output_type": "stream",
     "text": [
      "0 1\n",
      "1 10\n",
      "2 100\n",
      "3 1000\n"
     ]
    }
   ],
   "source": [
    "for power in range(5):\n",
    "    number= 10**power\n",
    "    if number>1000:\n",
    "        break\n",
    "    print(power, number)\n",
    "#for powers 0-4, starts from 0"
   ]
  },
  {
   "cell_type": "code",
   "execution_count": 6,
   "id": "1e08a578-9369-435f-b93a-09b484adcd35",
   "metadata": {},
   "outputs": [
    {
     "name": "stdout",
     "output_type": "stream",
     "text": [
      "10 raised to the power of 0 is 1\n",
      "10 raised to the power of 1 is 10\n",
      "10 raised to the power of 2 is 100\n",
      "10 raised to the power of 3 is 1000\n"
     ]
    }
   ],
   "source": [
    "for power in range(5):\n",
    "    number= 10**power\n",
    "    if number>1000:\n",
    "        break\n",
    "    print(f'10 raised to the power of {power} is {number}')"
   ]
  },
  {
   "cell_type": "code",
   "execution_count": 8,
   "id": "134663ea-4cd1-4fcb-b239-a0ce095e485a",
   "metadata": {},
   "outputs": [
    {
     "name": "stdout",
     "output_type": "stream",
     "text": [
      "0 1\n",
      "1 10\n",
      "2 100\n",
      "4 10000\n"
     ]
    }
   ],
   "source": [
    "for power in range(5):\n",
    "    if power==3:\n",
    "        continue #dont proceed in current loop if power is 3: power 3 will not be printed\n",
    "    number= 10**power\n",
    "    print(power, number)"
   ]
  },
  {
   "cell_type": "code",
   "execution_count": 10,
   "id": "74fd7a70-cbd3-41b1-b5ef-0356369fe6d8",
   "metadata": {},
   "outputs": [
    {
     "name": "stdout",
     "output_type": "stream",
     "text": [
      "1\n",
      "3\n",
      "5\n",
      "7\n",
      "9\n"
     ]
    }
   ],
   "source": [
    "for number in range(10):\n",
    "    if number%2==0:\n",
    "        continue\n",
    "    print(number)\n",
    "#dont proceed in current loop if remainder is 0"
   ]
  },
  {
   "cell_type": "code",
   "execution_count": 12,
   "id": "82449795-2a20-4e93-a884-b2530619f1b6",
   "metadata": {},
   "outputs": [
    {
     "name": "stdout",
     "output_type": "stream",
     "text": [
      "0\n",
      "1\n",
      "2\n",
      "3\n",
      "4\n"
     ]
    }
   ],
   "source": [
    "number=0\n",
    "while True:\n",
    "    print(number)\n",
    "    number+=1 #loop set to run forever\n",
    "    if number>4: break #stops loop with break"
   ]
  },
  {
   "cell_type": "code",
   "execution_count": 13,
   "id": "354b9cc6-fb45-44a2-b481-69b6b94eabc7",
   "metadata": {},
   "outputs": [
    {
     "name": "stdout",
     "output_type": "stream",
     "text": [
      "1 2\n",
      "2 4\n",
      "3 8\n",
      "4 16\n",
      "5 32\n",
      "6 64\n",
      "7 128\n",
      "8 256\n",
      "9 512\n",
      "10 1024\n"
     ]
    }
   ],
   "source": [
    "power=0\n",
    "while power<10:\n",
    "    power+=1\n",
    "    number=2**power\n",
    "    if number>1500:\n",
    "        break\n",
    "    print(power, number)"
   ]
  },
  {
   "attachments": {},
   "cell_type": "markdown",
   "id": "d85be735",
   "metadata": {},
   "source": [
    "# 2 List comprehension!"
   ]
  },
  {
   "attachments": {},
   "cell_type": "markdown",
   "id": "691ff7d6",
   "metadata": {},
   "source": [
    "## 2.1 Basic syntax"
   ]
  },
  {
   "cell_type": "code",
   "execution_count": 16,
   "id": "5265277d-efbc-4a4a-911b-2f30e1d1bdef",
   "metadata": {},
   "outputs": [
    {
     "data": {
      "text/plain": [
       "[0, 1, 2, 3, 4]"
      ]
     },
     "execution_count": 16,
     "metadata": {},
     "output_type": "execute_result"
    }
   ],
   "source": [
    "[number for number in range(5)] #list"
   ]
  },
  {
   "cell_type": "code",
   "execution_count": 15,
   "id": "b16fe534-496d-4b3f-84fe-4088af2304db",
   "metadata": {},
   "outputs": [
    {
     "name": "stdout",
     "output_type": "stream",
     "text": [
      "0\n",
      "1\n",
      "2\n",
      "3\n",
      "4\n"
     ]
    }
   ],
   "source": [
    "for number in range(5):\n",
    "    print(number)"
   ]
  },
  {
   "cell_type": "code",
   "execution_count": 17,
   "id": "62ba1b9e-046c-47ae-a907-fd70731eda67",
   "metadata": {},
   "outputs": [
    {
     "data": {
      "text/plain": [
       "[0, 1, 4, 9, 16]"
      ]
     },
     "execution_count": 17,
     "metadata": {},
     "output_type": "execute_result"
    }
   ],
   "source": [
    "[number**2 for number in range(5)]"
   ]
  },
  {
   "attachments": {},
   "cell_type": "markdown",
   "id": "c0b955c8",
   "metadata": {},
   "source": [
    "## 2.2 List comprehension with conditions"
   ]
  },
  {
   "cell_type": "code",
   "execution_count": 20,
   "id": "21e1fcd7-ccd2-454a-b851-313fe34f7ae5",
   "metadata": {},
   "outputs": [
    {
     "data": {
      "text/plain": [
       "[0, 2, 4, 6, 8]"
      ]
     },
     "execution_count": 20,
     "metadata": {},
     "output_type": "execute_result"
    }
   ],
   "source": [
    "[number for number in range(10) if number%2==0]\n",
    "#numbers from 0-9 if remainder is 0"
   ]
  },
  {
   "attachments": {},
   "cell_type": "markdown",
   "id": "0b8eef46",
   "metadata": {},
   "source": [
    "# 3 Other useful stuff"
   ]
  },
  {
   "attachments": {},
   "cell_type": "markdown",
   "id": "1bcbc990",
   "metadata": {},
   "source": [
    "## 3.1 for with unpacking"
   ]
  },
  {
   "cell_type": "code",
   "execution_count": 21,
   "id": "7769b9b7-e298-446b-b6cd-59c3343ab716",
   "metadata": {},
   "outputs": [
    {
     "name": "stdout",
     "output_type": "stream",
     "text": [
      "x=1, y=2, z=3\n"
     ]
    }
   ],
   "source": [
    "x,y,z=[1,2,3]\n",
    "print(f'x={x}, y={y}, z={z}')"
   ]
  },
  {
   "cell_type": "code",
   "execution_count": 23,
   "id": "45dd4e42-dd92-4568-8c30-dfa6f7c60d8a",
   "metadata": {},
   "outputs": [
    {
     "name": "stdout",
     "output_type": "stream",
     "text": [
      "x=1, y=2, z=3\n"
     ]
    }
   ],
   "source": [
    "x,y,z=[1,2,3]\n",
    "print(f'{x=}, {y=}, {z=}')\n",
    "#{} blank will still produce the same outputs"
   ]
  },
  {
   "cell_type": "code",
   "execution_count": 26,
   "id": "5dd01793-384b-49fc-a00e-f34450fdcefc",
   "metadata": {},
   "outputs": [
    {
     "name": "stdout",
     "output_type": "stream",
     "text": [
      "Natasha Romanoff is Marvel's Black Widow\n",
      "Tony Stark is Marvel's Iron Man\n",
      "Stephen Strange is Marvel's Doctor Strange\n"
     ]
    }
   ],
   "source": [
    "py_superhero_info = [['Natasha Romanoff', 'Black Widow'],\n",
    "                     ['Tony Stark', 'Iron Man'],\n",
    "                     ['Stephen Strange', 'Doctor Strange']]\n",
    "for real_name, super_name in py_superhero_info:\n",
    "    print(f\"{real_name} is Marvel's {super_name}\")\n",
    "#if \"for super_name -> real_name\", print the wrong order"
   ]
  },
  {
   "attachments": {},
   "cell_type": "markdown",
   "id": "5243e690",
   "metadata": {},
   "source": [
    "## 3.2 for with zip()"
   ]
  },
  {
   "cell_type": "code",
   "execution_count": 27,
   "id": "7d3a9e80-7273-4acd-a4dd-56d4622ce5e2",
   "metadata": {},
   "outputs": [
    {
     "name": "stdout",
     "output_type": "stream",
     "text": [
      "Natasha Romanoff is Marvel's Black Widow\n",
      "Tony Stark is Marvel's Iron Man\n",
      "Stephen Strange is Marvel's Doctor Strange\n"
     ]
    }
   ],
   "source": [
    "super_names = [\"Black Widow\", \"Iron Man\", \"Doctor Strange\"]\n",
    "real_names = [\"Natasha Romanoff\", \"Tony Stark\", \"Stephen Strange\"]\n",
    "for real_name, super_name in zip(real_names, super_names):\n",
    "    print(f\"{real_name} is Marvel's {super_name}\")"
   ]
  },
  {
   "cell_type": "markdown",
   "id": "dbcd0e77-850f-4374-a9f9-b81db842dfbb",
   "metadata": {},
   "source": [
    "for real_name, super_name in **py_superhero_info**:\n",
    "\n",
    "for real_name, super_name in **zip(real_names, super_names)**:\n",
    "\n",
    "packs 2 lists together\n"
   ]
  },
  {
   "attachments": {},
   "cell_type": "markdown",
   "id": "4bd72fcf",
   "metadata": {},
   "source": [
    "## 3.3 for with dictionaries"
   ]
  },
  {
   "cell_type": "markdown",
   "id": "e2e23b8a-133c-4657-9da1-3faebd8e2fd6",
   "metadata": {},
   "source": [
    "### keys() and values ()"
   ]
  },
  {
   "cell_type": "code",
   "execution_count": 31,
   "id": "94c0660f-fc29-4ea4-9e1e-e24dd5abcb08",
   "metadata": {},
   "outputs": [
    {
     "name": "stdout",
     "output_type": "stream",
     "text": [
      "Natasha Romanoff is Marvel's Black Widow\n",
      "Tony Stark is Marvel's Iron Man\n",
      "Stephen Strange is Marvel's Doctor Strange\n"
     ]
    }
   ],
   "source": [
    "superhero_info={\"Natasha Romanoff\": \"Black Widow\",\n",
    "                \"Tony Stark\": \"Iron Man\",\n",
    "                \"Stephen Strange\": \"Doctor Strange\"}\n",
    "for key, value in superhero_info.items():\n",
    "    print(f\"{key} is Marvel's {value}\")\n",
    "#key is real names, value is super names"
   ]
  },
  {
   "cell_type": "code",
   "execution_count": 29,
   "id": "9fc56de1-98a5-4969-8861-e33b678892f2",
   "metadata": {},
   "outputs": [
    {
     "name": "stdout",
     "output_type": "stream",
     "text": [
      "Natasha Romanoff is Marvel's Black Widow\n",
      "Tony Stark is Marvel's Iron Man\n",
      "Stephen Strange is Marvel's Doctor Strange\n"
     ]
    }
   ],
   "source": [
    "for key in superhero_info.keys():\n",
    "    value= superhero_info[key]\n",
    "    print(f\"{key} is Marvel's {value}\")"
   ]
  },
  {
   "cell_type": "code",
   "execution_count": 30,
   "id": "43e5565e-7066-4dfa-b452-97220ff95889",
   "metadata": {},
   "outputs": [
    {
     "data": {
      "text/plain": [
       "dict_keys(['Natasha Romanoff', 'Tony Stark', 'Stephen Strange'])"
      ]
     },
     "execution_count": 30,
     "metadata": {},
     "output_type": "execute_result"
    }
   ],
   "source": [
    "superhero_info.keys()"
   ]
  },
  {
   "cell_type": "code",
   "execution_count": 32,
   "id": "5ee7de1e-60a8-458c-98cd-7926259ca2be",
   "metadata": {},
   "outputs": [
    {
     "data": {
      "text/plain": [
       "dict_values(['Black Widow', 'Iron Man', 'Doctor Strange'])"
      ]
     },
     "execution_count": 32,
     "metadata": {},
     "output_type": "execute_result"
    }
   ],
   "source": [
    "superhero_info.values()"
   ]
  }
 ],
 "metadata": {
  "kernelspec": {
   "display_name": "Python 3 (ipykernel)",
   "language": "python",
   "name": "python3"
  },
  "language_info": {
   "codemirror_mode": {
    "name": "ipython",
    "version": 3
   },
   "file_extension": ".py",
   "mimetype": "text/x-python",
   "name": "python",
   "nbconvert_exporter": "python",
   "pygments_lexer": "ipython3",
   "version": "3.11.5"
  },
  "toc": {
   "base_numbering": 1,
   "nav_menu": {},
   "number_sections": true,
   "sideBar": true,
   "skip_h1_title": false,
   "title_cell": "Table of Contents",
   "title_sidebar": "Contents",
   "toc_cell": false,
   "toc_position": {},
   "toc_section_display": true,
   "toc_window_display": false
  },
  "vscode": {
   "interpreter": {
    "hash": "31f2aee4e71d21fbe5cf8b01ff0e069b9275f58929596ceb00d14d90e3e16cd6"
   }
  }
 },
 "nbformat": 4,
 "nbformat_minor": 5
}
