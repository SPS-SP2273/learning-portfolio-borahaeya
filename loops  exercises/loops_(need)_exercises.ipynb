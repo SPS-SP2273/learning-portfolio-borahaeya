{
 "cells": [
  {
   "attachments": {},
   "cell_type": "markdown",
   "id": "123456",
   "metadata": {},
   "source": [
    "<div style=\"text-align:left;font-size:2em\"><span style=\"font-weight:bolder;font-size:1.25em\">SP2273 | Learning Portfolio</span><br><br><span style=\"font-weight:bold;color:darkred\">Loops (Need) Exercises</span></div>"
   ]
  },
  {
   "cell_type": "markdown",
   "id": "77996ce0-60f2-4934-bf2a-d10d53c2d04d",
   "metadata": {},
   "source": [
    "## Exercise 1"
   ]
  },
  {
   "cell_type": "code",
   "execution_count": 13,
   "id": "a9f06bc2-ff1f-40ce-a4f6-ba792102de6d",
   "metadata": {},
   "outputs": [
    {
     "name": "stdout",
     "output_type": "stream",
     "text": [
      "0 Celsius is 32.0 Fahrenheit\n",
      "5 Celsius is 41.0 Fahrenheit\n",
      "10 Celsius is 50.0 Fahrenheit\n",
      "15 Celsius is 59.0 Fahrenheit\n",
      "20 Celsius is 68.0 Fahrenheit\n",
      "25 Celsius is 77.0 Fahrenheit\n",
      "30 Celsius is 86.0 Fahrenheit\n",
      "35 Celsius is 95.0 Fahrenheit\n",
      "40 Celsius is 104.0 Fahrenheit\n",
      "45 Celsius is 113.0 Fahrenheit\n",
      "50 Celsius is 122.0 Fahrenheit\n"
     ]
    }
   ],
   "source": [
    "temperatures_celsius = [0, 5, 10, 15, 20, 25, 30, 35, 40, 45, 50]\n",
    "for celsius in temperatures_celsius:\n",
    "    fahrenheit= (1.8*celsius)+32\n",
    "    print(f\"{celsius} Celsius is {fahrenheit} Fahrenheit\")"
   ]
  },
  {
   "cell_type": "markdown",
   "id": "730a6ecc-395d-4519-bf2c-42127dda2c68",
   "metadata": {},
   "source": [
    "## Exercise 2"
   ]
  },
  {
   "cell_type": "code",
   "execution_count": 17,
   "id": "7b37b48b-71d5-4a79-b5bc-dd6b8c2aedc8",
   "metadata": {},
   "outputs": [
    {
     "name": "stdout",
     "output_type": "stream",
     "text": [
      "A1\tA2\tA3\t\n",
      "\n",
      "B1\tB2\tB3\t\n",
      "\n",
      "C1\tC2\tC3\t\n",
      "\n"
     ]
    }
   ],
   "source": [
    "for letter in ['A','B','C']:\n",
    "    for number in [1,2,3]:\n",
    "        print(f'{letter}{number}', end='\\t') #each number for the same letter is separated by a tab\n",
    "    print('\\n') #different letters different lines (A B C 1 line each)"
   ]
  },
  {
   "cell_type": "code",
   "execution_count": 45,
   "id": "61ea6c05-b655-40d5-b0d0-9d5d91675292",
   "metadata": {},
   "outputs": [
    {
     "name": "stdout",
     "output_type": "stream",
     "text": [
      "1 : 1   2   3   4   5   \n",
      "2 : 2   4   6   8   10  \n",
      "3 : 3   6   9   12  15  \n",
      "4 : 4   8   12  16  20  \n",
      "5 : 5   10  15  20  25  \n"
     ]
    }
   ],
   "source": [
    "for i in range(1,6):\n",
    "    multiply= f\"{i} : \" #each line starts with numbers 1-5 respectively\n",
    "    for j in range(1,6): \n",
    "        multiply+=f'{i*j:<4}' #+= includes all multiplied values adds on to list, multiply i and j, :<4 left alignment with at least 4 characters of space\n",
    "    print(multiply)"
   ]
  }
 ],
 "metadata": {
  "kernelspec": {
   "display_name": "Python 3 (ipykernel)",
   "language": "python",
   "name": "python3"
  },
  "language_info": {
   "codemirror_mode": {
    "name": "ipython",
    "version": 3
   },
   "file_extension": ".py",
   "mimetype": "text/x-python",
   "name": "python",
   "nbconvert_exporter": "python",
   "pygments_lexer": "ipython3",
   "version": "3.11.5"
  },
  "toc": {
   "base_numbering": 1,
   "nav_menu": {},
   "number_sections": true,
   "sideBar": true,
   "skip_h1_title": false,
   "title_cell": "Table of Contents",
   "title_sidebar": "Contents",
   "toc_cell": false,
   "toc_position": {},
   "toc_section_display": true,
   "toc_window_display": false
  },
  "vscode": {
   "interpreter": {
    "hash": "31f2aee4e71d21fbe5cf8b01ff0e069b9275f58929596ceb00d14d90e3e16cd6"
   }
  }
 },
 "nbformat": 4,
 "nbformat_minor": 5
}
