{
 "cells": [
  {
   "attachments": {},
   "cell_type": "markdown",
   "id": "123456",
   "metadata": {},
   "source": [
    "<div style=\"text-align:left;font-size:2em\"><span style=\"font-weight:bolder;font-size:1.25em\">SP2273 | Learning Portfolio</span><br><br><span style=\"font-weight:bold;color:darkred\">Functions (Need) Exercises</span></div>"
   ]
  },
  {
   "cell_type": "markdown",
   "id": "462946c5-9ed9-4143-85de-71bd6e341e2f",
   "metadata": {},
   "source": [
    "## Exercise 1"
   ]
  },
  {
   "cell_type": "code",
   "execution_count": 1,
   "id": "fb523ea5-d380-43fc-953b-f897ab8ce610",
   "metadata": {},
   "outputs": [],
   "source": [
    "def greeting(name):\n",
    "    if name == 'Batman':\n",
    "        return 'Hello Batman! So, nice to meet you!'\n",
    "    return f'Hello {name}!'"
   ]
  },
  {
   "cell_type": "code",
   "execution_count": 8,
   "id": "38fceb19-cbb9-42ba-ac0e-7a8685acfd2e",
   "metadata": {},
   "outputs": [
    {
     "data": {
      "text/plain": [
       "'Hello Batman! So, nice to meet you!'"
      ]
     },
     "execution_count": 8,
     "metadata": {},
     "output_type": "execute_result"
    }
   ],
   "source": [
    "greeting(\"Batman\")"
   ]
  },
  {
   "cell_type": "code",
   "execution_count": 7,
   "id": "ce9f6a85-48c3-412d-95ea-bedb4fe20ebc",
   "metadata": {},
   "outputs": [
    {
     "data": {
      "text/plain": [
       "'Hello me!'"
      ]
     },
     "execution_count": 7,
     "metadata": {},
     "output_type": "execute_result"
    }
   ],
   "source": [
    "greeting(\"me\")"
   ]
  },
  {
   "cell_type": "markdown",
   "id": "0edbe2ff-6491-42c0-a1e3-467116e1c5d8",
   "metadata": {},
   "source": [
    "This works as expected despite not having an **else** statement because **if** in the **greeting** function already provides a condition. The function produces a specific message when the name argument is Batman. Otherwise, other names will produce the same message."
   ]
  },
  {
   "cell_type": "markdown",
   "id": "ae08ec04-260e-49e1-a856-86a6a3a84704",
   "metadata": {},
   "source": [
    "## Exercise 2"
   ]
  },
  {
   "cell_type": "code",
   "execution_count": 11,
   "id": "ffd71fdc-53f5-4ad9-b208-a885ab5d2d6d",
   "metadata": {},
   "outputs": [],
   "source": [
    "def calculate_bmi(weight, height): #weight in (kg), height in (m)\n",
    "    BMI= weight/(height**2)\n",
    "    if 0<=BMI<18.5:\n",
    "        print(\"Underweight\")\n",
    "    elif 18.5<=BMI<=24.9:\n",
    "        print(\"Normal weight\")\n",
    "    elif 25<=BMI<=29.9:\n",
    "        print(\"Overweight\")\n",
    "    elif BMI>=30:\n",
    "        print(\"Obesity\")\n",
    "    else:\n",
    "        print(\"No negatives\")"
   ]
  },
  {
   "cell_type": "code",
   "execution_count": 51,
   "id": "234c3f07-3dda-4b9c-9595-cd901678f2ab",
   "metadata": {},
   "outputs": [
    {
     "name": "stdout",
     "output_type": "stream",
     "text": [
      "Underweight\n"
     ]
    }
   ],
   "source": [
    "calculate_bmi(50,1.67)"
   ]
  },
  {
   "cell_type": "code",
   "execution_count": 12,
   "id": "f9beb252-4ce6-4327-b7d3-7453677017e0",
   "metadata": {},
   "outputs": [
    {
     "name": "stdout",
     "output_type": "stream",
     "text": [
      "Obesity\n"
     ]
    }
   ],
   "source": [
    "calculate_bmi(60,1.35)"
   ]
  },
  {
   "cell_type": "code",
   "execution_count": 52,
   "id": "c30f26bf-9ac6-440b-89e3-6172b92e41f7",
   "metadata": {},
   "outputs": [
    {
     "name": "stdout",
     "output_type": "stream",
     "text": [
      "No negatives\n"
     ]
    }
   ],
   "source": [
    "calculate_bmi(-1,1)"
   ]
  }
 ],
 "metadata": {
  "kernelspec": {
   "display_name": "Python 3 (ipykernel)",
   "language": "python",
   "name": "python3"
  },
  "language_info": {
   "codemirror_mode": {
    "name": "ipython",
    "version": 3
   },
   "file_extension": ".py",
   "mimetype": "text/x-python",
   "name": "python",
   "nbconvert_exporter": "python",
   "pygments_lexer": "ipython3",
   "version": "3.11.5"
  },
  "toc": {
   "base_numbering": 1,
   "nav_menu": {},
   "number_sections": true,
   "sideBar": true,
   "skip_h1_title": false,
   "title_cell": "Table of Contents",
   "title_sidebar": "Contents",
   "toc_cell": false,
   "toc_position": {},
   "toc_section_display": true,
   "toc_window_display": false
  },
  "vscode": {
   "interpreter": {
    "hash": "31f2aee4e71d21fbe5cf8b01ff0e069b9275f58929596ceb00d14d90e3e16cd6"
   }
  }
 },
 "nbformat": 4,
 "nbformat_minor": 5
}
