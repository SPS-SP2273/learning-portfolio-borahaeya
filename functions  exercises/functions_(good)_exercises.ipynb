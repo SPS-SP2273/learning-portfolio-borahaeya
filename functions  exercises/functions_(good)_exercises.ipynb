{
 "cells": [
  {
   "attachments": {},
   "cell_type": "markdown",
   "id": "123456",
   "metadata": {},
   "source": [
    "<div style=\"text-align:left;font-size:2em\"><span style=\"font-weight:bolder;font-size:1.25em\">SP2273 | Learning Portfolio</span><br><br><span style=\"font-weight:bold;color:darkred\">Functions (Good) Exercises</span></div>"
   ]
  },
  {
   "cell_type": "markdown",
   "id": "eb728d9f-53ce-4b4b-84b6-de5a73c11e72",
   "metadata": {},
   "source": [
    "## Exercise 1"
   ]
  },
  {
   "cell_type": "code",
   "execution_count": 40,
   "id": "4163be5e-2ec7-4986-8108-274432b3f946",
   "metadata": {},
   "outputs": [],
   "source": [
    "def convert_celsius(temperature_celsius,target_scale='Fahrenheit'): #default target scale set to Fahrenheit\n",
    "    if target_scale== 'Fahrenheit':\n",
    "        return (1.8*temperature_celsius)+32\n",
    "    elif target_scale== 'Kelvin':\n",
    "        return temperature_celsius+273.15\n",
    "    else:\n",
    "        return 'Invalid input, please enter either Fahrenheit or Kelvin'"
   ]
  },
  {
   "cell_type": "code",
   "execution_count": 30,
   "id": "5139a441-2c2b-4dbb-bf88-4f61cd2cb6e2",
   "metadata": {},
   "outputs": [
    {
     "data": {
      "text/plain": [
       "77.0"
      ]
     },
     "execution_count": 30,
     "metadata": {},
     "output_type": "execute_result"
    }
   ],
   "source": [
    "convert_celsius(25) #target_scale argument not needed as fahrenheit is set as default"
   ]
  },
  {
   "cell_type": "code",
   "execution_count": 21,
   "id": "0496a8f2-31ce-4f54-aa49-4c4ebaf34b82",
   "metadata": {},
   "outputs": [
    {
     "data": {
      "text/plain": [
       "77.0"
      ]
     },
     "execution_count": 21,
     "metadata": {},
     "output_type": "execute_result"
    }
   ],
   "source": [
    "convert_celsius(25, target_scale= 'Fahrenheit')"
   ]
  },
  {
   "cell_type": "code",
   "execution_count": 22,
   "id": "3bf8f757-e446-44c8-b53c-53b184ea2dd8",
   "metadata": {},
   "outputs": [
    {
     "data": {
      "text/plain": [
       "298.15"
      ]
     },
     "execution_count": 22,
     "metadata": {},
     "output_type": "execute_result"
    }
   ],
   "source": [
    "convert_celsius(25, target_scale= 'Kelvin')"
   ]
  },
  {
   "cell_type": "code",
   "execution_count": 29,
   "id": "d8087f01-e097-4dda-a515-10dd9347b461",
   "metadata": {},
   "outputs": [
    {
     "data": {
      "text/plain": [
       "'Invalid input, please enter either Fahrenheit or Kelvin'"
      ]
     },
     "execution_count": 29,
     "metadata": {},
     "output_type": "execute_result"
    }
   ],
   "source": [
    "convert_celsius(25, target_scale= 'Celsius')"
   ]
  },
  {
   "cell_type": "markdown",
   "id": "1b76078a-380c-4a79-aa62-119637f52890",
   "metadata": {},
   "source": [
    "## Exercise 2"
   ]
  },
  {
   "cell_type": "code",
   "execution_count": 41,
   "id": "9a3c880c-5094-48b6-8a54-496127004079",
   "metadata": {},
   "outputs": [],
   "source": [
    "def convert_fahrenheit(temperature_fahrenheit,target_scale='Celsius'): #default target scale set to Celsius\n",
    "    if target_scale== 'Celsius':\n",
    "        return (temperature_fahrenheit-32)/1.8\n",
    "    elif target_scale== 'Kelvin':\n",
    "        return ((temperature_fahrenheit-32)/1.8)+273.15\n",
    "    else:\n",
    "        return 'Invalid input, please enter either Celsius or Kelvin'"
   ]
  },
  {
   "cell_type": "code",
   "execution_count": 32,
   "id": "479e7329-1abc-40a6-b5ce-3ef49d346c5f",
   "metadata": {},
   "outputs": [
    {
     "data": {
      "text/plain": [
       "25.0"
      ]
     },
     "execution_count": 32,
     "metadata": {},
     "output_type": "execute_result"
    }
   ],
   "source": [
    "convert_fahrenheit(77)"
   ]
  },
  {
   "cell_type": "code",
   "execution_count": 34,
   "id": "1fe6938e-b822-4111-a422-49de02ce3a1b",
   "metadata": {},
   "outputs": [
    {
     "data": {
      "text/plain": [
       "25.0"
      ]
     },
     "execution_count": 34,
     "metadata": {},
     "output_type": "execute_result"
    }
   ],
   "source": [
    "convert_fahrenheit(77, target_scale= 'Celsius')"
   ]
  },
  {
   "cell_type": "code",
   "execution_count": 35,
   "id": "f944b41a-5419-4102-b22d-5c0f718dd174",
   "metadata": {},
   "outputs": [
    {
     "data": {
      "text/plain": [
       "298.15"
      ]
     },
     "execution_count": 35,
     "metadata": {},
     "output_type": "execute_result"
    }
   ],
   "source": [
    "convert_fahrenheit(77, target_scale= 'Kelvin')"
   ]
  },
  {
   "cell_type": "code",
   "execution_count": 38,
   "id": "604ce1ba-bc93-4162-bfa8-6e2be41b3244",
   "metadata": {},
   "outputs": [
    {
     "data": {
      "text/plain": [
       "'Invalid input, please enter either Celsius or Kelvin'"
      ]
     },
     "execution_count": 38,
     "metadata": {},
     "output_type": "execute_result"
    }
   ],
   "source": [
    "convert_fahrenheit(77, target_scale= 'Fahrenheit')"
   ]
  },
  {
   "cell_type": "markdown",
   "id": "e33b06ff-db1b-45cc-9701-58e1f40fc511",
   "metadata": {},
   "source": [
    "## Exercise 3"
   ]
  },
  {
   "cell_type": "code",
   "execution_count": 42,
   "id": "99600d2b-2f96-4735-9cb1-3c836cb70e54",
   "metadata": {},
   "outputs": [],
   "source": [
    "def convert_temperature(temperature,source_scale,target_scale): #no default source target scale argument\n",
    "    if source_scale== 'Celsius':\n",
    "        if target_scale== 'Fahrenheit':\n",
    "            return (1.8*temperature)+32\n",
    "        elif target_scale== 'Kelvin':\n",
    "            return temperature+273.15\n",
    "        else:\n",
    "            return 'Invalid input, please enter either Fahrenheit or Kelvin'\n",
    "    elif source_scale== 'Fahrenheit':\n",
    "        if target_scale== 'Celsius':\n",
    "            return (temperature-32)/1.8\n",
    "        elif target_scale== 'Kelvin':\n",
    "            return ((temperature-32)/1.8)+273.15\n",
    "        else:\n",
    "            return 'Invalid input, please enter either Celsius or Kelvin'\n",
    "    elif source_scale== 'Kelvin':\n",
    "        if target_scale== 'Celsius':\n",
    "            return temperature-273.15\n",
    "        elif target_scale== 'Fahrenheit':\n",
    "            return (1.8*(temperature-273.15))+32\n",
    "        else:\n",
    "            return 'Invalid input, please enter either Celsius or Fahrenheit'\n",
    "    else:\n",
    "        return 'Invalid input, please enter either Celsius, Fahrenheit or Kelvin'"
   ]
  },
  {
   "cell_type": "code",
   "execution_count": 43,
   "id": "31c203d4-27e4-4a6c-acc6-b8974175e1fc",
   "metadata": {},
   "outputs": [
    {
     "data": {
      "text/plain": [
       "77.0"
      ]
     },
     "execution_count": 43,
     "metadata": {},
     "output_type": "execute_result"
    }
   ],
   "source": [
    "convert_temperature(25, source_scale= 'Celsius', target_scale= 'Fahrenheit')"
   ]
  },
  {
   "cell_type": "code",
   "execution_count": 44,
   "id": "f8b3c112-0654-4b41-b53a-74c792af431b",
   "metadata": {},
   "outputs": [
    {
     "data": {
      "text/plain": [
       "269.26111111111106"
      ]
     },
     "execution_count": 44,
     "metadata": {},
     "output_type": "execute_result"
    }
   ],
   "source": [
    "convert_temperature(25, source_scale= 'Fahrenheit', target_scale= 'Kelvin')"
   ]
  },
  {
   "cell_type": "code",
   "execution_count": 45,
   "id": "7c95229d-472d-4aa6-a5de-77466d91f3fb",
   "metadata": {},
   "outputs": [
    {
     "data": {
      "text/plain": [
       "-248.14999999999998"
      ]
     },
     "execution_count": 45,
     "metadata": {},
     "output_type": "execute_result"
    }
   ],
   "source": [
    "convert_temperature(25, source_scale= 'Kelvin', target_scale= 'Celsius')"
   ]
  },
  {
   "cell_type": "code",
   "execution_count": 46,
   "id": "ebaec2aa-9522-450c-bf2b-6f1db25e8108",
   "metadata": {},
   "outputs": [
    {
     "data": {
      "text/plain": [
       "'Invalid input, please enter either Celsius, Fahrenheit or Kelvin'"
      ]
     },
     "execution_count": 46,
     "metadata": {},
     "output_type": "execute_result"
    }
   ],
   "source": [
    "convert_temperature(25, source_scale= 'C', target_scale= 'C1')"
   ]
  },
  {
   "cell_type": "code",
   "execution_count": 47,
   "id": "81b6677f-d988-4af0-bb07-6599abc5de4a",
   "metadata": {},
   "outputs": [
    {
     "data": {
      "text/plain": [
       "'Invalid input, please enter either Celsius, Fahrenheit or Kelvin'"
      ]
     },
     "execution_count": 47,
     "metadata": {},
     "output_type": "execute_result"
    }
   ],
   "source": [
    "convert_temperature(25, source_scale= 'C', target_scale= 'Celsius')"
   ]
  },
  {
   "cell_type": "code",
   "execution_count": 48,
   "id": "fb8245c1-fcce-4362-a0ba-c0940339638a",
   "metadata": {},
   "outputs": [
    {
     "data": {
      "text/plain": [
       "'Invalid input, please enter either Fahrenheit or Kelvin'"
      ]
     },
     "execution_count": 48,
     "metadata": {},
     "output_type": "execute_result"
    }
   ],
   "source": [
    "convert_temperature(25, source_scale= 'Celsius', target_scale= 'C')"
   ]
  }
 ],
 "metadata": {
  "kernelspec": {
   "display_name": "Python 3 (ipykernel)",
   "language": "python",
   "name": "python3"
  },
  "language_info": {
   "codemirror_mode": {
    "name": "ipython",
    "version": 3
   },
   "file_extension": ".py",
   "mimetype": "text/x-python",
   "name": "python",
   "nbconvert_exporter": "python",
   "pygments_lexer": "ipython3",
   "version": "3.11.5"
  },
  "toc": {
   "base_numbering": 1,
   "nav_menu": {},
   "number_sections": true,
   "sideBar": true,
   "skip_h1_title": false,
   "title_cell": "Table of Contents",
   "title_sidebar": "Contents",
   "toc_cell": false,
   "toc_position": {},
   "toc_section_display": true,
   "toc_window_display": false
  },
  "vscode": {
   "interpreter": {
    "hash": "31f2aee4e71d21fbe5cf8b01ff0e069b9275f58929596ceb00d14d90e3e16cd6"
   }
  }
 },
 "nbformat": 4,
 "nbformat_minor": 5
}
