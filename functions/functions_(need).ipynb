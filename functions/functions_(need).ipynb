{
 "cells": [
  {
   "attachments": {},
   "cell_type": "markdown",
   "id": "123456",
   "metadata": {},
   "source": [
    "<div style=\"text-align:left;font-size:2em\"><span style=\"font-weight:bolder;font-size:1.25em\">SP2273 | Learning Portfolio</span><br><br><span style=\"font-weight:bold;color:darkred\">Functions (Need)</span></div>"
   ]
  },
  {
   "attachments": {},
   "cell_type": "markdown",
   "id": "d24ca39d",
   "metadata": {},
   "source": [
    "# What to expect in this chapter"
   ]
  },
  {
   "cell_type": "markdown",
   "id": "7aaa703a-8fcd-4aa0-bbb3-8aebba30c43f",
   "metadata": {},
   "source": [
    "print() internal function\n",
    "\n",
    "creating own functions: named and anonymous"
   ]
  },
  {
   "attachments": {},
   "cell_type": "markdown",
   "id": "6ebcf2e5",
   "metadata": {},
   "source": [
    "# 1 User-defined functions"
   ]
  },
  {
   "attachments": {},
   "cell_type": "markdown",
   "id": "4a6ea71f",
   "metadata": {},
   "source": [
    "## 1.1 Named Functions"
   ]
  },
  {
   "attachments": {},
   "cell_type": "markdown",
   "id": "b76eeaac",
   "metadata": {},
   "source": [
    "### Named functions that return"
   ]
  },
  {
   "cell_type": "markdown",
   "id": "1120a8e3-7ee2-4fe4-b6c5-146ea0ab1adc",
   "metadata": {},
   "source": [
    "**f string**"
   ]
  },
  {
   "cell_type": "code",
   "execution_count": 7,
   "id": "8df4ce18-f418-4ba4-9c73-56baed1cb35f",
   "metadata": {},
   "outputs": [],
   "source": [
    "#define function using def\n",
    "def greeting(name):\n",
    "    if name== 'Batman':\n",
    "        return 'Hello Batman, nice to meet you'\n",
    "    else:\n",
    "        return f'Hello {name}'"
   ]
  },
  {
   "cell_type": "code",
   "execution_count": 5,
   "id": "c1ba6462",
   "metadata": {},
   "outputs": [
    {
     "data": {
      "text/plain": [
       "'Hello Batman, nice to meet you'"
      ]
     },
     "execution_count": 5,
     "metadata": {},
     "output_type": "execute_result"
    }
   ],
   "source": [
    "greeting(\"Batman\")"
   ]
  },
  {
   "cell_type": "code",
   "execution_count": 10,
   "id": "22c8b83f-bf3b-4d98-b956-456ae0ef477e",
   "metadata": {},
   "outputs": [
    {
     "data": {
      "text/plain": [
       "'Hello Powerpuff'"
      ]
     },
     "execution_count": 10,
     "metadata": {},
     "output_type": "execute_result"
    }
   ],
   "source": [
    "greeting(\"Powerpuff\")"
   ]
  },
  {
   "cell_type": "markdown",
   "id": "22219bea-6e02-42d6-8e27-da3646e8e991",
   "metadata": {},
   "source": [
    "return multiple values"
   ]
  },
  {
   "cell_type": "code",
   "execution_count": 39,
   "id": "ac0b5f8a-ec31-4831-be2c-771ed351aa0a",
   "metadata": {},
   "outputs": [],
   "source": [
    "import numpy as np\n",
    "def basic_stats(numbers):\n",
    "    np_numbers= np.array(numbers)\n",
    "    my_min= np_numbers.min()\n",
    "    my_max= np_numbers.max()\n",
    "    my_mean= np_numbers.mean()\n",
    "    return my_min, my_max, my_mean"
   ]
  },
  {
   "cell_type": "code",
   "execution_count": 38,
   "id": "91104b7d-b8df-4171-8300-e476c8d6a999",
   "metadata": {},
   "outputs": [
    {
     "data": {
      "text/plain": [
       "(1, 5, 3.0)"
      ]
     },
     "execution_count": 38,
     "metadata": {},
     "output_type": "execute_result"
    }
   ],
   "source": [
    "basic_stats([1,2,3,4,5])"
   ]
  },
  {
   "cell_type": "code",
   "execution_count": 40,
   "id": "153b4b4e-b936-4082-97ac-7d46d9902d1c",
   "metadata": {},
   "outputs": [
    {
     "name": "stdout",
     "output_type": "stream",
     "text": [
      "(1, 5, 3.0)\n"
     ]
    }
   ],
   "source": [
    "print(basic_stats([1,2,3,4,5]))"
   ]
  },
  {
   "attachments": {},
   "cell_type": "markdown",
   "id": "38d013bf",
   "metadata": {},
   "source": [
    "### Named functions that don’t return"
   ]
  },
  {
   "cell_type": "markdown",
   "id": "5b66dfa6-3d52-42c8-9670-df9e5673b494",
   "metadata": {},
   "source": [
    "**printing**"
   ]
  },
  {
   "cell_type": "code",
   "execution_count": 25,
   "id": "4992652d-c275-4f44-8fca-266c09d3053c",
   "metadata": {},
   "outputs": [],
   "source": [
    "def greeting_again(name):\n",
    "    if name== 'Batman':\n",
    "        print('Hello Batman, nice to meet you')\n",
    "    else:\n",
    "        print(f('Hello {name}'))\n",
    "#print() does not require return"
   ]
  },
  {
   "cell_type": "code",
   "execution_count": 26,
   "id": "8cbb65db-17ee-480d-af7b-91a3317be314",
   "metadata": {},
   "outputs": [
    {
     "name": "stdout",
     "output_type": "stream",
     "text": [
      "Hello Batman, nice to meet you\n"
     ]
    }
   ],
   "source": [
    "greeting_again(\"Batman\")"
   ]
  },
  {
   "attachments": {},
   "cell_type": "markdown",
   "id": "306dab11",
   "metadata": {},
   "source": [
    "## 1.2 Anonymous functions"
   ]
  },
  {
   "cell_type": "markdown",
   "id": "66a75d09-a4e4-4ba2-8aec-edbf50089521",
   "metadata": {},
   "source": [
    "anonymous/lambda functions short one-liners"
   ]
  },
  {
   "cell_type": "code",
   "execution_count": 41,
   "id": "42eeef0f-d953-45d4-a282-1ca8c8f00dbb",
   "metadata": {},
   "outputs": [],
   "source": [
    "short_function= lambda name: f\"Hello {name}\""
   ]
  },
  {
   "cell_type": "code",
   "execution_count": 42,
   "id": "431c5146-8354-4156-9c0a-c85cb644c33c",
   "metadata": {},
   "outputs": [
    {
     "data": {
      "text/plain": [
       "'Hello Super Man'"
      ]
     },
     "execution_count": 42,
     "metadata": {},
     "output_type": "execute_result"
    }
   ],
   "source": [
    "short_function(name= \"Super Man\")"
   ]
  },
  {
   "cell_type": "code",
   "execution_count": 62,
   "id": "2ba70e53-d31d-4166-8df3-9a9ec2bdc8df",
   "metadata": {},
   "outputs": [],
   "source": [
    "#key= lambda x:"
   ]
  },
  {
   "cell_type": "code",
   "execution_count": 55,
   "id": "06879055-041f-4601-8a6f-c70a6d400574",
   "metadata": {},
   "outputs": [],
   "source": [
    "#sorting 2D list\n",
    "numbers=[[9, 0, -10],\n",
    "         [8, 1, -11],\n",
    "         [7, 2, -12],\n",
    "         [6, 3, -13],\n",
    "         [5, 4, -14],\n",
    "         [4, 5, -15],\n",
    "         [3, 6, -16],\n",
    "         [2, 7, -17],\n",
    "         [1, 8, -18],\n",
    "         [0, 9, -19]]"
   ]
  },
  {
   "cell_type": "code",
   "execution_count": 59,
   "id": "5f9ac9d0-dae2-48b2-8c2c-b0a6fd40a5eb",
   "metadata": {},
   "outputs": [
    {
     "data": {
      "text/plain": [
       "[[0, 9, -19],\n",
       " [1, 8, -18],\n",
       " [2, 7, -17],\n",
       " [3, 6, -16],\n",
       " [4, 5, -15],\n",
       " [5, 4, -14],\n",
       " [6, 3, -13],\n",
       " [7, 2, -12],\n",
       " [8, 1, -11],\n",
       " [9, 0, -10]]"
      ]
     },
     "execution_count": 59,
     "metadata": {},
     "output_type": "execute_result"
    }
   ],
   "source": [
    "sorted(numbers)\n",
    "#sorts by comparing default key, 1st element index 0, only sorts 1st elements\n",
    "#2nd 3rd elements do not matter"
   ]
  },
  {
   "cell_type": "code",
   "execution_count": 61,
   "id": "fe3a24c0-45c1-4366-8e32-486c1bdf2ff7",
   "metadata": {},
   "outputs": [
    {
     "data": {
      "text/plain": [
       "[[9, 0, -10],\n",
       " [8, 1, -11],\n",
       " [7, 2, -12],\n",
       " [6, 3, -13],\n",
       " [5, 4, -14],\n",
       " [4, 5, -15],\n",
       " [3, 6, -16],\n",
       " [2, 7, -17],\n",
       " [1, 8, -18],\n",
       " [0, 9, -19]]"
      ]
     },
     "execution_count": 61,
     "metadata": {},
     "output_type": "execute_result"
    }
   ],
   "source": [
    "sorted(numbers, key=lambda x:x[1])\n",
    "#sort by using the 2nd element index 1, only sorts 2nd elements\n",
    "#1st 3rd elements do not matter"
   ]
  },
  {
   "attachments": {},
   "cell_type": "markdown",
   "id": "6e203afe",
   "metadata": {},
   "source": [
    "## 1.3 Optional arguments"
   ]
  },
  {
   "cell_type": "code",
   "execution_count": 67,
   "id": "ddf20858-f587-4784-ade0-dcabd951a31f",
   "metadata": {},
   "outputs": [],
   "source": [
    "def greeting(name= 'no one'): #2.1.1 (name), here (name) is already predefined\n",
    "    if name== 'Batman':\n",
    "        return 'Hello Batman, nice to meet you'\n",
    "    else:\n",
    "        return f'Hello {name}'"
   ]
  },
  {
   "cell_type": "code",
   "execution_count": 71,
   "id": "8e4b2deb-5555-4797-beb5-a5dc6fa25b67",
   "metadata": {},
   "outputs": [
    {
     "data": {
      "text/plain": [
       "'Hello no one'"
      ]
     },
     "execution_count": 71,
     "metadata": {},
     "output_type": "execute_result"
    }
   ],
   "source": [
    "greeting()\n",
    "#can run function without argument\n",
    "#returns the non batman output using the predefined greeting(name)"
   ]
  },
  {
   "cell_type": "code",
   "execution_count": 72,
   "id": "60c328d3-7308-4b65-8505-30db2f546551",
   "metadata": {},
   "outputs": [
    {
     "data": {
      "text/plain": [
       "\u001b[1;31mSignature:\u001b[0m \u001b[0mprint\u001b[0m\u001b[1;33m(\u001b[0m\u001b[1;33m*\u001b[0m\u001b[0margs\u001b[0m\u001b[1;33m,\u001b[0m \u001b[0msep\u001b[0m\u001b[1;33m=\u001b[0m\u001b[1;34m' '\u001b[0m\u001b[1;33m,\u001b[0m \u001b[0mend\u001b[0m\u001b[1;33m=\u001b[0m\u001b[1;34m'\\n'\u001b[0m\u001b[1;33m,\u001b[0m \u001b[0mfile\u001b[0m\u001b[1;33m=\u001b[0m\u001b[1;32mNone\u001b[0m\u001b[1;33m,\u001b[0m \u001b[0mflush\u001b[0m\u001b[1;33m=\u001b[0m\u001b[1;32mFalse\u001b[0m\u001b[1;33m)\u001b[0m\u001b[1;33m\u001b[0m\u001b[1;33m\u001b[0m\u001b[0m\n",
       "\u001b[1;31mDocstring:\u001b[0m\n",
       "Prints the values to a stream, or to sys.stdout by default.\n",
       "\n",
       "sep\n",
       "  string inserted between values, default a space.\n",
       "end\n",
       "  string appended after the last value, default a newline.\n",
       "file\n",
       "  a file-like object (stream); defaults to the current sys.stdout.\n",
       "flush\n",
       "  whether to forcibly flush the stream.\n",
       "\u001b[1;31mType:\u001b[0m      builtin_function_or_method"
      ]
     },
     "metadata": {},
     "output_type": "display_data"
    }
   ],
   "source": [
    "?print"
   ]
  },
  {
   "cell_type": "code",
   "execution_count": 73,
   "id": "d4c6f95b-2b2d-4cf9-a2ad-f97d8fed8bf8",
   "metadata": {},
   "outputs": [
    {
     "name": "stdout",
     "output_type": "stream",
     "text": [
      "I am Batman---"
     ]
    }
   ],
   "source": [
    "print('I', 'am', 'Batman', end='---')"
   ]
  },
  {
   "cell_type": "code",
   "execution_count": 69,
   "id": "d21db916-a887-4ce4-8b1c-2329e4464573",
   "metadata": {},
   "outputs": [
    {
     "name": "stdout",
     "output_type": "stream",
     "text": [
      "I am Batman\n"
     ]
    }
   ],
   "source": [
    "print('I', 'am', 'Batman')\n",
    "#default"
   ]
  },
  {
   "cell_type": "code",
   "execution_count": 70,
   "id": "2e4e7d88-e736-433f-a85e-84db08520205",
   "metadata": {},
   "outputs": [
    {
     "name": "stdout",
     "output_type": "stream",
     "text": [
      "I---am---Batman\n"
     ]
    }
   ],
   "source": [
    "print('I', 'am', 'Batman', sep='---')\n",
    "#specifying optional argument, (sep) separates words accordingly"
   ]
  }
 ],
 "metadata": {
  "kernelspec": {
   "display_name": "Python 3 (ipykernel)",
   "language": "python",
   "name": "python3"
  },
  "language_info": {
   "codemirror_mode": {
    "name": "ipython",
    "version": 3
   },
   "file_extension": ".py",
   "mimetype": "text/x-python",
   "name": "python",
   "nbconvert_exporter": "python",
   "pygments_lexer": "ipython3",
   "version": "3.11.5"
  },
  "toc": {
   "base_numbering": 1,
   "nav_menu": {},
   "number_sections": true,
   "sideBar": true,
   "skip_h1_title": false,
   "title_cell": "Table of Contents",
   "title_sidebar": "Contents",
   "toc_cell": false,
   "toc_position": {},
   "toc_section_display": true,
   "toc_window_display": false
  },
  "vscode": {
   "interpreter": {
    "hash": "31f2aee4e71d21fbe5cf8b01ff0e069b9275f58929596ceb00d14d90e3e16cd6"
   }
  }
 },
 "nbformat": 4,
 "nbformat_minor": 5
}
