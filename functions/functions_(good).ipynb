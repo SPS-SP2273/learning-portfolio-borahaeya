{
 "cells": [
  {
   "attachments": {},
   "cell_type": "markdown",
   "id": "123456",
   "metadata": {},
   "source": [
    "<div style=\"text-align:left;font-size:2em\"><span style=\"font-weight:bolder;font-size:1.25em\">SP2273 | Learning Portfolio</span><br><br><span style=\"font-weight:bold;color:darkred\">Functions (Good)</span></div>"
   ]
  },
  {
   "attachments": {},
   "cell_type": "markdown",
   "id": "8dfae31e",
   "metadata": {},
   "source": [
    "# What to expect in this chapter"
   ]
  },
  {
   "cell_type": "markdown",
   "id": "0f4e1cb6-910e-4283-b841-989b62ebf231",
   "metadata": {},
   "source": [
    "checking codes using **assert** **try except**"
   ]
  },
  {
   "attachments": {},
   "cell_type": "markdown",
   "id": "252330cc",
   "metadata": {},
   "source": [
    "# 1 Checks, balances, and contingencies"
   ]
  },
  {
   "attachments": {},
   "cell_type": "markdown",
   "id": "a626373b",
   "metadata": {},
   "source": [
    "## 1.1 assert"
   ]
  },
  {
   "cell_type": "markdown",
   "id": "44fac50b-4dc6-4df7-a1c2-653e0c374e67",
   "metadata": {},
   "source": [
    "assert + condition to check + message"
   ]
  },
  {
   "cell_type": "code",
   "execution_count": 8,
   "id": "05139cda-f685-45ce-9d6c-14e417683e8c",
   "metadata": {},
   "outputs": [],
   "source": [
    "assert x>=0, \"x is becoming negative!\""
   ]
  },
  {
   "cell_type": "code",
   "execution_count": 10,
   "id": "6eff0b4f-c331-4e5d-9f06-f07bd35df30c",
   "metadata": {},
   "outputs": [],
   "source": [
    "x=10\n",
    "assert x>=0, \"x is becoming negative!\""
   ]
  },
  {
   "cell_type": "code",
   "execution_count": 6,
   "id": "63485b85-100c-435a-860d-2dba4dddd3c9",
   "metadata": {},
   "outputs": [
    {
     "ename": "AssertionError",
     "evalue": "x is becoming negative!",
     "output_type": "error",
     "traceback": [
      "\u001b[1;31m---------------------------------------------------------------------------\u001b[0m",
      "\u001b[1;31mAssertionError\u001b[0m                            Traceback (most recent call last)",
      "Cell \u001b[1;32mIn[6], line 2\u001b[0m\n\u001b[0;32m      1\u001b[0m x\u001b[38;5;241m=\u001b[39m\u001b[38;5;241m-\u001b[39m\u001b[38;5;241m1\u001b[39m\n\u001b[1;32m----> 2\u001b[0m \u001b[38;5;28;01massert\u001b[39;00m x\u001b[38;5;241m>\u001b[39m\u001b[38;5;241m=\u001b[39m\u001b[38;5;241m0\u001b[39m, \u001b[38;5;124m\"\u001b[39m\u001b[38;5;124mx is becoming negative!\u001b[39m\u001b[38;5;124m\"\u001b[39m\n\u001b[0;32m      3\u001b[0m \u001b[38;5;66;03m#runs if condition is true, if fails AssertionError is raised to stop\u001b[39;00m\n",
      "\u001b[1;31mAssertionError\u001b[0m: x is becoming negative!"
     ]
    }
   ],
   "source": [
    "x=-1\n",
    "assert x>=0, \"x is becoming negative!\"\n",
    "#runs if condition is true, if fails AssertionError is raised to stop"
   ]
  },
  {
   "attachments": {},
   "cell_type": "markdown",
   "id": "fc8c02b2",
   "metadata": {},
   "source": [
    "## 1.2 try-except"
   ]
  },
  {
   "cell_type": "code",
   "execution_count": 11,
   "id": "5542eb22-1ff8-449e-9844-a61bd305c1a8",
   "metadata": {},
   "outputs": [
    {
     "name": "stdin",
     "output_type": "stream",
     "text": [
      "Give me a number and I will calculate its square. 2\n"
     ]
    },
    {
     "name": "stdout",
     "output_type": "stream",
     "text": [
      "The square of 2 is 4!\n"
     ]
    }
   ],
   "source": [
    "#user response with input() function\n",
    "number= input(\"Give me a number and I will calculate its square.\")\n",
    "square= int(number)**2 #convert english to number\n",
    "print(f'The square of {number} is {square}!')"
   ]
  },
  {
   "cell_type": "code",
   "execution_count": 13,
   "id": "a6446731-7d0a-4c07-87a0-8a62f01ba766",
   "metadata": {},
   "outputs": [
    {
     "name": "stdin",
     "output_type": "stream",
     "text": [
      "Give me a number and I will calculate its square. test\n"
     ]
    },
    {
     "name": "stdout",
     "output_type": "stream",
     "text": [
      "Oh oh! I cannot square test!\n"
     ]
    }
   ],
   "source": [
    "#if input is not a number\n",
    "try: \n",
    "    number= input(\"Give me a number and I will calculate its square.\")\n",
    "    square= int(number)**2 #convert english to number\n",
    "    print(f'The square of {number} is {square}!')\n",
    "except:\n",
    "    print(f\"Oh oh! I cannot square {number}!\")"
   ]
  },
  {
   "attachments": {},
   "cell_type": "markdown",
   "id": "97d1387e",
   "metadata": {},
   "source": [
    "## 1.3 A simple suggestion"
   ]
  },
  {
   "cell_type": "markdown",
   "id": "be6ccc14-07a1-4158-8760-24f3af5a51de",
   "metadata": {},
   "source": [
    "use print() statements to let people reading know what the program is running"
   ]
  },
  {
   "attachments": {},
   "cell_type": "markdown",
   "id": "8e90b534",
   "metadata": {},
   "source": [
    "# 2 Some loose ends"
   ]
  },
  {
   "attachments": {},
   "cell_type": "markdown",
   "id": "7c6b4487",
   "metadata": {},
   "source": [
    "## 2.1 Positional, keyword and default arguments"
   ]
  },
  {
   "cell_type": "code",
   "execution_count": 14,
   "id": "3dede0c9-22c9-42b2-9344-fb32c9e7571e",
   "metadata": {},
   "outputs": [],
   "source": [
    "def sidebyside(a,b,c=42):\n",
    "    return f'{a:2d}|{b:2d}|{c:2d}'"
   ]
  },
  {
   "cell_type": "code",
   "execution_count": 18,
   "id": "e7d852d9-121a-4699-8c10-2fc890db4076",
   "metadata": {},
   "outputs": [
    {
     "data": {
      "text/plain": [
       "' 1| 2| 3'"
      ]
     },
     "execution_count": 18,
     "metadata": {},
     "output_type": "execute_result"
    }
   ],
   "source": [
    "#positional\n",
    "sidebyside(1,2,3)\n",
    "#assign 1,2,3 to a,b,c "
   ]
  },
  {
   "cell_type": "code",
   "execution_count": 26,
   "id": "8fa7f2c2-3026-4fde-9bcb-eb55feb1e626",
   "metadata": {},
   "outputs": [
    {
     "data": {
      "text/plain": [
       "' 2| 1| 3'"
      ]
     },
     "execution_count": 26,
     "metadata": {},
     "output_type": "execute_result"
    }
   ],
   "source": [
    "#keyword\n",
    "sidebyside(c=3,b=1,a=2)\n",
    "#assign values to a,b,c order does not matter in argument"
   ]
  },
  {
   "cell_type": "code",
   "execution_count": 24,
   "id": "c72d7769-ea40-4585-b85f-b9c2e2fe7a07",
   "metadata": {},
   "outputs": [
    {
     "data": {
      "text/plain": [
       "' 1| 2|42'"
      ]
     },
     "execution_count": 24,
     "metadata": {},
     "output_type": "execute_result"
    }
   ],
   "source": [
    "#default\n",
    "sidebyside(1,b=2)\n",
    "#a=1, b=2, c=42, c is optional can choose not to specify it will get default value"
   ]
  },
  {
   "cell_type": "markdown",
   "id": "c2cc44d8-c0e4-4849-8b7b-b85c7e96b310",
   "metadata": {},
   "source": [
    "sidebyside(1,2)\n",
    "#2 positional 1 default -> 1 2 42\n",
    "\n",
    "sidebyside(1,2,3)\n",
    "#3 positional -> 1 2 3\n",
    "\n",
    "sidebyside(a=1,b=2)\n",
    "#2 keyword 1 default -> 1 2 42\n",
    "\n",
    "sidebyside(c=3,b=1,a=2) \n",
    "#3 keyword -> 2 1 3\n",
    "\n",
    "sidebyside(1,c=3,b=2)\n",
    "#1 positional 2 keyword -> 1 2 3\n",
    "\n",
    "sidebyside(1,b=2)\n",
    "#1 positional 1 keyword 1 default -> 1 2 42"
   ]
  },
  {
   "cell_type": "code",
   "execution_count": 30,
   "id": "e627cc86-8b27-4901-a535-c19e7ecb7681",
   "metadata": {},
   "outputs": [
    {
     "ename": "SyntaxError",
     "evalue": "positional argument follows keyword argument (343157527.py, line 2)",
     "output_type": "error",
     "traceback": [
      "\u001b[1;36m  Cell \u001b[1;32mIn[30], line 2\u001b[1;36m\u001b[0m\n\u001b[1;33m    sidebyside(a=2,1)\u001b[0m\n\u001b[1;37m                    ^\u001b[0m\n\u001b[1;31mSyntaxError\u001b[0m\u001b[1;31m:\u001b[0m positional argument follows keyword argument\n"
     ]
    }
   ],
   "source": [
    "#keyword, positional wont work\n",
    "sidebyside(a=2,1) "
   ]
  },
  {
   "cell_type": "code",
   "execution_count": 31,
   "id": "6f33d166-8fd5-4010-9695-1e1fbeb7ce94",
   "metadata": {},
   "outputs": [
    {
     "data": {
      "text/plain": [
       "' 2| 2|42'"
      ]
     },
     "execution_count": 31,
     "metadata": {},
     "output_type": "execute_result"
    }
   ],
   "source": [
    "sidebyside(2,2)"
   ]
  },
  {
   "attachments": {},
   "cell_type": "markdown",
   "id": "cdc8b617",
   "metadata": {},
   "source": [
    "## 2.2 Docstrings"
   ]
  },
  {
   "cell_type": "markdown",
   "id": "dda0f953-9b37-4028-8ff9-31479bdd1e0f",
   "metadata": {},
   "source": [
    "document what a function does inside a function when help() used\n",
    "\n",
    "docstring needs to be sandwiched between a pair of ''' or \"\"\" + can span multiple lines"
   ]
  },
  {
   "cell_type": "code",
   "execution_count": 34,
   "id": "b437a77d-e95e-4e21-918e-92914cce6c33",
   "metadata": {},
   "outputs": [],
   "source": [
    "def sidebyside(a,b,c=42):\n",
    "    '''\n",
    "    A test function to demonstrate how positional keyword default arguments work\n",
    "    '''\n",
    "    return f'{a:2d}|{b:2d}|{c:2d}'"
   ]
  },
  {
   "cell_type": "code",
   "execution_count": 35,
   "id": "86e5a6c1-4594-4385-a822-2e19ddd9b3af",
   "metadata": {},
   "outputs": [
    {
     "name": "stdout",
     "output_type": "stream",
     "text": [
      "Help on function sidebyside in module __main__:\n",
      "\n",
      "sidebyside(a, b, c=42)\n",
      "    A test function to demonstrate how positional keyword default arguments work\n",
      "\n"
     ]
    }
   ],
   "source": [
    "help(sidebyside)"
   ]
  },
  {
   "attachments": {},
   "cell_type": "markdown",
   "id": "6aded998",
   "metadata": {},
   "source": [
    "## 2.3 Function are first-class citizens"
   ]
  },
  {
   "cell_type": "markdown",
   "id": "94487270-fc31-4813-9331-02d30af91d19",
   "metadata": {},
   "source": [
    "can pass a function as an **argument** to another function"
   ]
  },
  {
   "cell_type": "code",
   "execution_count": 3,
   "id": "8b75d471-4146-4403-9bd9-3210f5c33df9",
   "metadata": {},
   "outputs": [],
   "source": [
    "def my_function(angle,trig_function):\n",
    "    return trig_function(angle)"
   ]
  },
  {
   "cell_type": "code",
   "execution_count": 4,
   "id": "61a168f6-a029-443c-be8b-0b0e4bf1159f",
   "metadata": {},
   "outputs": [
    {
     "data": {
      "text/plain": [
       "1.0"
      ]
     },
     "execution_count": 4,
     "metadata": {},
     "output_type": "execute_result"
    }
   ],
   "source": [
    "import numpy as np\n",
    "my_function(np.pi/2,np.sin)\n",
    "#angle pi/2, trig function sin -> return sin(pi/2)"
   ]
  },
  {
   "cell_type": "code",
   "execution_count": 39,
   "id": "fa7ccaab-ac45-4763-ab6b-bb45aa582e54",
   "metadata": {},
   "outputs": [
    {
     "data": {
      "text/plain": [
       "-1.0"
      ]
     },
     "execution_count": 39,
     "metadata": {},
     "output_type": "execute_result"
    }
   ],
   "source": [
    "my_function(np.pi/2,lambda x:np.cos(2*x))"
   ]
  },
  {
   "attachments": {},
   "cell_type": "markdown",
   "id": "86c0eeb0",
   "metadata": {},
   "source": [
    "## 2.4 More about unpacking"
   ]
  },
  {
   "cell_type": "code",
   "execution_count": 40,
   "id": "ba38926c-e5ee-432a-8eb0-c5f8dc218318",
   "metadata": {},
   "outputs": [
    {
     "data": {
      "text/plain": [
       "(1, 2, 3)"
      ]
     },
     "execution_count": 40,
     "metadata": {},
     "output_type": "execute_result"
    }
   ],
   "source": [
    "x,y,z=[1,2,3]\n",
    "x,y,z"
   ]
  },
  {
   "cell_type": "code",
   "execution_count": 41,
   "id": "fdc26a0f-6293-46b7-aa61-e311d883d122",
   "metadata": {},
   "outputs": [
    {
     "data": {
      "text/plain": [
       "(1, 2, 3)"
      ]
     },
     "execution_count": 41,
     "metadata": {},
     "output_type": "execute_result"
    }
   ],
   "source": [
    "x,y,z=np.array([1,2,3])\n",
    "x,y,z"
   ]
  },
  {
   "cell_type": "code",
   "execution_count": 5,
   "id": "12abbfd2-9251-4c15-95e8-ea0ed5819202",
   "metadata": {},
   "outputs": [
    {
     "data": {
      "text/plain": [
       "(1, [2, 3, 4], 5)"
      ]
     },
     "execution_count": 5,
     "metadata": {},
     "output_type": "execute_result"
    }
   ],
   "source": [
    "x,*y,z=np.array([1,2,3,4,5])\n",
    "x,y,z\n",
    "#* will group 2,3,4 together"
   ]
  },
  {
   "cell_type": "code",
   "execution_count": 6,
   "id": "1f7804d5-38b6-49b6-b72a-2df3d3555839",
   "metadata": {},
   "outputs": [
    {
     "data": {
      "text/plain": [
       "(1, 5)"
      ]
     },
     "execution_count": 6,
     "metadata": {},
     "output_type": "execute_result"
    }
   ],
   "source": [
    "x,*_,y=[1,2,3,4,5]\n",
    "x,y\n",
    "#* groups 2,3,4 into a new list ([2,3,4]) and store in a throwaway variable _\n",
    "#_ indicates variable we dont need"
   ]
  }
 ],
 "metadata": {
  "kernelspec": {
   "display_name": "Python 3 (ipykernel)",
   "language": "python",
   "name": "python3"
  },
  "language_info": {
   "codemirror_mode": {
    "name": "ipython",
    "version": 3
   },
   "file_extension": ".py",
   "mimetype": "text/x-python",
   "name": "python",
   "nbconvert_exporter": "python",
   "pygments_lexer": "ipython3",
   "version": "3.11.5"
  },
  "toc": {
   "base_numbering": 1,
   "nav_menu": {},
   "number_sections": true,
   "sideBar": true,
   "skip_h1_title": false,
   "title_cell": "Table of Contents",
   "title_sidebar": "Contents",
   "toc_cell": false,
   "toc_position": {},
   "toc_section_display": true,
   "toc_window_display": false
  },
  "vscode": {
   "interpreter": {
    "hash": "31f2aee4e71d21fbe5cf8b01ff0e069b9275f58929596ceb00d14d90e3e16cd6"
   }
  }
 },
 "nbformat": 4,
 "nbformat_minor": 5
}
