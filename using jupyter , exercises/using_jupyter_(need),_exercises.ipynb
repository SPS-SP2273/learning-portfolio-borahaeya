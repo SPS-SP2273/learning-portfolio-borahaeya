{
 "cells": [
  {
   "cell_type": "markdown",
   "id": "123456",
   "metadata": {},
   "source": [
    "<div style=\"text-align:left;font-size:2em\"><span style=\"font-weight:bolder;font-size:1.25em\">SP2273 | Learning Portfolio</span><br><br><span style=\"font-weight:bold;color:darkred\">Using Jupyter (Need), Exercises</span></div>"
   ]
  },
  {
   "cell_type": "markdown",
   "id": "9a2140f4",
   "metadata": {},
   "source": [
    "## Quadratic Equations"
   ]
  },
  {
   "cell_type": "markdown",
   "id": "ad45b608",
   "metadata": {},
   "source": [
    "### Introduction"
   ]
  },
  {
   "cell_type": "markdown",
   "id": "31441fb6",
   "metadata": {},
   "source": [
    "![](https://upload.wikimedia.org/wikipedia/commons/thumb/f/f8/Polynomialdeg2.svg/450px-Polynomialdeg2.svg.png)"
   ]
  },
  {
   "cell_type": "markdown",
   "id": "969fec81",
   "metadata": {},
   "source": [
    "(*Image from the* [*Wikipedia page on Quadratic equations*](https://en.wikipedia.org/wiki/Quadratic_equation))\n",
    "\n",
    "The general form of a quadratic equation is:\n",
    "$$\n",
    "ax^2+bx+c= 0\n",
    "$$"
   ]
  },
  {
   "cell_type": "markdown",
   "id": "b67154c5",
   "metadata": {},
   "source": [
    "### Solutions"
   ]
  },
  {
   "cell_type": "markdown",
   "id": "f1febd84",
   "metadata": {},
   "source": [
    "Provided $a \\ne 0$, we can use an elementary algebraic method called [completing the square](https://en.wikipedia.org/wiki/Completing_the_square) to show that a quadratic equation has the following solution:\n",
    "\n",
    "$$\n",
    "x= \\dfrac{-b \\pm \\sqrt{b^2-4ac}}{2a}\n",
    "$$\n"
   ]
  },
  {
   "cell_type": "markdown",
   "id": "d8f02929",
   "metadata": {},
   "source": [
    "### Discriminant"
   ]
  },
  {
   "cell_type": "markdown",
   "id": "55673d3f",
   "metadata": {},
   "source": [
    "The quantity $\\Delta= b^2-4ac$  is called the **discriminant** of the equation and decides the nature of its solutions. The table below shows the various possibilities."
   ]
  },
  {
   "cell_type": "markdown",
   "id": "a072ab17",
   "metadata": {},
   "source": [
    "|     **Discriminant**    | **Roots**                               |\n",
    "|:-----------------------:|:-----------------------------------------|\n",
    "| $$\\Delta= b^2-4ac= 0$$    | A single solution of $-b/(2a)$  |\n",
    "| $$\\Delta= b^2-4ac \\gt 0$$ | Two distinct solutions                  |\n",
    "| $$\\Delta= b^2-4ac \\lt 0$$ | No real solutions; both are complex.    |"
   ]
  },
  {
   "cell_type": "markdown",
   "id": "6cce4a43",
   "metadata": {},
   "source": [
    "#### Exercise 2"
   ]
  },
  {
   "cell_type": "markdown",
   "id": "4a1089b1",
   "metadata": {},
   "source": [
    "1. What is a Git **respository**?\n",
    "    1. Central storage location to manage and track changes in files and directories\n",
    "1. Git keeps track of **changes in source code** in the files of our repository.\n",
    "1. What is a **commit**?\n",
    "    1. Saving changes to a file in the local repository at a certain point \n",
    "1. What is a **push**?\n",
    "    1. Command to transfer commit/upload changes in local repository content to cloud repository\n",
    "1. What is a **pull**?\n",
    "    1. Command to transfer commit/upload changes in cloud repository content to local repository\n",
    "1. What is the difference between **GitHub** and **GitHub Desktop**?\n",
    "    1. GitHub Desktop has graphical user interface (GUI) features to manage GitHub which stores Git repositories\n",
    "    2. (edited) GitHub Desktop **local handler**, GitHub **cloud and online**\r\n",
    "\r\n",
    "\r\n"
   ]
  }
 ],
 "metadata": {
  "kernelspec": {
   "display_name": "Python 3 (ipykernel)",
   "language": "python",
   "name": "python3"
  },
  "language_info": {
   "codemirror_mode": {
    "name": "ipython",
    "version": 3
   },
   "file_extension": ".py",
   "mimetype": "text/x-python",
   "name": "python",
   "nbconvert_exporter": "python",
   "pygments_lexer": "ipython3",
   "version": "3.11.5"
  },
  "toc": {
   "base_numbering": 1,
   "nav_menu": {},
   "number_sections": true,
   "sideBar": true,
   "skip_h1_title": false,
   "title_cell": "Table of Contents",
   "title_sidebar": "Contents",
   "toc_cell": false,
   "toc_position": {},
   "toc_section_display": true,
   "toc_window_display": false
  },
  "vscode": {
   "interpreter": {
    "hash": "31f2aee4e71d21fbe5cf8b01ff0e069b9275f58929596ceb00d14d90e3e16cd6"
   }
  }
 },
 "nbformat": 4,
 "nbformat_minor": 5
}
