{
 "cells": [
  {
   "attachments": {},
   "cell_type": "markdown",
   "id": "123456",
   "metadata": {},
   "source": [
    "<div style=\"text-align:left;font-size:2em\"><span style=\"font-weight:bolder;font-size:1.25em\">SP2273 | Learning Portfolio</span><br><br><span style=\"font-weight:bold;color:darkred\">Storing Data (Need) Exercises</span></div>"
   ]
  },
  {
   "cell_type": "markdown",
   "id": "9363262f-c296-4628-a738-c08bfd920b15",
   "metadata": {},
   "source": [
    "## Exercise 1"
   ]
  },
  {
   "cell_type": "markdown",
   "id": "ad4651ce-89b2-4f32-b303-7a2f0b24f9f2",
   "metadata": {},
   "source": [
    "1. Similarities\n",
    "- identifies elements as indexes (it assigns numbers)\n",
    "- order matters (e.g. 'Wonder Woman' must be in the same position as 'Diana')\n",
    "2. Differences\n",
    "- arrays require the numpy package while lists do not\n",
    "- arrays can only accommodate a single data type while lists can\n",
    "3. Dictionary stores data as key-value pairs"
   ]
  },
  {
   "cell_type": "markdown",
   "id": "29e1a5dd-2c08-4f87-9037-54ad74ef0c7f",
   "metadata": {},
   "source": [
    "## Exercise 2"
   ]
  },
  {
   "cell_type": "code",
   "execution_count": 8,
   "id": "81e8bc9a-f9d9-447a-9f59-8271c2c4fdc7",
   "metadata": {},
   "outputs": [
    {
     "name": "stdout",
     "output_type": "stream",
     "text": [
      "a1\n",
      "c3\n",
      "e5\n",
      "g7\n",
      "i9\n"
     ]
    }
   ],
   "source": [
    "py_list = [\"a1\", \"b2\", \"c3\", \"d4\", \"e5\", \"f6\", \"g7\", \"h8\", \"i9\", \"j10\"]\n",
    "print(py_list[0])\n",
    "print(py_list[2])\n",
    "print(py_list[4])\n",
    "print(py_list[6])\n",
    "print(py_list[8])"
   ]
  },
  {
   "cell_type": "markdown",
   "id": "9218d209-816d-49b9-873b-a22544244bbc",
   "metadata": {},
   "source": [
    "## Exercise 3"
   ]
  },
  {
   "cell_type": "code",
   "execution_count": 15,
   "id": "6e91ec27-7b41-44e4-9e6e-084a88d363bc",
   "metadata": {},
   "outputs": [],
   "source": [
    "elements= [\"Hydrogen\",\"Helium\", \"Lithium\",\"Beryllium\", \"Boron\", \"Carbon\",\"Nitrogen\", \"Oxygen\",\"Fluorine\",\"Neon\"]"
   ]
  },
  {
   "cell_type": "code",
   "execution_count": 17,
   "id": "e8679106-f47e-4ca3-a30b-6944aeb229ca",
   "metadata": {},
   "outputs": [
    {
     "data": {
      "text/plain": [
       "'Boron'"
      ]
     },
     "execution_count": 17,
     "metadata": {},
     "output_type": "execute_result"
    }
   ],
   "source": [
    "elements[4]"
   ]
  },
  {
   "cell_type": "code",
   "execution_count": 21,
   "id": "2d0cc6c7-0ae3-4ca3-ab8a-ddf172ad9d9e",
   "metadata": {},
   "outputs": [
    {
     "data": {
      "text/plain": [
       "'Boron'"
      ]
     },
     "execution_count": 21,
     "metadata": {},
     "output_type": "execute_result"
    }
   ],
   "source": [
    "elements[-6]\n",
    "#reverse index starts with -1 instead of 0 for forward"
   ]
  },
  {
   "cell_type": "markdown",
   "id": "ad2f0dcc-2f49-4ba2-ab79-1e7d58fe7408",
   "metadata": {},
   "source": [
    "## Exercise 4"
   ]
  },
  {
   "cell_type": "code",
   "execution_count": 26,
   "id": "ab15cef6-52cc-4307-b04b-08b8d1174645",
   "metadata": {},
   "outputs": [],
   "source": [
    "import numpy as np"
   ]
  },
  {
   "cell_type": "code",
   "execution_count": 31,
   "id": "d328f58e-b92d-43fb-9d4b-0f5a6e1f7149",
   "metadata": {},
   "outputs": [],
   "source": [
    "numbers = np.array([45, 60, 1, 30, 96, 1, 96, 57, 16, 1, 99, 62, 86, 43, 42, 60, 59, 1, 1, 35, 83, 47, 34, 28, 68, 23, 22, 92, 1, 79, 1, 29, 94, 72, 46, 47, 1, 74, 32, 20, 8, 37, 35, 1, 89, 29, 86, 19, 43, 61])\n",
    "#np.array can only accept 1 or 2 arguments, np.array([many numbers in 1 list])"
   ]
  },
  {
   "cell_type": "code",
   "execution_count": 33,
   "id": "46291aa7-1b39-48be-952e-43bb034bf2d2",
   "metadata": {},
   "outputs": [
    {
     "data": {
      "text/plain": [
       "9"
      ]
     },
     "execution_count": 33,
     "metadata": {},
     "output_type": "execute_result"
    }
   ],
   "source": [
    "sum(numbers== 1)"
   ]
  }
 ],
 "metadata": {
  "kernelspec": {
   "display_name": "Python 3 (ipykernel)",
   "language": "python",
   "name": "python3"
  },
  "language_info": {
   "codemirror_mode": {
    "name": "ipython",
    "version": 3
   },
   "file_extension": ".py",
   "mimetype": "text/x-python",
   "name": "python",
   "nbconvert_exporter": "python",
   "pygments_lexer": "ipython3",
   "version": "3.11.5"
  },
  "toc": {
   "base_numbering": 1,
   "nav_menu": {},
   "number_sections": true,
   "sideBar": true,
   "skip_h1_title": false,
   "title_cell": "Table of Contents",
   "title_sidebar": "Contents",
   "toc_cell": false,
   "toc_position": {},
   "toc_section_display": true,
   "toc_window_display": false
  },
  "vscode": {
   "interpreter": {
    "hash": "31f2aee4e71d21fbe5cf8b01ff0e069b9275f58929596ceb00d14d90e3e16cd6"
   }
  }
 },
 "nbformat": 4,
 "nbformat_minor": 5
}
