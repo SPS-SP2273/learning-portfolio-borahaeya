{
 "cells": [
  {
   "attachments": {},
   "cell_type": "markdown",
   "id": "123456",
   "metadata": {},
   "source": [
    "<div style=\"text-align:left;font-size:2em\"><span style=\"font-weight:bolder;font-size:1.25em\">SP2273 | Learning Portfolio</span><br><br><span style=\"font-weight:bold;color:darkred\">Storing Data (Good) Exercises</span></div>"
   ]
  },
  {
   "cell_type": "markdown",
   "id": "c8417e4f-d80a-4e19-9a20-86fed4cb97a5",
   "metadata": {},
   "source": [
    "## Exercise 1"
   ]
  },
  {
   "cell_type": "markdown",
   "id": "294ef8ee-2790-4f23-8e45-830275086f0c",
   "metadata": {},
   "source": [
    "| Term       | Brief description                        |\r\n",
    "|------------|------------------------------------------|\r\n",
    "| Subsetting | Select from a dataset                    |\r\n",
    "| Indexing   | Selecting one element                    |\r\n",
    "| Slicing    | Selecting a range of elements            |\r\n",
    "| Masking    | Conditional selection (numpy array only) |ly) |"
   ]
  },
  {
   "cell_type": "markdown",
   "id": "6cf7db41-de47-408a-a85d-854f33a14786",
   "metadata": {},
   "source": [
    "## Exercise 2"
   ]
  },
  {
   "cell_type": "code",
   "execution_count": 2,
   "id": "b632aa12-1006-4f68-926b-07e3aef57632",
   "metadata": {},
   "outputs": [],
   "source": [
    "import numpy as np\n",
    "np_array_2d = np.array([[1, \"A\"], [3, \"C\"], [2, \"B\"], [4, \"D\"],\n",
    "                        [5, \"E\"], [7, \"G\"], [6, \"F\"], [8, \"H\"],\n",
    "                        [10, \"J\"], [9, \"I\"]])"
   ]
  },
  {
   "cell_type": "code",
   "execution_count": 4,
   "id": "fe736d5c-5da1-4a04-ac03-adfad27c7989",
   "metadata": {},
   "outputs": [
    {
     "data": {
      "text/plain": [
       "array(['1', '3', '2', '4', '5', '7', '6', '8', '10', '9'], dtype='<U11')"
      ]
     },
     "execution_count": 4,
     "metadata": {},
     "output_type": "execute_result"
    }
   ],
   "source": [
    "np_array_2d[:,0]\n",
    "# \":\" will print everything, \"0\" print all first elements"
   ]
  },
  {
   "cell_type": "code",
   "execution_count": 5,
   "id": "d6300b97-fed2-4f93-9df6-8185224222bf",
   "metadata": {},
   "outputs": [
    {
     "data": {
      "text/plain": [
       "array(['A', 'C', 'B', 'D', 'E', 'G', 'F', 'H', 'J', 'I'], dtype='<U11')"
      ]
     },
     "execution_count": 5,
     "metadata": {},
     "output_type": "execute_result"
    }
   ],
   "source": [
    "np_array_2d[:,1]"
   ]
  },
  {
   "cell_type": "code",
   "execution_count": 8,
   "id": "037179c6-bc20-4156-b828-61ec0254c06b",
   "metadata": {},
   "outputs": [
    {
     "data": {
      "text/plain": [
       "array([ 1,  3,  2,  4,  5,  7,  6,  8, 10,  9])"
      ]
     },
     "execution_count": 8,
     "metadata": {},
     "output_type": "execute_result"
    }
   ],
   "source": [
    "np_array_2d[:,0].astype(int)\n",
    "#astype needs (.) in front, a method that requires ownership"
   ]
  },
  {
   "cell_type": "code",
   "execution_count": 3,
   "id": "9afa10c9-8c30-4a80-a986-d63fb37d56f4",
   "metadata": {},
   "outputs": [
    {
     "data": {
      "text/plain": [
       "array([ True,  True, False, False,  True,  True, False, False, False,\n",
       "        True])"
      ]
     },
     "execution_count": 3,
     "metadata": {},
     "output_type": "execute_result"
    }
   ],
   "source": [
    "np_array_2d[:,0].astype(int)%2!=0\n"
   ]
  },
  {
   "cell_type": "code",
   "execution_count": 13,
   "id": "5fbbb6ae-f2b0-4228-b364-5d29816f6b60",
   "metadata": {},
   "outputs": [
    {
     "data": {
      "text/plain": [
       "array(['A', 'C', 'E', 'G', 'I'], dtype='<U11')"
      ]
     },
     "execution_count": 13,
     "metadata": {},
     "output_type": "execute_result"
    }
   ],
   "source": [
    "array_oddcharacters= np_array_2d[:,0].astype(int)%2!=0\n",
    "np_array_2d[array_oddcharacters][:,1]"
   ]
  }
 ],
 "metadata": {
  "kernelspec": {
   "display_name": "Python 3 (ipykernel)",
   "language": "python",
   "name": "python3"
  },
  "language_info": {
   "codemirror_mode": {
    "name": "ipython",
    "version": 3
   },
   "file_extension": ".py",
   "mimetype": "text/x-python",
   "name": "python",
   "nbconvert_exporter": "python",
   "pygments_lexer": "ipython3",
   "version": "3.11.5"
  },
  "toc": {
   "base_numbering": 1,
   "nav_menu": {},
   "number_sections": true,
   "sideBar": true,
   "skip_h1_title": false,
   "title_cell": "Table of Contents",
   "title_sidebar": "Contents",
   "toc_cell": false,
   "toc_position": {},
   "toc_section_display": true,
   "toc_window_display": false
  },
  "vscode": {
   "interpreter": {
    "hash": "31f2aee4e71d21fbe5cf8b01ff0e069b9275f58929596ceb00d14d90e3e16cd6"
   }
  }
 },
 "nbformat": 4,
 "nbformat_minor": 5
}
