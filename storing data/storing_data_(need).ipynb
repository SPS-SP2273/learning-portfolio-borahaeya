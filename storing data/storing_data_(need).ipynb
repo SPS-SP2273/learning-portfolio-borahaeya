{
 "cells": [
  {
   "attachments": {},
   "cell_type": "markdown",
   "id": "123456",
   "metadata": {},
   "source": [
    "<div style=\"text-align:left;font-size:2em\"><span style=\"font-weight:bolder;font-size:1.25em\">SP2273 | Learning Portfolio</span><br><br><span style=\"font-weight:bold;color:darkred\">Storing Data (Need)</span></div>"
   ]
  },
  {
   "attachments": {},
   "cell_type": "markdown",
   "id": "ef527a19",
   "metadata": {},
   "source": [
    "# What to expect in this chapter"
   ]
  },
  {
   "attachments": {},
   "cell_type": "markdown",
   "id": "15f2d8f7",
   "metadata": {},
   "source": [
    "# 1 Lists, Arrays & Dictionaries"
   ]
  },
  {
   "cell_type": "code",
   "execution_count": 2,
   "id": "b7a1fcdd-fb93-47d6-9241-ca6dd53c5f66",
   "metadata": {},
   "outputs": [],
   "source": [
    "#python list\n",
    "super_names= [\"Black Widow\", \"Iron Man\", \"Doctor Strange\"]\n",
    "real_names= [\"Natasha\", \"Tony\", \"Stephen\"]"
   ]
  },
  {
   "cell_type": "code",
   "execution_count": 9,
   "id": "be4b34b3-f20e-435e-8d7d-64028f2b4e86",
   "metadata": {},
   "outputs": [],
   "source": [
    "#numpy array\n",
    "import numpy as np\n",
    "np_super_names= np.array([\"Black Widow\", \"Iron Man\", \"Doctor Strange\"])\n",
    "np_real_names= np.array([\"Natasha\", \"Tony\", \"Stephen\"])\n",
    "#must put np.array before ()"
   ]
  },
  {
   "cell_type": "code",
   "execution_count": 3,
   "id": "dcedc614-0590-4810-b2f5-b5e538d060a4",
   "metadata": {},
   "outputs": [],
   "source": [
    "#dictionary\n",
    "superhero_info= {\n",
    "    \"Natasha\": \"Black Widow\",\n",
    "    \"Tony\": \"Iron Man\",\n",
    "    \"Stephen\": \"Doctor Strange\"\n",
    "}\n",
    "#\"Natasha\", \"Tony\" \"Stephen\" KEYS\n",
    "#\"Black Widow\", \"Iron Man\", \"Doctor Strange\" VALUES\n",
    "#see2.3 1.3"
   ]
  },
  {
   "attachments": {},
   "cell_type": "markdown",
   "id": "91fb5554",
   "metadata": {},
   "source": [
    "## 1.1 Let’s compare"
   ]
  },
  {
   "attachments": {},
   "cell_type": "markdown",
   "id": "fce7f50d",
   "metadata": {},
   "source": [
    "## 1.2 Accessing data from a list (or array)"
   ]
  },
  {
   "cell_type": "code",
   "execution_count": 13,
   "id": "735b276a-f372-466b-bd26-a1ed76d95f22",
   "metadata": {},
   "outputs": [
    {
     "data": {
      "text/plain": [
       "'Natasha'"
      ]
     },
     "execution_count": 13,
     "metadata": {},
     "output_type": "execute_result"
    }
   ],
   "source": [
    "#python is 0 indexed language, starts counting at 0 (first item is 0)\n",
    "real_names[0]"
   ]
  },
  {
   "cell_type": "code",
   "execution_count": 14,
   "id": "21f5b71a-5b26-47d9-b11d-086d074f2c9d",
   "metadata": {},
   "outputs": [
    {
     "data": {
      "text/plain": [
       "'Doctor Strange'"
      ]
     },
     "execution_count": 14,
     "metadata": {},
     "output_type": "execute_result"
    }
   ],
   "source": [
    "#negative index counts from the back of list\n",
    "super_names[-1]"
   ]
  },
  {
   "cell_type": "code",
   "execution_count": 18,
   "id": "b8a849f7-0194-46a3-b82f-f3c4ba9ab165",
   "metadata": {},
   "outputs": [
    {
     "data": {
      "text/plain": [
       "'Doctor Strange'"
      ]
     },
     "execution_count": 18,
     "metadata": {},
     "output_type": "execute_result"
    }
   ],
   "source": [
    "np_super_names[-1]"
   ]
  },
  {
   "attachments": {},
   "cell_type": "markdown",
   "id": "35db9004",
   "metadata": {},
   "source": [
    "## 1.3 Accessing data from a dictionary"
   ]
  },
  {
   "cell_type": "code",
   "execution_count": 15,
   "id": "6251c0da-6713-4f15-a4ae-54d38939b643",
   "metadata": {},
   "outputs": [
    {
     "data": {
      "text/plain": [
       "'Iron Man'"
      ]
     },
     "execution_count": 15,
     "metadata": {},
     "output_type": "execute_result"
    }
   ],
   "source": [
    "superhero_info[\"Tony\"]"
   ]
  },
  {
   "cell_type": "code",
   "execution_count": 16,
   "id": "f0d9add1-269a-4cb8-8a80-477906c633d5",
   "metadata": {},
   "outputs": [
    {
     "data": {
      "text/plain": [
       "dict_keys(['Natasha', 'Tony', 'Stephen'])"
      ]
     },
     "execution_count": 16,
     "metadata": {},
     "output_type": "execute_result"
    }
   ],
   "source": [
    "superhero_info.keys() #what comes before :"
   ]
  },
  {
   "cell_type": "code",
   "execution_count": 17,
   "id": "d8ea545c-cf34-4d3c-bdae-85c780585b57",
   "metadata": {},
   "outputs": [
    {
     "data": {
      "text/plain": [
       "dict_values(['Black Widow', 'Iron Man', 'Doctor Strange'])"
      ]
     },
     "execution_count": 17,
     "metadata": {},
     "output_type": "execute_result"
    }
   ],
   "source": [
    "superhero_info.values() #what comes after :"
   ]
  },
  {
   "attachments": {},
   "cell_type": "markdown",
   "id": "7ce3b60f",
   "metadata": {},
   "source": [
    "## 1.4 Higher dimensional lists"
   ]
  },
  {
   "cell_type": "code",
   "execution_count": 19,
   "id": "b5c4ab99-59db-4571-8d9d-bbb75f8edd4b",
   "metadata": {},
   "outputs": [],
   "source": [
    "#use 2 lists to store real and superhero names -> 2D list or array\n",
    "py_superhero_info= [['Natasha', 'Black Widow'],\n",
    "                    ['Tony', 'Iron Man'],\n",
    "                    ['Stephen', 'Doctor Strange']]"
   ]
  },
  {
   "attachments": {},
   "cell_type": "markdown",
   "id": "2867b82b",
   "metadata": {},
   "source": [
    "# 2 Lists vs. Arrays"
   ]
  },
  {
   "attachments": {},
   "cell_type": "markdown",
   "id": "999390c3",
   "metadata": {},
   "source": [
    "## 2.1 Size"
   ]
  },
  {
   "cell_type": "code",
   "execution_count": 4,
   "id": "4061abef-13fc-456d-9c22-afa37645a2c3",
   "metadata": {},
   "outputs": [
    {
     "data": {
      "text/plain": [
       "4"
      ]
     },
     "execution_count": 4,
     "metadata": {},
     "output_type": "execute_result"
    }
   ],
   "source": [
    "py_list_2d= [[1,\"A\"],[2, \"B\"], [3,\"C\"], [4, \"D\"]]\n",
    "np_array_2d= np.array(py_list_2d) #reuses python list to create new numpy array\n",
    "\n",
    "#len() function to identify no of elements in lists/arrays\n",
    "len(py_list_2d)"
   ]
  },
  {
   "cell_type": "code",
   "execution_count": 21,
   "id": "c75cc77e-531f-44e9-b901-5a3fb3761589",
   "metadata": {},
   "outputs": [
    {
     "data": {
      "text/plain": [
       "4"
      ]
     },
     "execution_count": 21,
     "metadata": {},
     "output_type": "execute_result"
    }
   ],
   "source": [
    "len(np_array_2d)"
   ]
  },
  {
   "cell_type": "code",
   "execution_count": 6,
   "id": "129a2cd8-eda9-4770-a263-0fe34bb7d1f5",
   "metadata": {},
   "outputs": [
    {
     "data": {
      "text/plain": [
       "(4, 2)"
      ]
     },
     "execution_count": 6,
     "metadata": {},
     "output_type": "execute_result"
    }
   ],
   "source": [
    "import numpy as np\n",
    "np_array_2d.shape #shape is not a function () not required\n",
    "                #displays (no of elements, no of elements in each dimension)"
   ]
  },
  {
   "cell_type": "code",
   "execution_count": 8,
   "id": "bd6fcb6c-b2c3-46e7-a5c2-e58f3d7a7e88",
   "metadata": {},
   "outputs": [
    {
     "data": {
      "text/plain": [
       "[4, 'D']"
      ]
     },
     "execution_count": 8,
     "metadata": {},
     "output_type": "execute_result"
    }
   ],
   "source": [
    "py_list_2d[-1]"
   ]
  },
  {
   "attachments": {},
   "cell_type": "markdown",
   "id": "4fc80dba",
   "metadata": {},
   "source": [
    "## 2.2 Arrays are fussy about type"
   ]
  },
  {
   "cell_type": "code",
   "execution_count": 10,
   "id": "5079e2fc-ea0d-4c56-9067-7230d680c682",
   "metadata": {},
   "outputs": [],
   "source": [
    "py_list= [1,1.5,'A'] #list\n",
    "np_array= np.array(py_list) #array"
   ]
  },
  {
   "cell_type": "code",
   "execution_count": 11,
   "id": "4c6c4e52-02da-4b48-9964-441d469d9fbe",
   "metadata": {},
   "outputs": [
    {
     "data": {
      "text/plain": [
       "[1, 1.5, 'A']"
      ]
     },
     "execution_count": 11,
     "metadata": {},
     "output_type": "execute_result"
    }
   ],
   "source": [
    "py_list"
   ]
  },
  {
   "cell_type": "code",
   "execution_count": 12,
   "id": "d4a38d98-69ee-4229-a525-f53f53d9d61f",
   "metadata": {},
   "outputs": [
    {
     "data": {
      "text/plain": [
       "array(['1', '1.5', 'A'], dtype='<U32')"
      ]
     },
     "execution_count": 12,
     "metadata": {},
     "output_type": "execute_result"
    }
   ],
   "source": [
    "np_array"
   ]
  },
  {
   "attachments": {},
   "cell_type": "markdown",
   "id": "e7116d10",
   "metadata": {},
   "source": [
    "## 2.3 Adding a number"
   ]
  },
  {
   "cell_type": "code",
   "execution_count": 13,
   "id": "80ae1734-d032-407e-9997-59b29b3a60f5",
   "metadata": {},
   "outputs": [],
   "source": [
    "py_list= [1,2,3,4,5]\n",
    "np_array= np.array(py_list) #reuses python list to create new numpy array"
   ]
  },
  {
   "cell_type": "code",
   "execution_count": 16,
   "id": "d823817f-d57f-49ce-a666-72b791e3d7d7",
   "metadata": {},
   "outputs": [
    {
     "ename": "TypeError",
     "evalue": "can only concatenate list (not \"int\") to list",
     "output_type": "error",
     "traceback": [
      "\u001b[1;31m---------------------------------------------------------------------------\u001b[0m",
      "\u001b[1;31mTypeError\u001b[0m                                 Traceback (most recent call last)",
      "Cell \u001b[1;32mIn[16], line 2\u001b[0m\n\u001b[0;32m      1\u001b[0m \u001b[38;5;66;03m#list\u001b[39;00m\n\u001b[1;32m----> 2\u001b[0m \u001b[43mpy_list\u001b[49m\u001b[43m \u001b[49m\u001b[38;5;241;43m+\u001b[39;49m\u001b[38;5;241;43m10\u001b[39;49m \u001b[38;5;66;03m#will not work\u001b[39;00m\n",
      "\u001b[1;31mTypeError\u001b[0m: can only concatenate list (not \"int\") to list"
     ]
    }
   ],
   "source": [
    "#list\n",
    "py_list +10 #will not work"
   ]
  },
  {
   "cell_type": "code",
   "execution_count": 17,
   "id": "002b94d0-6a7a-4af8-85cf-8f78ed04742c",
   "metadata": {},
   "outputs": [
    {
     "data": {
      "text/plain": [
       "array([11, 12, 13, 14, 15])"
      ]
     },
     "execution_count": 17,
     "metadata": {},
     "output_type": "execute_result"
    }
   ],
   "source": [
    "#array\n",
    "np_array +10 #works"
   ]
  },
  {
   "attachments": {},
   "cell_type": "markdown",
   "id": "e7e54adc",
   "metadata": {},
   "source": [
    "## 2.4 Adding another list"
   ]
  },
  {
   "cell_type": "code",
   "execution_count": 18,
   "id": "8cd6696f-e090-45f1-b6d4-aa0979bf812b",
   "metadata": {},
   "outputs": [],
   "source": [
    "py_list_1= [1,2,3,4,5]\n",
    "py_list_2= [10,20,30,40,50]\n",
    "\n",
    "np_array_1= np.array(py_list_1)\n",
    "np_array_2= np.array(py_list_2)"
   ]
  },
  {
   "cell_type": "code",
   "execution_count": 23,
   "id": "3b97fbce-5d49-4554-9149-3fba5ef8ef4b",
   "metadata": {},
   "outputs": [
    {
     "data": {
      "text/plain": [
       "[1, 2, 3, 4, 5, 10, 20, 30, 40, 50]"
      ]
     },
     "execution_count": 23,
     "metadata": {},
     "output_type": "execute_result"
    }
   ],
   "source": [
    "py_list_1 + py_list_2\n",
    "#shows all elements from list 1 and 2\n",
    "#list grows"
   ]
  },
  {
   "cell_type": "code",
   "execution_count": 22,
   "id": "badca602-4127-4f44-ac50-01515f9a9e43",
   "metadata": {},
   "outputs": [
    {
     "data": {
      "text/plain": [
       "array([11, 22, 33, 44, 55])"
      ]
     },
     "execution_count": 22,
     "metadata": {},
     "output_type": "execute_result"
    }
   ],
   "source": [
    "np_array_1 + np_array_2\n",
    "#adds up list 1 + 2 elements together as per index (e.g. 1+10,2+20)"
   ]
  },
  {
   "attachments": {},
   "cell_type": "markdown",
   "id": "1e32d7a7",
   "metadata": {},
   "source": [
    "## 2.5 Multiplying by a Number"
   ]
  },
  {
   "cell_type": "code",
   "execution_count": 24,
   "id": "2afb9a5d-fec8-47ad-9393-9ba9fff395c5",
   "metadata": {},
   "outputs": [],
   "source": [
    "py_list= [1,2,3,4,5]\n",
    "np_array= np.array(py_list)"
   ]
  },
  {
   "cell_type": "code",
   "execution_count": 26,
   "id": "49c1269e-da30-44fd-b8b5-4948684e69f7",
   "metadata": {},
   "outputs": [
    {
     "data": {
      "text/plain": [
       "[1, 2, 3, 4, 5, 1, 2, 3, 4, 5]"
      ]
     },
     "execution_count": 26,
     "metadata": {},
     "output_type": "execute_result"
    }
   ],
   "source": [
    "py_list*2\n",
    "#list grows"
   ]
  },
  {
   "cell_type": "code",
   "execution_count": 27,
   "id": "8aa65ec1-3dc8-4c4e-9912-83c9c7022a04",
   "metadata": {},
   "outputs": [
    {
     "data": {
      "text/plain": [
       "array([ 2,  4,  6,  8, 10])"
      ]
     },
     "execution_count": 27,
     "metadata": {},
     "output_type": "execute_result"
    }
   ],
   "source": [
    "np_array*2\n",
    "#multiplies elements by the number"
   ]
  },
  {
   "attachments": {},
   "cell_type": "markdown",
   "id": "e681f293",
   "metadata": {},
   "source": [
    "## 2.6 Squaring"
   ]
  },
  {
   "cell_type": "code",
   "execution_count": 28,
   "id": "db600e34-2d9f-4860-a595-ae3b0edab9dd",
   "metadata": {},
   "outputs": [],
   "source": [
    "py_list= [1,2,3,4,5]\n",
    "np_array= np.array(py_list)"
   ]
  },
  {
   "cell_type": "code",
   "execution_count": 29,
   "id": "be48f95c-a7ac-4060-a03b-d20908ddc249",
   "metadata": {},
   "outputs": [
    {
     "ename": "TypeError",
     "evalue": "unsupported operand type(s) for ** or pow(): 'list' and 'int'",
     "output_type": "error",
     "traceback": [
      "\u001b[1;31m---------------------------------------------------------------------------\u001b[0m",
      "\u001b[1;31mTypeError\u001b[0m                                 Traceback (most recent call last)",
      "Cell \u001b[1;32mIn[29], line 1\u001b[0m\n\u001b[1;32m----> 1\u001b[0m \u001b[43mpy_list\u001b[49m\u001b[38;5;241;43m*\u001b[39;49m\u001b[38;5;241;43m*\u001b[39;49m\u001b[38;5;241;43m2\u001b[39;49m \u001b[38;5;66;03m#wont work\u001b[39;00m\n",
      "\u001b[1;31mTypeError\u001b[0m: unsupported operand type(s) for ** or pow(): 'list' and 'int'"
     ]
    }
   ],
   "source": [
    "py_list**2 #wont work"
   ]
  },
  {
   "cell_type": "code",
   "execution_count": 30,
   "id": "1fb98793-29cf-4f52-9de7-0b31b7b36137",
   "metadata": {},
   "outputs": [
    {
     "data": {
      "text/plain": [
       "array([ 1,  4,  9, 16, 25])"
      ]
     },
     "execution_count": 30,
     "metadata": {},
     "output_type": "execute_result"
    }
   ],
   "source": [
    "np_array**2 #squares elements"
   ]
  },
  {
   "attachments": {},
   "cell_type": "markdown",
   "id": "fb9ad2cb",
   "metadata": {},
   "source": [
    "## 2.7 Asking questions"
   ]
  },
  {
   "cell_type": "code",
   "execution_count": 31,
   "id": "da30e4ce-8a72-460c-9a0a-931454ca480f",
   "metadata": {},
   "outputs": [],
   "source": [
    "py_list= [1,2,3,4,5]\n",
    "np_array= np.array(py_list)"
   ]
  },
  {
   "cell_type": "code",
   "execution_count": 32,
   "id": "a65f2b67-fc6f-469d-b567-d34f2e5ad568",
   "metadata": {},
   "outputs": [],
   "source": [
    "#lists"
   ]
  },
  {
   "cell_type": "code",
   "execution_count": 37,
   "id": "f442cf44-be9e-49cd-b006-3ee55c764ea1",
   "metadata": {},
   "outputs": [
    {
     "data": {
      "text/plain": [
       "False"
      ]
     },
     "execution_count": 37,
     "metadata": {},
     "output_type": "execute_result"
    }
   ],
   "source": [
    "py_list== 3 #true/false, only tells if this number is in the list, not a question"
   ]
  },
  {
   "cell_type": "code",
   "execution_count": 36,
   "id": "30c8ba1a-dbbf-4b0f-9d08-6f8e775c88e7",
   "metadata": {},
   "outputs": [
    {
     "ename": "TypeError",
     "evalue": "'>' not supported between instances of 'list' and 'int'",
     "output_type": "error",
     "traceback": [
      "\u001b[1;31m---------------------------------------------------------------------------\u001b[0m",
      "\u001b[1;31mTypeError\u001b[0m                                 Traceback (most recent call last)",
      "Cell \u001b[1;32mIn[36], line 1\u001b[0m\n\u001b[1;32m----> 1\u001b[0m \u001b[43mpy_list\u001b[49m\u001b[38;5;241;43m>\u001b[39;49m\u001b[38;5;241;43m3\u001b[39;49m \u001b[38;5;66;03m#wont work\u001b[39;00m\n",
      "\u001b[1;31mTypeError\u001b[0m: '>' not supported between instances of 'list' and 'int'"
     ]
    }
   ],
   "source": [
    "py_list>3 #wont work"
   ]
  },
  {
   "cell_type": "code",
   "execution_count": 38,
   "id": "33897807-a831-4951-9c84-ded1a7d21ca4",
   "metadata": {},
   "outputs": [],
   "source": [
    "#arrays"
   ]
  },
  {
   "cell_type": "code",
   "execution_count": 41,
   "id": "39e7e6e6-55ed-4385-8fc2-9927ca4470a7",
   "metadata": {},
   "outputs": [
    {
     "data": {
      "text/plain": [
       "array([False, False,  True, False, False])"
      ]
     },
     "execution_count": 41,
     "metadata": {},
     "output_type": "execute_result"
    }
   ],
   "source": [
    "np_array== 3 #shows 3rd value (3) is TRUE"
   ]
  },
  {
   "cell_type": "code",
   "execution_count": 42,
   "id": "a6663ae5-70b8-470e-9012-11d088a49ca5",
   "metadata": {},
   "outputs": [
    {
     "data": {
      "text/plain": [
       "array([False, False, False,  True,  True])"
      ]
     },
     "execution_count": 42,
     "metadata": {},
     "output_type": "execute_result"
    }
   ],
   "source": [
    "np_array>3 #values >3 TRUE"
   ]
  },
  {
   "attachments": {},
   "cell_type": "markdown",
   "id": "e176cbad",
   "metadata": {},
   "source": [
    "## 2.8 Mathematics"
   ]
  },
  {
   "cell_type": "code",
   "execution_count": 43,
   "id": "5fcd8607-4cd7-4330-9da8-c1bcb3363985",
   "metadata": {},
   "outputs": [],
   "source": [
    "py_list= [1,2,3,4,5]\n",
    "np_array= np.array(py_list)"
   ]
  },
  {
   "cell_type": "code",
   "execution_count": 50,
   "id": "f9d41a92-20f6-414a-937d-a8ae8b33caa2",
   "metadata": {},
   "outputs": [
    {
     "data": {
      "text/plain": [
       "(15, 5, 1)"
      ]
     },
     "execution_count": 50,
     "metadata": {},
     "output_type": "execute_result"
    }
   ],
   "source": [
    "#list\n",
    "sum(py_list),max(py_list), min(py_list)"
   ]
  },
  {
   "cell_type": "code",
   "execution_count": 54,
   "id": "b64ac72b-89d9-4bc4-8ec4-ec801f451d09",
   "metadata": {},
   "outputs": [
    {
     "data": {
      "text/plain": [
       "(15, 5, 1, 3.0, 1.4142135623730951)"
      ]
     },
     "execution_count": 54,
     "metadata": {},
     "output_type": "execute_result"
    }
   ],
   "source": [
    "#array\n",
    "np_array.sum(), np_array.max(), np_array.min(), np_array.mean(), np_array.std()\n",
    "#std- standard deviation"
   ]
  }
 ],
 "metadata": {
  "kernelspec": {
   "display_name": "Python 3 (ipykernel)",
   "language": "python",
   "name": "python3"
  },
  "language_info": {
   "codemirror_mode": {
    "name": "ipython",
    "version": 3
   },
   "file_extension": ".py",
   "mimetype": "text/x-python",
   "name": "python",
   "nbconvert_exporter": "python",
   "pygments_lexer": "ipython3",
   "version": "3.11.5"
  },
  "toc": {
   "base_numbering": 1,
   "nav_menu": {},
   "number_sections": true,
   "sideBar": true,
   "skip_h1_title": false,
   "title_cell": "Table of Contents",
   "title_sidebar": "Contents",
   "toc_cell": false,
   "toc_position": {},
   "toc_section_display": true,
   "toc_window_display": false
  },
  "vscode": {
   "interpreter": {
    "hash": "31f2aee4e71d21fbe5cf8b01ff0e069b9275f58929596ceb00d14d90e3e16cd6"
   }
  }
 },
 "nbformat": 4,
 "nbformat_minor": 5
}
