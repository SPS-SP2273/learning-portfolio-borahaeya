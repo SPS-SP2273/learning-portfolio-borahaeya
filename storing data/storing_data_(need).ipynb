{
 "cells": [
  {
   "attachments": {},
   "cell_type": "markdown",
   "id": "123456",
   "metadata": {},
   "source": [
    "<div style=\"text-align:left;font-size:2em\"><span style=\"font-weight:bolder;font-size:1.25em\">SP2273 | Learning Portfolio</span><br><br><span style=\"font-weight:bold;color:darkred\">Storing Data (Need)</span></div>"
   ]
  },
  {
   "attachments": {},
   "cell_type": "markdown",
   "id": "ef527a19",
   "metadata": {},
   "source": [
    "# What to expect in this chapter"
   ]
  },
  {
   "attachments": {},
   "cell_type": "markdown",
   "id": "15f2d8f7",
   "metadata": {},
   "source": [
    "# 1 Lists, Arrays & Dictionaries"
   ]
  },
  {
   "cell_type": "code",
   "execution_count": 2,
   "id": "b7a1fcdd-fb93-47d6-9241-ca6dd53c5f66",
   "metadata": {},
   "outputs": [],
   "source": [
    "#python list\n",
    "super_names= [\"Black Widow\", \"Iron Man\", \"Doctor Strange\"]\n",
    "real_names= [\"Natasha\", \"Tony\", \"Stephen\"]"
   ]
  },
  {
   "cell_type": "code",
   "execution_count": 4,
   "id": "be4b34b3-f20e-435e-8d7d-64028f2b4e86",
   "metadata": {},
   "outputs": [],
   "source": [
    "#numpy array\n",
    "import numpy as np\n",
    "np_super_names= np.array([\"Black Widow\", \"Iron Man\", \"Doctor Strange\"])\n",
    "np_real_names= np.array([\"Natasha\", \"Tony\", \"Stephen\"])"
   ]
  },
  {
   "cell_type": "code",
   "execution_count": 3,
   "id": "dcedc614-0590-4810-b2f5-b5e538d060a4",
   "metadata": {},
   "outputs": [],
   "source": [
    "#dictionary\n",
    "superhero_info= {\n",
    "    \"Natasha\": \"Black Widow\",\n",
    "    \"Tony\": \"Iron Man\",\n",
    "    \"Stephen\": \"Doctor Strange\"\n",
    "}\n",
    "#\"Natasha\", \"Tony\" \"Stephen\" KEYS\n",
    "#\"Black Widow\", \"Iron Man\", \"Doctor Strange\" VALUES\n",
    "#see2.3 1.3"
   ]
  },
  {
   "attachments": {},
   "cell_type": "markdown",
   "id": "91fb5554",
   "metadata": {},
   "source": [
    "## 1.1 Let’s compare"
   ]
  },
  {
   "attachments": {},
   "cell_type": "markdown",
   "id": "fce7f50d",
   "metadata": {},
   "source": [
    "## 1.2 Accessing data from a list (or array)"
   ]
  },
  {
   "cell_type": "code",
   "execution_count": 13,
   "id": "735b276a-f372-466b-bd26-a1ed76d95f22",
   "metadata": {},
   "outputs": [
    {
     "data": {
      "text/plain": [
       "'Natasha'"
      ]
     },
     "execution_count": 13,
     "metadata": {},
     "output_type": "execute_result"
    }
   ],
   "source": [
    "#python is 0 indexed language, starts counting at 0 (first item is 0)\n",
    "real_names[0]"
   ]
  },
  {
   "cell_type": "code",
   "execution_count": 14,
   "id": "21f5b71a-5b26-47d9-b11d-086d074f2c9d",
   "metadata": {},
   "outputs": [
    {
     "data": {
      "text/plain": [
       "'Doctor Strange'"
      ]
     },
     "execution_count": 14,
     "metadata": {},
     "output_type": "execute_result"
    }
   ],
   "source": [
    "#negative index counts from the back of list\n",
    "super_names[-1]"
   ]
  },
  {
   "cell_type": "code",
   "execution_count": 18,
   "id": "b8a849f7-0194-46a3-b82f-f3c4ba9ab165",
   "metadata": {},
   "outputs": [
    {
     "data": {
      "text/plain": [
       "'Doctor Strange'"
      ]
     },
     "execution_count": 18,
     "metadata": {},
     "output_type": "execute_result"
    }
   ],
   "source": [
    "np_super_names[-1]"
   ]
  },
  {
   "attachments": {},
   "cell_type": "markdown",
   "id": "35db9004",
   "metadata": {},
   "source": [
    "## 1.3 Accessing data from a dictionary"
   ]
  },
  {
   "cell_type": "code",
   "execution_count": 15,
   "id": "6251c0da-6713-4f15-a4ae-54d38939b643",
   "metadata": {},
   "outputs": [
    {
     "data": {
      "text/plain": [
       "'Iron Man'"
      ]
     },
     "execution_count": 15,
     "metadata": {},
     "output_type": "execute_result"
    }
   ],
   "source": [
    "superhero_info[\"Tony\"]"
   ]
  },
  {
   "cell_type": "code",
   "execution_count": 16,
   "id": "f0d9add1-269a-4cb8-8a80-477906c633d5",
   "metadata": {},
   "outputs": [
    {
     "data": {
      "text/plain": [
       "dict_keys(['Natasha', 'Tony', 'Stephen'])"
      ]
     },
     "execution_count": 16,
     "metadata": {},
     "output_type": "execute_result"
    }
   ],
   "source": [
    "superhero_info.keys() #what comes before :"
   ]
  },
  {
   "cell_type": "code",
   "execution_count": 17,
   "id": "d8ea545c-cf34-4d3c-bdae-85c780585b57",
   "metadata": {},
   "outputs": [
    {
     "data": {
      "text/plain": [
       "dict_values(['Black Widow', 'Iron Man', 'Doctor Strange'])"
      ]
     },
     "execution_count": 17,
     "metadata": {},
     "output_type": "execute_result"
    }
   ],
   "source": [
    "superhero_info.values() #what comes after :"
   ]
  },
  {
   "attachments": {},
   "cell_type": "markdown",
   "id": "7ce3b60f",
   "metadata": {},
   "source": [
    "## 1.4 Higher dimensional lists"
   ]
  },
  {
   "cell_type": "code",
   "execution_count": 19,
   "id": "b5c4ab99-59db-4571-8d9d-bbb75f8edd4b",
   "metadata": {},
   "outputs": [],
   "source": [
    "#use 2 lists to store real and superhero names -> 2D list or array\n",
    "py_superhero_info= [['Natasha', 'Black Widow'],\n",
    "                    ['Tony', 'Iron Man'],\n",
    "                    ['Stephen', 'Doctor Strange']]"
   ]
  },
  {
   "attachments": {},
   "cell_type": "markdown",
   "id": "2867b82b",
   "metadata": {},
   "source": [
    "# 2 Lists vs. Arrays"
   ]
  },
  {
   "attachments": {},
   "cell_type": "markdown",
   "id": "999390c3",
   "metadata": {},
   "source": [
    "## 2.1 Size"
   ]
  },
  {
   "cell_type": "code",
   "execution_count": 20,
   "id": "4061abef-13fc-456d-9c22-afa37645a2c3",
   "metadata": {},
   "outputs": [
    {
     "data": {
      "text/plain": [
       "4"
      ]
     },
     "execution_count": 20,
     "metadata": {},
     "output_type": "execute_result"
    }
   ],
   "source": [
    "py_list_2d= [[1,\"A\"],[2, \"B\"], [3,\"C\"], [4, \"D\"]]\n",
    "np_array_2d= np.array(py_list_2d) #reuses python list to create new numpy array\n",
    "\n",
    "#len() function to identify no of elements in lists/arrays\n",
    "len(py_list_2d)"
   ]
  },
  {
   "cell_type": "code",
   "execution_count": 21,
   "id": "c75cc77e-531f-44e9-b901-5a3fb3761589",
   "metadata": {},
   "outputs": [
    {
     "data": {
      "text/plain": [
       "4"
      ]
     },
     "execution_count": 21,
     "metadata": {},
     "output_type": "execute_result"
    }
   ],
   "source": [
    "len(np_array_2d)"
   ]
  },
  {
   "attachments": {},
   "cell_type": "markdown",
   "id": "4fc80dba",
   "metadata": {},
   "source": [
    "## 2.2 Arrays are fussy about type"
   ]
  },
  {
   "attachments": {},
   "cell_type": "markdown",
   "id": "e7116d10",
   "metadata": {},
   "source": [
    "## 2.3 Adding a number"
   ]
  },
  {
   "attachments": {},
   "cell_type": "markdown",
   "id": "e7e54adc",
   "metadata": {},
   "source": [
    "## 2.4 Adding another list"
   ]
  },
  {
   "attachments": {},
   "cell_type": "markdown",
   "id": "1e32d7a7",
   "metadata": {},
   "source": [
    "## 2.5 Multiplying by a Number"
   ]
  },
  {
   "attachments": {},
   "cell_type": "markdown",
   "id": "e681f293",
   "metadata": {},
   "source": [
    "## 2.6 Squaring"
   ]
  },
  {
   "attachments": {},
   "cell_type": "markdown",
   "id": "fb9ad2cb",
   "metadata": {},
   "source": [
    "## 2.7 Asking questions"
   ]
  },
  {
   "attachments": {},
   "cell_type": "markdown",
   "id": "e176cbad",
   "metadata": {},
   "source": [
    "## 2.8 Mathematics"
   ]
  },
  {
   "attachments": {},
   "cell_type": "markdown",
   "id": "da9fd8ad",
   "metadata": {},
   "source": [
    "# Exercises & Self-Assessment"
   ]
  },
  {
   "cell_type": "code",
   "execution_count": null,
   "id": "212ff32a",
   "metadata": {},
   "outputs": [],
   "source": [
    "\n",
    "\n",
    "\n",
    "# Your solution here\n",
    "\n",
    "\n"
   ]
  },
  {
   "attachments": {},
   "cell_type": "markdown",
   "id": "9a81a4a0",
   "metadata": {},
   "source": [
    "## Footnotes"
   ]
  }
 ],
 "metadata": {
  "kernelspec": {
   "display_name": "Python 3 (ipykernel)",
   "language": "python",
   "name": "python3"
  },
  "language_info": {
   "codemirror_mode": {
    "name": "ipython",
    "version": 3
   },
   "file_extension": ".py",
   "mimetype": "text/x-python",
   "name": "python",
   "nbconvert_exporter": "python",
   "pygments_lexer": "ipython3",
   "version": "3.11.5"
  },
  "toc": {
   "base_numbering": 1,
   "nav_menu": {},
   "number_sections": true,
   "sideBar": true,
   "skip_h1_title": false,
   "title_cell": "Table of Contents",
   "title_sidebar": "Contents",
   "toc_cell": false,
   "toc_position": {},
   "toc_section_display": true,
   "toc_window_display": false
  },
  "vscode": {
   "interpreter": {
    "hash": "31f2aee4e71d21fbe5cf8b01ff0e069b9275f58929596ceb00d14d90e3e16cd6"
   }
  }
 },
 "nbformat": 4,
 "nbformat_minor": 5
}
