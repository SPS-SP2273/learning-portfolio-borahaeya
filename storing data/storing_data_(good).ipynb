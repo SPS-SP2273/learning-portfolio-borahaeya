{
 "cells": [
  {
   "attachments": {},
   "cell_type": "markdown",
   "id": "123456",
   "metadata": {},
   "source": [
    "<div style=\"text-align:left;font-size:2em\"><span style=\"font-weight:bolder;font-size:1.25em\">SP2273 | Learning Portfolio</span><br><br><span style=\"font-weight:bold;color:darkred\">Storing Data (Good)</span></div>"
   ]
  },
  {
   "attachments": {},
   "cell_type": "markdown",
   "id": "56ae07af",
   "metadata": {},
   "source": [
    "# What to expect in this chapter"
   ]
  },
  {
   "attachments": {},
   "cell_type": "markdown",
   "id": "366abeab",
   "metadata": {},
   "source": [
    "# 1 Subsetting: Indexing and Slicing"
   ]
  },
  {
   "attachments": {},
   "cell_type": "markdown",
   "id": "9eeae8e1",
   "metadata": {},
   "source": [
    "## 1.1 Lists & Arrays in 1D | Subsetting & Indexing"
   ]
  },
  {
   "cell_type": "code",
   "execution_count": 2,
   "id": "68fa19e4-becb-4b8c-ae7d-76811d2f72f5",
   "metadata": {},
   "outputs": [],
   "source": [
    "import numpy as np\n",
    "py_list= [\"a1\", \"b2\", \"c3\", \"d4\", \"e5\", \"f6\", \"g7\"]\n",
    "#index 0, 1st position a1 and subsequently\n",
    "np_array= np.array(py_list)\n",
    "#pick one\n",
    "x= py_list #OR\n",
    "x= np_array"
   ]
  },
  {
   "cell_type": "code",
   "execution_count": 3,
   "id": "dc2d4d07-407a-49c2-b742-1213022b087a",
   "metadata": {},
   "outputs": [
    {
     "data": {
      "text/plain": [
       "'a1'"
      ]
     },
     "execution_count": 3,
     "metadata": {},
     "output_type": "execute_result"
    }
   ],
   "source": [
    "x[0]"
   ]
  },
  {
   "cell_type": "code",
   "execution_count": 13,
   "id": "d4ecad27-a32c-4c15-be43-4f507425764b",
   "metadata": {},
   "outputs": [
    {
     "data": {
      "text/plain": [
       "'a1'"
      ]
     },
     "execution_count": 13,
     "metadata": {},
     "output_type": "execute_result"
    }
   ],
   "source": [
    "py_list[0]"
   ]
  },
  {
   "cell_type": "code",
   "execution_count": 14,
   "id": "4d81746e-6131-4159-b502-295a09151720",
   "metadata": {},
   "outputs": [
    {
     "data": {
      "text/plain": [
       "'a1'"
      ]
     },
     "execution_count": 14,
     "metadata": {},
     "output_type": "execute_result"
    }
   ],
   "source": [
    "np_array[0]"
   ]
  },
  {
   "cell_type": "code",
   "execution_count": 4,
   "id": "6374dbfc-fe1f-45f8-aa34-69f37b4bb615",
   "metadata": {},
   "outputs": [
    {
     "data": {
      "text/plain": [
       "'g7'"
      ]
     },
     "execution_count": 4,
     "metadata": {},
     "output_type": "execute_result"
    }
   ],
   "source": [
    "x[-1]"
   ]
  },
  {
   "cell_type": "code",
   "execution_count": 6,
   "id": "ae5c1de2-0821-4f26-9eb6-df6536e33ac3",
   "metadata": {},
   "outputs": [
    {
     "data": {
      "text/plain": [
       "array(['a1', 'b2', 'c3'], dtype='<U2')"
      ]
     },
     "execution_count": 6,
     "metadata": {},
     "output_type": "execute_result"
    }
   ],
   "source": [
    "x[0:3] #index 0-2, 3-0= 3 elements"
   ]
  },
  {
   "cell_type": "code",
   "execution_count": 7,
   "id": "59f240d6-a74b-4a0e-a832-1abfc9277c71",
   "metadata": {},
   "outputs": [
    {
     "data": {
      "text/plain": [
       "array(['b2', 'c3', 'd4', 'e5', 'f6'], dtype='<U2')"
      ]
     },
     "execution_count": 7,
     "metadata": {},
     "output_type": "execute_result"
    }
   ],
   "source": [
    "x[1:6] #6-1= 5 elements, index 1-5"
   ]
  },
  {
   "cell_type": "code",
   "execution_count": 8,
   "id": "8955e0b3-6708-45c9-83db-8b821f617f6f",
   "metadata": {},
   "outputs": [
    {
     "data": {
      "text/plain": [
       "array(['b2', 'd4', 'f6'], dtype='<U2')"
      ]
     },
     "execution_count": 8,
     "metadata": {},
     "output_type": "execute_result"
    }
   ],
   "source": [
    "x[1:6:2] #index 1-5 in 2 steps"
   ]
  },
  {
   "cell_type": "code",
   "execution_count": 9,
   "id": "a45e9389-80c5-4a50-9c05-1ae07859eeee",
   "metadata": {},
   "outputs": [
    {
     "data": {
      "text/plain": [
       "array(['f6', 'g7'], dtype='<U2')"
      ]
     },
     "execution_count": 9,
     "metadata": {},
     "output_type": "execute_result"
    }
   ],
   "source": [
    "x[5:] #index 5 to the end"
   ]
  },
  {
   "cell_type": "code",
   "execution_count": 10,
   "id": "2410f46d-c9f1-4a72-8f14-75d561510381",
   "metadata": {},
   "outputs": [
    {
     "data": {
      "text/plain": [
       "array(['a1', 'b2', 'c3', 'd4', 'e5'], dtype='<U2')"
      ]
     },
     "execution_count": 10,
     "metadata": {},
     "output_type": "execute_result"
    }
   ],
   "source": [
    "x[:5] #5 elements from index 0, same as [0:5]"
   ]
  },
  {
   "cell_type": "code",
   "execution_count": 11,
   "id": "70f6362b-eab4-4f94-a504-400c1b9ced73",
   "metadata": {},
   "outputs": [
    {
     "data": {
      "text/plain": [
       "array(['f6', 'e5', 'd4'], dtype='<U2')"
      ]
     },
     "execution_count": 11,
     "metadata": {},
     "output_type": "execute_result"
    }
   ],
   "source": [
    "x[5:2:-1] #index 5 to 3 in reverse because -1 (5-2= 3 elements)"
   ]
  },
  {
   "cell_type": "code",
   "execution_count": 12,
   "id": "18c97053-c3d7-444b-a15b-468a16258621",
   "metadata": {},
   "outputs": [
    {
     "data": {
      "text/plain": [
       "array(['g7', 'f6', 'e5', 'd4', 'c3', 'b2', 'a1'], dtype='<U2')"
      ]
     },
     "execution_count": 12,
     "metadata": {},
     "output_type": "execute_result"
    }
   ],
   "source": [
    "x[::-1] #reverse list"
   ]
  },
  {
   "attachments": {},
   "cell_type": "markdown",
   "id": "0b9bcf6b",
   "metadata": {},
   "source": [
    "## 1.2 Arrays only | Subsetting by masking"
   ]
  },
  {
   "cell_type": "code",
   "execution_count": 17,
   "id": "14497d60-aab6-47e9-9dc1-6235e7bdd864",
   "metadata": {},
   "outputs": [
    {
     "data": {
      "text/plain": [
       "array([False, False, False,  True,  True,  True,  True,  True,  True,\n",
       "        True])"
      ]
     },
     "execution_count": 17,
     "metadata": {},
     "output_type": "execute_result"
    }
   ],
   "source": [
    "#subsetting by masking only works with numpy arrays\n",
    "np_array= np.array([1,2,3,4,5,6,7,8,9,10])\n",
    "my_mask= np_array>3\n",
    "my_mask"
   ]
  },
  {
   "cell_type": "code",
   "execution_count": 18,
   "id": "1fbca0a6-b857-4eb2-86fc-9905bb3b4b12",
   "metadata": {},
   "outputs": [
    {
     "data": {
      "text/plain": [
       "array([ 4,  5,  6,  7,  8,  9, 10])"
      ]
     },
     "execution_count": 18,
     "metadata": {},
     "output_type": "execute_result"
    }
   ],
   "source": [
    "#ask numpy to show TRUE values of the mask only\n",
    "np_array[my_mask]"
   ]
  },
  {
   "cell_type": "code",
   "execution_count": 19,
   "id": "a3870288-361e-41bc-ba71-90ac83d60c61",
   "metadata": {},
   "outputs": [
    {
     "data": {
      "text/plain": [
       "array([1, 2, 3])"
      ]
     },
     "execution_count": 19,
     "metadata": {},
     "output_type": "execute_result"
    }
   ],
   "source": [
    "np_array[~(np_array>3)]  # ~ means NOT"
   ]
  },
  {
   "cell_type": "code",
   "execution_count": 20,
   "id": "ff2a0393-9f50-46e0-b04b-399e3539d090",
   "metadata": {},
   "outputs": [
    {
     "data": {
      "text/plain": [
       "array([4, 5, 6, 7])"
      ]
     },
     "execution_count": 20,
     "metadata": {},
     "output_type": "execute_result"
    }
   ],
   "source": [
    "#combining masks AnB\n",
    "np_array[(np_array>3) & (np_array<8)]"
   ]
  },
  {
   "cell_type": "code",
   "execution_count": 22,
   "id": "16d3d879-8c34-4c0a-909e-12f457d17ac4",
   "metadata": {},
   "outputs": [
    {
     "data": {
      "text/plain": [
       "array([ 1,  2,  9, 10])"
      ]
     },
     "execution_count": 22,
     "metadata": {},
     "output_type": "execute_result"
    }
   ],
   "source": [
    "#combine one mask OR another mask AuB\n",
    "np_array[(np_array<3) | (np_array>8)] # | means OR"
   ]
  },
  {
   "attachments": {},
   "cell_type": "markdown",
   "id": "587adeb2",
   "metadata": {},
   "source": [
    "## 1.3 Lists & Arrays in 2D | Indexing & Slicing"
   ]
  },
  {
   "cell_type": "code",
   "execution_count": 25,
   "id": "a0832494-9b58-40f9-a792-994021579dc8",
   "metadata": {},
   "outputs": [
    {
     "data": {
      "text/plain": [
       "[4, 'D']"
      ]
     },
     "execution_count": 25,
     "metadata": {},
     "output_type": "execute_result"
    }
   ],
   "source": [
    "py_list_2d= ([1, \"A\"], [2, \"B\"], [3, \"C\"], [4, \"D\"])\n",
    "np_array_2d= np.array(py_list_2d)\n",
    "py_list_2d[3] #what is index 3 AKA 4th position"
   ]
  },
  {
   "cell_type": "code",
   "execution_count": 32,
   "id": "f0621ba4-db63-41fe-915d-71d5d32711cc",
   "metadata": {},
   "outputs": [
    {
     "data": {
      "text/plain": [
       "array(['4', 'D'], dtype='<U11')"
      ]
     },
     "execution_count": 32,
     "metadata": {},
     "output_type": "execute_result"
    }
   ],
   "source": [
    "np_array_2d[3] #using py_list wont display 'array', using np_array does"
   ]
  },
  {
   "cell_type": "code",
   "execution_count": 27,
   "id": "6dde56fb-4507-4760-93ce-4ffd2ed338fc",
   "metadata": {},
   "outputs": [
    {
     "data": {
      "text/plain": [
       "4"
      ]
     },
     "execution_count": 27,
     "metadata": {},
     "output_type": "execute_result"
    }
   ],
   "source": [
    "py_list_2d[3][0] #first element at index 3 AKA 4th position"
   ]
  },
  {
   "cell_type": "code",
   "execution_count": 28,
   "id": "59da90a2-f6eb-4919-b441-a5d49c354469",
   "metadata": {},
   "outputs": [
    {
     "data": {
      "text/plain": [
       "'4'"
      ]
     },
     "execution_count": 28,
     "metadata": {},
     "output_type": "execute_result"
    }
   ],
   "source": [
    "np_array_2d[3, 0] #same as above but array only uses single pair of [] to run 2 different commands"
   ]
  },
  {
   "cell_type": "code",
   "execution_count": 29,
   "id": "7c36ffb3-ab38-4ef8-9210-108954f93296",
   "metadata": {},
   "outputs": [
    {
     "data": {
      "text/plain": [
       "([1, 'A'], [2, 'B'], [3, 'C'])"
      ]
     },
     "execution_count": 29,
     "metadata": {},
     "output_type": "execute_result"
    }
   ],
   "source": [
    "py_list_2d[:3] #first 3 elements from index 0"
   ]
  },
  {
   "cell_type": "code",
   "execution_count": 31,
   "id": "87562f4b-4b62-4343-a3e8-7d1cf2d38c02",
   "metadata": {},
   "outputs": [
    {
     "data": {
      "text/plain": [
       "array([['1', 'A'],\n",
       "       ['2', 'B'],\n",
       "       ['3', 'C']], dtype='<U11')"
      ]
     },
     "execution_count": 31,
     "metadata": {},
     "output_type": "execute_result"
    }
   ],
   "source": [
    "np_array_2d[:3]"
   ]
  },
  {
   "cell_type": "code",
   "execution_count": 33,
   "id": "5c96784c-c039-408b-869e-3884153fc30c",
   "metadata": {},
   "outputs": [
    {
     "data": {
      "text/plain": [
       "[1, 'A']"
      ]
     },
     "execution_count": 33,
     "metadata": {},
     "output_type": "execute_result"
    }
   ],
   "source": [
    "py_list_2d[:3][0] #only gives 1st element from index 0"
   ]
  },
  {
   "cell_type": "code",
   "execution_count": 34,
   "id": "1034366e-880e-48df-9148-d71aad727e4e",
   "metadata": {},
   "outputs": [
    {
     "data": {
      "text/plain": [
       "array(['1', '2', '3'], dtype='<U11')"
      ]
     },
     "execution_count": 34,
     "metadata": {},
     "output_type": "execute_result"
    }
   ],
   "source": [
    "np_array_2d[:3, 0] #gives first 3 elements from index 0"
   ]
  },
  {
   "cell_type": "code",
   "execution_count": 35,
   "id": "f2e0931b-0722-4c9d-8f33-cbad01604777",
   "metadata": {},
   "outputs": [
    {
     "data": {
      "text/plain": [
       "[4, 'D']"
      ]
     },
     "execution_count": 35,
     "metadata": {},
     "output_type": "execute_result"
    }
   ],
   "source": [
    "py_list_2d[3:6][0] #only gives 1st element from index 3"
   ]
  },
  {
   "cell_type": "code",
   "execution_count": 36,
   "id": "7ef0e323-48da-4333-9631-bee28bd9d6be",
   "metadata": {},
   "outputs": [
    {
     "data": {
      "text/plain": [
       "array(['4'], dtype='<U11')"
      ]
     },
     "execution_count": 36,
     "metadata": {},
     "output_type": "execute_result"
    }
   ],
   "source": [
    "np_array_2d[3:6, 0] #gives first 3 elements from index 3"
   ]
  },
  {
   "cell_type": "code",
   "execution_count": 37,
   "id": "c47e41cb-11e7-4cb6-a337-c3fbf415732c",
   "metadata": {},
   "outputs": [
    {
     "data": {
      "text/plain": [
       "array(['1', '2', '3', '4'], dtype='<U11')"
      ]
     },
     "execution_count": 37,
     "metadata": {},
     "output_type": "execute_result"
    }
   ],
   "source": [
    "np_array_2d[:, 0] # : gives everything"
   ]
  },
  {
   "attachments": {},
   "cell_type": "markdown",
   "id": "4c4a00ec",
   "metadata": {},
   "source": [
    "## 1.4 Growing lists"
   ]
  },
  {
   "cell_type": "code",
   "execution_count": 38,
   "id": "7e2b158e-e6b5-401e-9ec6-e8e37af4415e",
   "metadata": {},
   "outputs": [
    {
     "data": {
      "text/plain": [
       "[1, 2, 1, 2, 1, 2, 1, 2, 1, 2]"
      ]
     },
     "execution_count": 38,
     "metadata": {},
     "output_type": "execute_result"
    }
   ],
   "source": [
    "x=[1,2]*5 #display 1,2 for 5 times\n",
    "x"
   ]
  },
  {
   "cell_type": "code",
   "execution_count": 39,
   "id": "7fc90ba3-ff4c-41ed-9e4b-1b7769ce7644",
   "metadata": {},
   "outputs": [
    {
     "data": {
      "text/plain": [
       "[1, 2, 3, 4]"
      ]
     },
     "execution_count": 39,
     "metadata": {},
     "output_type": "execute_result"
    }
   ],
   "source": [
    "x=[1]\n",
    "x=x+[2]\n",
    "x=x+[3]\n",
    "x=x+[4]\n",
    "x\n",
    "#add 1 element at a time \n",
    "#x=x+"
   ]
  },
  {
   "cell_type": "code",
   "execution_count": 40,
   "id": "9fc7ee2c-a45c-4983-a1ad-68f143c94ba4",
   "metadata": {},
   "outputs": [
    {
     "data": {
      "text/plain": [
       "[1, 2, 3, 4]"
      ]
     },
     "execution_count": 40,
     "metadata": {},
     "output_type": "execute_result"
    }
   ],
   "source": [
    "x=[1]\n",
    "x+=[2]\n",
    "x+=[3]\n",
    "x+=[4]\n",
    "x\n",
    "#x+="
   ]
  },
  {
   "cell_type": "code",
   "execution_count": 41,
   "id": "dd76df52-9bf4-45a9-8e94-6ce867d94d02",
   "metadata": {},
   "outputs": [
    {
     "data": {
      "text/plain": [
       "[1, 2, 3, 4]"
      ]
     },
     "execution_count": 41,
     "metadata": {},
     "output_type": "execute_result"
    }
   ],
   "source": [
    "x=[1]\n",
    "x.append(2)\n",
    "x.append(3)\n",
    "x.append(4)\n",
    "x\n",
    "#append runs faster than the previous 2 versions"
   ]
  },
  {
   "cell_type": "code",
   "execution_count": 42,
   "id": "afc0aa80-3f5e-4df2-aba9-23636005f5ec",
   "metadata": {},
   "outputs": [
    {
     "data": {
      "text/plain": [
       "[1, 2, 3, 4, 5, 6]"
      ]
     },
     "execution_count": 42,
     "metadata": {},
     "output_type": "execute_result"
    }
   ],
   "source": [
    "x=[1,2,3]\n",
    "x+=[4,5,6]\n",
    "x\n",
    "#incorporates x= and x+="
   ]
  },
  {
   "cell_type": "code",
   "execution_count": 43,
   "id": "ed5680a7-f00c-4dd1-bf1c-103b9d814dc1",
   "metadata": {},
   "outputs": [
    {
     "data": {
      "text/plain": [
       "[1, 2, 3, 4, 5, 6]"
      ]
     },
     "execution_count": 43,
     "metadata": {},
     "output_type": "execute_result"
    }
   ],
   "source": [
    "x=[1,2,3]\n",
    "x.extend([4,5,6])\n",
    "x"
   ]
  },
  {
   "cell_type": "code",
   "execution_count": 44,
   "id": "6f4c83f7-0e8a-447e-9c70-c512b4c474ac",
   "metadata": {},
   "outputs": [
    {
     "data": {
      "text/plain": [
       "[1, 2, 3, [4, 5, 6]]"
      ]
     },
     "execution_count": 44,
     "metadata": {},
     "output_type": "execute_result"
    }
   ],
   "source": [
    "x=[1,2,3]\n",
    "x.append([4,5,6]) #displays [] on the numbers added\n",
    "x"
   ]
  },
  {
   "attachments": {},
   "cell_type": "markdown",
   "id": "13584c23",
   "metadata": {},
   "source": [
    "# Some loose ends"
   ]
  },
  {
   "attachments": {},
   "cell_type": "markdown",
   "id": "1404659c",
   "metadata": {},
   "source": [
    "## 1.5 Tuples"
   ]
  },
  {
   "cell_type": "code",
   "execution_count": 45,
   "id": "140c05da-0cae-4f2a-910b-e847d5fc6e2c",
   "metadata": {},
   "outputs": [
    {
     "name": "stdout",
     "output_type": "stream",
     "text": [
      "1\n"
     ]
    }
   ],
   "source": [
    "a=(1,2,3) #tuple uses () cannot be changed after creation\n",
    "print(a[0]) #access data"
   ]
  },
  {
   "cell_type": "code",
   "execution_count": 46,
   "id": "6347def5-c989-4e81-bdc5-be540a7cd6c1",
   "metadata": {},
   "outputs": [
    {
     "ename": "TypeError",
     "evalue": "'tuple' object does not support item assignment",
     "output_type": "error",
     "traceback": [
      "\u001b[1;31m---------------------------------------------------------------------------\u001b[0m",
      "\u001b[1;31mTypeError\u001b[0m                                 Traceback (most recent call last)",
      "Cell \u001b[1;32mIn[46], line 2\u001b[0m\n\u001b[0;32m      1\u001b[0m \u001b[38;5;66;03m#cannot change data\u001b[39;00m\n\u001b[1;32m----> 2\u001b[0m \u001b[43ma\u001b[49m\u001b[43m[\u001b[49m\u001b[38;5;241;43m0\u001b[39;49m\u001b[43m]\u001b[49m\u001b[38;5;241m=\u001b[39m\u001b[38;5;241m-\u001b[39m\u001b[38;5;241m1\u001b[39m\n\u001b[0;32m      3\u001b[0m a[\u001b[38;5;241m0\u001b[39m]\u001b[38;5;241m+\u001b[39m\u001b[38;5;241m=\u001b[39m[\u001b[38;5;241m10\u001b[39m]\n",
      "\u001b[1;31mTypeError\u001b[0m: 'tuple' object does not support item assignment"
     ]
    }
   ],
   "source": [
    "#cannot change data (error message will appear)\n",
    "a[0]=-1\n",
    "a[0]+=[10]"
   ]
  },
  {
   "attachments": {},
   "cell_type": "markdown",
   "id": "2ebc4988",
   "metadata": {},
   "source": [
    "## 1.6 Be VERY careful when copying"
   ]
  },
  {
   "cell_type": "code",
   "execution_count": 2,
   "id": "8cb04058-3456-44a0-9918-1281b73a7d11",
   "metadata": {},
   "outputs": [],
   "source": [
    "#do not copy lists as below\n",
    "x=[1,2,3]\n",
    "y=x #DONT DO THIS\n",
    "z=x #DONT DO THIS\n",
    "#python will show x y z have the same identity"
   ]
  },
  {
   "cell_type": "code",
   "execution_count": 3,
   "id": "82ecc332-31b3-4c00-a6d3-64df07a3d9c3",
   "metadata": {},
   "outputs": [],
   "source": [
    "#use x.copy() instead to work\n",
    "x=[1,2,3]\n",
    "y=x.copy()\n",
    "z=x.copy()"
   ]
  },
  {
   "cell_type": "code",
   "execution_count": 4,
   "id": "f58d2316-f651-48c2-ae4a-1ffac3382ad8",
   "metadata": {},
   "outputs": [
    {
     "data": {
      "text/plain": [
       "[1, 2, 3]"
      ]
     },
     "execution_count": 4,
     "metadata": {},
     "output_type": "execute_result"
    }
   ],
   "source": [
    "y"
   ]
  },
  {
   "cell_type": "code",
   "execution_count": 5,
   "id": "ef7d7b33-6e3b-4309-adb0-dedaeefc946b",
   "metadata": {},
   "outputs": [
    {
     "data": {
      "text/plain": [
       "[1, 2, 3]"
      ]
     },
     "execution_count": 5,
     "metadata": {},
     "output_type": "execute_result"
    }
   ],
   "source": [
    "z"
   ]
  }
 ],
 "metadata": {
  "kernelspec": {
   "display_name": "Python 3 (ipykernel)",
   "language": "python",
   "name": "python3"
  },
  "language_info": {
   "codemirror_mode": {
    "name": "ipython",
    "version": 3
   },
   "file_extension": ".py",
   "mimetype": "text/x-python",
   "name": "python",
   "nbconvert_exporter": "python",
   "pygments_lexer": "ipython3",
   "version": "3.11.5"
  },
  "toc": {
   "base_numbering": 1,
   "nav_menu": {},
   "number_sections": true,
   "sideBar": true,
   "skip_h1_title": false,
   "title_cell": "Table of Contents",
   "title_sidebar": "Contents",
   "toc_cell": false,
   "toc_position": {},
   "toc_section_display": true,
   "toc_window_display": false
  },
  "vscode": {
   "interpreter": {
    "hash": "31f2aee4e71d21fbe5cf8b01ff0e069b9275f58929596ceb00d14d90e3e16cd6"
   }
  }
 },
 "nbformat": 4,
 "nbformat_minor": 5
}
