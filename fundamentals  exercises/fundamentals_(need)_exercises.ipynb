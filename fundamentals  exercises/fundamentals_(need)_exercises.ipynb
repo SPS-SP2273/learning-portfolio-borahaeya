{
 "cells": [
  {
   "cell_type": "markdown",
   "id": "123456",
   "metadata": {},
   "source": [
    "<div style=\"text-align:left;font-size:2em\"><span style=\"font-weight:bolder;font-size:1.25em\">SP2273 | Learning Portfolio</span><br><br><span style=\"font-weight:bold;color:darkred\">Fundamentals (Need) Exercises</span></div>"
   ]
  },
  {
   "cell_type": "markdown",
   "id": "87eeb6fd",
   "metadata": {},
   "source": [
    "# Exercise 1\n",
    "\n",
    "Python is\n",
    "1. sensitive\n",
    "1. specific\n",
    "1. quirky\n",
    "1. lots of packages"
   ]
  },
  {
   "cell_type": "markdown",
   "id": "2c7666db",
   "metadata": {},
   "source": [
    "# Exercise 2"
   ]
  },
  {
   "cell_type": "code",
   "execution_count": 56,
   "id": "5947f86f",
   "metadata": {},
   "outputs": [
    {
     "name": "stdout",
     "output_type": "stream",
     "text": [
      "[3, 4, 5]\n"
     ]
    }
   ],
   "source": [
    "import numpy as np\n",
    "x, y = 3, 4\n",
    "z = int(np.sqrt(x**2 + y**2))\n",
    "print([x, y, z])"
   ]
  },
  {
   "cell_type": "markdown",
   "id": "b06ef770",
   "metadata": {},
   "source": [
    "# Exercise 3"
   ]
  },
  {
   "cell_type": "markdown",
   "id": "4c8a264f",
   "metadata": {},
   "source": [
    "|  # | Term         | Description |\n",
    "|:--:|:--------------|:-------------|\n",
    "|  1 | Function     | A block of code that performs a specific task            |\n",
    "|  2 | Arguments    |     Value passed to a function when called       |\n",
    "|  3 | Comments     |  Explaination that makes Python code more readable           |\n",
    "|  4 | Indentations | Spaces at the beginning of a code line            |\n",
    "|  5 | Packages     |  Container with various functions to perform specific tasks           |\n",
    "|  6 | .            | Method to access different Python functions and attributes            |\n",
    "|  7 | :            | Designates a block of code            |\n",
    "|  8 | []           | Function that displays data as a 1D list (one line)|\n",
    "|  9 | [[[]]]       | Function that displays data as a 2D list (multiple lines)            |\n",
    "| 10 | {}           | Function to store data as a dictionary            |"
   ]
  },
  {
   "cell_type": "markdown",
   "id": "7e2f6f41",
   "metadata": {},
   "source": [
    "# Exercise 4"
   ]
  },
  {
   "cell_type": "code",
   "execution_count": 7,
   "id": "452b8ffb",
   "metadata": {},
   "outputs": [
    {
     "data": {
      "text/plain": [
       "2.5"
      ]
     },
     "execution_count": 7,
     "metadata": {},
     "output_type": "execute_result"
    }
   ],
   "source": [
    "5/2 #Division of 1st by 2nd number"
   ]
  },
  {
   "cell_type": "code",
   "execution_count": 26,
   "id": "e3cbcc0e",
   "metadata": {},
   "outputs": [
    {
     "data": {
      "text/plain": [
       "2"
      ]
     },
     "execution_count": 26,
     "metadata": {},
     "output_type": "execute_result"
    }
   ],
   "source": [
    "5//2 #Division of 1st by 2nd number, only showing the integer"
   ]
  },
  {
   "cell_type": "code",
   "execution_count": 43,
   "id": "50200c74",
   "metadata": {},
   "outputs": [
    {
     "data": {
      "text/plain": [
       "1"
      ]
     },
     "execution_count": 43,
     "metadata": {},
     "output_type": "execute_result"
    }
   ],
   "source": [
    "5%2 #Division of 1st by 2nd number showing its remainder"
   ]
  }
 ],
 "metadata": {
  "kernelspec": {
   "display_name": "Python 3 (ipykernel)",
   "language": "python",
   "name": "python3"
  },
  "language_info": {
   "codemirror_mode": {
    "name": "ipython",
    "version": 3
   },
   "file_extension": ".py",
   "mimetype": "text/x-python",
   "name": "python",
   "nbconvert_exporter": "python",
   "pygments_lexer": "ipython3",
   "version": "3.11.5"
  },
  "toc": {
   "base_numbering": 1,
   "nav_menu": {},
   "number_sections": true,
   "sideBar": true,
   "skip_h1_title": false,
   "title_cell": "Table of Contents",
   "title_sidebar": "Contents",
   "toc_cell": false,
   "toc_position": {},
   "toc_section_display": true,
   "toc_window_display": false
  },
  "vscode": {
   "interpreter": {
    "hash": "31f2aee4e71d21fbe5cf8b01ff0e069b9275f58929596ceb00d14d90e3e16cd6"
   }
  }
 },
 "nbformat": 4,
 "nbformat_minor": 5
}
