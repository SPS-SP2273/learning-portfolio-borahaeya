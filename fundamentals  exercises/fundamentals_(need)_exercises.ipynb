{
 "cells": [
  {
   "cell_type": "markdown",
   "id": "123456",
   "metadata": {},
   "source": [
    "<div style=\"text-align:left;font-size:2em\"><span style=\"font-weight:bolder;font-size:1.25em\">SP2273 | Learning Portfolio</span><br><br><span style=\"font-weight:bold;color:darkred\">Fundamentals (Need) Exercises</span></div>"
   ]
  },
  {
   "cell_type": "markdown",
   "id": "87eeb6fd",
   "metadata": {},
   "source": [
    "# Exercise 1\n",
    "\n",
    "Python features\n",
    "1. function (print): standard output device\n",
    "1. an interpreter: code is executed line by line\n",
    "1. sensitive: difference in cases (Print, print) are perceived as separate functions\n",
    "\n",
    "   **difference in cases are perceived as separate objects**\n",
    "\n",
    "   **if objects share same names, e.g. print() or print= 10, python only remembers one definition of print**\n",
    "1. comments: makes code more understandable by telling readers its meaning\n",
    "1. = is not ==, = set something equal, == check if something is equal\n",
    "1. *uses 'if' to make decisions: if name is 1, print A; else print B*\n",
    "1. *does not read if there are indentations*\n",
    "\n",
    "   **indentations are important: white space signifies when block codes start/end**\n",
    "1. *English and variables, e.g. (age) prints value of variable age, (\"age\") prints English word age*\n",
    "1. *brackets such as () functions maths, [] lists of data, {} store data in a dictionary*\n",
    "1. lots of packages: to give python additional functions to work with, e.g. math functions\n",
    "1. *the dot (.) indicates ownership, e.g. math.sqrt() sqrt() belongs to math module*"
   ]
  },
  {
   "cell_type": "markdown",
   "id": "2c7666db",
   "metadata": {},
   "source": [
    "# Exercise 2"
   ]
  },
  {
   "cell_type": "code",
   "execution_count": 56,
   "id": "5947f86f",
   "metadata": {},
   "outputs": [
    {
     "name": "stdout",
     "output_type": "stream",
     "text": [
      "[3, 4, 5]\n"
     ]
    }
   ],
   "source": [
    "import numpy as np\n",
    "x, y = 3, 4\n",
    "z = int(np.sqrt(x**2 + y**2))\n",
    "print([x, y, z])"
   ]
  },
  {
   "cell_type": "markdown",
   "id": "b06ef770",
   "metadata": {},
   "source": [
    "# Exercise 3\n",
    "**bolded parts: edited descriptions**"
   ]
  },
  {
   "cell_type": "markdown",
   "id": "4c8a264f",
   "metadata": {},
   "source": [
    "|  # | Term         | Description |\n",
    "|:--:|:--------------|:-------------|\n",
    "|  1 | Function     | A **named** block of code that performs a specific task            |\n",
    "|  2 | Arguments    |     Value passed to a function when called       |\n",
    "|  3 | Comments     |  Explaination that makes Python code more readable           |\n",
    "|  4 | Indentations | Spaces at the beginning of a code line            |\n",
    "|  5 | Packages     | Container with various functions to perform specific tasks           |\n",
    "|  6 | .            | **Signifies ownership**; Method to access different Python functions and attributes **that belong to the relevant object**|\n",
    "|  7 | :            | Designates a block of code            |\n",
    "|  8 | []           | **1D list that displays data (one line)**|\n",
    "|  9 | [[[]]]       | **3D list that displays multiple layers of data (store 3 layers of info; e.g. x, y coordinates and temperature of a country)**            |\n",
    "| 10 | {}           | **Dictionary that stores data**          |"
   ]
  },
  {
   "cell_type": "markdown",
   "id": "7e2f6f41",
   "metadata": {},
   "source": [
    "# Exercise 4"
   ]
  },
  {
   "cell_type": "code",
   "execution_count": 7,
   "id": "452b8ffb",
   "metadata": {},
   "outputs": [
    {
     "data": {
      "text/plain": [
       "2.5"
      ]
     },
     "execution_count": 7,
     "metadata": {},
     "output_type": "execute_result"
    }
   ],
   "source": [
    "5/2 #Division of 1st by 2nd number"
   ]
  },
  {
   "cell_type": "code",
   "execution_count": 26,
   "id": "e3cbcc0e",
   "metadata": {},
   "outputs": [
    {
     "data": {
      "text/plain": [
       "2"
      ]
     },
     "execution_count": 26,
     "metadata": {},
     "output_type": "execute_result"
    }
   ],
   "source": [
    "5//2 #Division of 1st by 2nd number, only showing the integer"
   ]
  },
  {
   "cell_type": "code",
   "execution_count": 43,
   "id": "50200c74",
   "metadata": {},
   "outputs": [
    {
     "data": {
      "text/plain": [
       "1"
      ]
     },
     "execution_count": 43,
     "metadata": {},
     "output_type": "execute_result"
    }
   ],
   "source": [
    "5%2 #Division of 1st by 2nd number showing its remainder"
   ]
  }
 ],
 "metadata": {
  "kernelspec": {
   "display_name": "Python 3 (ipykernel)",
   "language": "python",
   "name": "python3"
  },
  "language_info": {
   "codemirror_mode": {
    "name": "ipython",
    "version": 3
   },
   "file_extension": ".py",
   "mimetype": "text/x-python",
   "name": "python",
   "nbconvert_exporter": "python",
   "pygments_lexer": "ipython3",
   "version": "3.11.5"
  },
  "toc": {
   "base_numbering": 1,
   "nav_menu": {},
   "number_sections": true,
   "sideBar": true,
   "skip_h1_title": false,
   "title_cell": "Table of Contents",
   "title_sidebar": "Contents",
   "toc_cell": false,
   "toc_position": {},
   "toc_section_display": true,
   "toc_window_display": false
  },
  "vscode": {
   "interpreter": {
    "hash": "31f2aee4e71d21fbe5cf8b01ff0e069b9275f58929596ceb00d14d90e3e16cd6"
   }
  }
 },
 "nbformat": 4,
 "nbformat_minor": 5
}
